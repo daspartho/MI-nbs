{
  "nbformat": 4,
  "nbformat_minor": 0,
  "metadata": {
    "colab": {
      "provenance": [],
      "authorship_tag": "ABX9TyNsxi1H7yLGng+tf3bogHbS"
    },
    "kernelspec": {
      "name": "python3",
      "display_name": "Python 3"
    },
    "language_info": {
      "name": "python"
    },
    "accelerator": "GPU",
    "gpuClass": "standard",
    "widgets": {
      "application/vnd.jupyter.widget-state+json": {
        "00a0e12b9f784779818faaeab3ce93bc": {
          "model_module": "@jupyter-widgets/controls",
          "model_name": "HBoxModel",
          "model_module_version": "1.5.0",
          "state": {
            "_dom_classes": [],
            "_model_module": "@jupyter-widgets/controls",
            "_model_module_version": "1.5.0",
            "_model_name": "HBoxModel",
            "_view_count": null,
            "_view_module": "@jupyter-widgets/controls",
            "_view_module_version": "1.5.0",
            "_view_name": "HBoxView",
            "box_style": "",
            "children": [
              "IPY_MODEL_9aa7e2851bb247b1a88a5b6b86f6b46c",
              "IPY_MODEL_d43268abe59041c9ab0771b342ececb1",
              "IPY_MODEL_807cde87f9db42ae8cc27444780acc61"
            ],
            "layout": "IPY_MODEL_2485e1ab66d04be7878df517c4ebe3a3"
          }
        },
        "9aa7e2851bb247b1a88a5b6b86f6b46c": {
          "model_module": "@jupyter-widgets/controls",
          "model_name": "HTMLModel",
          "model_module_version": "1.5.0",
          "state": {
            "_dom_classes": [],
            "_model_module": "@jupyter-widgets/controls",
            "_model_module_version": "1.5.0",
            "_model_name": "HTMLModel",
            "_view_count": null,
            "_view_module": "@jupyter-widgets/controls",
            "_view_module_version": "1.5.0",
            "_view_name": "HTMLView",
            "description": "",
            "description_tooltip": null,
            "layout": "IPY_MODEL_599f108f62fd44cc9ec451eb5566bd17",
            "placeholder": "​",
            "style": "IPY_MODEL_201dc31df6d64fb4b6a33e7b7b983a5a",
            "value": "100%"
          }
        },
        "d43268abe59041c9ab0771b342ececb1": {
          "model_module": "@jupyter-widgets/controls",
          "model_name": "FloatProgressModel",
          "model_module_version": "1.5.0",
          "state": {
            "_dom_classes": [],
            "_model_module": "@jupyter-widgets/controls",
            "_model_module_version": "1.5.0",
            "_model_name": "FloatProgressModel",
            "_view_count": null,
            "_view_module": "@jupyter-widgets/controls",
            "_view_module_version": "1.5.0",
            "_view_name": "ProgressView",
            "bar_style": "success",
            "description": "",
            "description_tooltip": null,
            "layout": "IPY_MODEL_962232175569484bb1f19d18bfaeb4dd",
            "max": 12,
            "min": 0,
            "orientation": "horizontal",
            "style": "IPY_MODEL_561cdf87f10f4abbb9b9181d2b36a642",
            "value": 12
          }
        },
        "807cde87f9db42ae8cc27444780acc61": {
          "model_module": "@jupyter-widgets/controls",
          "model_name": "HTMLModel",
          "model_module_version": "1.5.0",
          "state": {
            "_dom_classes": [],
            "_model_module": "@jupyter-widgets/controls",
            "_model_module_version": "1.5.0",
            "_model_name": "HTMLModel",
            "_view_count": null,
            "_view_module": "@jupyter-widgets/controls",
            "_view_module_version": "1.5.0",
            "_view_name": "HTMLView",
            "description": "",
            "description_tooltip": null,
            "layout": "IPY_MODEL_e743803b6e944708b95f64e21391edc8",
            "placeholder": "​",
            "style": "IPY_MODEL_7da97e303a854d838cd1a9622ad5190d",
            "value": " 12/12 [00:17&lt;00:00,  2.23s/it]"
          }
        },
        "2485e1ab66d04be7878df517c4ebe3a3": {
          "model_module": "@jupyter-widgets/base",
          "model_name": "LayoutModel",
          "model_module_version": "1.2.0",
          "state": {
            "_model_module": "@jupyter-widgets/base",
            "_model_module_version": "1.2.0",
            "_model_name": "LayoutModel",
            "_view_count": null,
            "_view_module": "@jupyter-widgets/base",
            "_view_module_version": "1.2.0",
            "_view_name": "LayoutView",
            "align_content": null,
            "align_items": null,
            "align_self": null,
            "border": null,
            "bottom": null,
            "display": null,
            "flex": null,
            "flex_flow": null,
            "grid_area": null,
            "grid_auto_columns": null,
            "grid_auto_flow": null,
            "grid_auto_rows": null,
            "grid_column": null,
            "grid_gap": null,
            "grid_row": null,
            "grid_template_areas": null,
            "grid_template_columns": null,
            "grid_template_rows": null,
            "height": null,
            "justify_content": null,
            "justify_items": null,
            "left": null,
            "margin": null,
            "max_height": null,
            "max_width": null,
            "min_height": null,
            "min_width": null,
            "object_fit": null,
            "object_position": null,
            "order": null,
            "overflow": null,
            "overflow_x": null,
            "overflow_y": null,
            "padding": null,
            "right": null,
            "top": null,
            "visibility": null,
            "width": null
          }
        },
        "599f108f62fd44cc9ec451eb5566bd17": {
          "model_module": "@jupyter-widgets/base",
          "model_name": "LayoutModel",
          "model_module_version": "1.2.0",
          "state": {
            "_model_module": "@jupyter-widgets/base",
            "_model_module_version": "1.2.0",
            "_model_name": "LayoutModel",
            "_view_count": null,
            "_view_module": "@jupyter-widgets/base",
            "_view_module_version": "1.2.0",
            "_view_name": "LayoutView",
            "align_content": null,
            "align_items": null,
            "align_self": null,
            "border": null,
            "bottom": null,
            "display": null,
            "flex": null,
            "flex_flow": null,
            "grid_area": null,
            "grid_auto_columns": null,
            "grid_auto_flow": null,
            "grid_auto_rows": null,
            "grid_column": null,
            "grid_gap": null,
            "grid_row": null,
            "grid_template_areas": null,
            "grid_template_columns": null,
            "grid_template_rows": null,
            "height": null,
            "justify_content": null,
            "justify_items": null,
            "left": null,
            "margin": null,
            "max_height": null,
            "max_width": null,
            "min_height": null,
            "min_width": null,
            "object_fit": null,
            "object_position": null,
            "order": null,
            "overflow": null,
            "overflow_x": null,
            "overflow_y": null,
            "padding": null,
            "right": null,
            "top": null,
            "visibility": null,
            "width": null
          }
        },
        "201dc31df6d64fb4b6a33e7b7b983a5a": {
          "model_module": "@jupyter-widgets/controls",
          "model_name": "DescriptionStyleModel",
          "model_module_version": "1.5.0",
          "state": {
            "_model_module": "@jupyter-widgets/controls",
            "_model_module_version": "1.5.0",
            "_model_name": "DescriptionStyleModel",
            "_view_count": null,
            "_view_module": "@jupyter-widgets/base",
            "_view_module_version": "1.2.0",
            "_view_name": "StyleView",
            "description_width": ""
          }
        },
        "962232175569484bb1f19d18bfaeb4dd": {
          "model_module": "@jupyter-widgets/base",
          "model_name": "LayoutModel",
          "model_module_version": "1.2.0",
          "state": {
            "_model_module": "@jupyter-widgets/base",
            "_model_module_version": "1.2.0",
            "_model_name": "LayoutModel",
            "_view_count": null,
            "_view_module": "@jupyter-widgets/base",
            "_view_module_version": "1.2.0",
            "_view_name": "LayoutView",
            "align_content": null,
            "align_items": null,
            "align_self": null,
            "border": null,
            "bottom": null,
            "display": null,
            "flex": null,
            "flex_flow": null,
            "grid_area": null,
            "grid_auto_columns": null,
            "grid_auto_flow": null,
            "grid_auto_rows": null,
            "grid_column": null,
            "grid_gap": null,
            "grid_row": null,
            "grid_template_areas": null,
            "grid_template_columns": null,
            "grid_template_rows": null,
            "height": null,
            "justify_content": null,
            "justify_items": null,
            "left": null,
            "margin": null,
            "max_height": null,
            "max_width": null,
            "min_height": null,
            "min_width": null,
            "object_fit": null,
            "object_position": null,
            "order": null,
            "overflow": null,
            "overflow_x": null,
            "overflow_y": null,
            "padding": null,
            "right": null,
            "top": null,
            "visibility": null,
            "width": null
          }
        },
        "561cdf87f10f4abbb9b9181d2b36a642": {
          "model_module": "@jupyter-widgets/controls",
          "model_name": "ProgressStyleModel",
          "model_module_version": "1.5.0",
          "state": {
            "_model_module": "@jupyter-widgets/controls",
            "_model_module_version": "1.5.0",
            "_model_name": "ProgressStyleModel",
            "_view_count": null,
            "_view_module": "@jupyter-widgets/base",
            "_view_module_version": "1.2.0",
            "_view_name": "StyleView",
            "bar_color": null,
            "description_width": ""
          }
        },
        "e743803b6e944708b95f64e21391edc8": {
          "model_module": "@jupyter-widgets/base",
          "model_name": "LayoutModel",
          "model_module_version": "1.2.0",
          "state": {
            "_model_module": "@jupyter-widgets/base",
            "_model_module_version": "1.2.0",
            "_model_name": "LayoutModel",
            "_view_count": null,
            "_view_module": "@jupyter-widgets/base",
            "_view_module_version": "1.2.0",
            "_view_name": "LayoutView",
            "align_content": null,
            "align_items": null,
            "align_self": null,
            "border": null,
            "bottom": null,
            "display": null,
            "flex": null,
            "flex_flow": null,
            "grid_area": null,
            "grid_auto_columns": null,
            "grid_auto_flow": null,
            "grid_auto_rows": null,
            "grid_column": null,
            "grid_gap": null,
            "grid_row": null,
            "grid_template_areas": null,
            "grid_template_columns": null,
            "grid_template_rows": null,
            "height": null,
            "justify_content": null,
            "justify_items": null,
            "left": null,
            "margin": null,
            "max_height": null,
            "max_width": null,
            "min_height": null,
            "min_width": null,
            "object_fit": null,
            "object_position": null,
            "order": null,
            "overflow": null,
            "overflow_x": null,
            "overflow_y": null,
            "padding": null,
            "right": null,
            "top": null,
            "visibility": null,
            "width": null
          }
        },
        "7da97e303a854d838cd1a9622ad5190d": {
          "model_module": "@jupyter-widgets/controls",
          "model_name": "DescriptionStyleModel",
          "model_module_version": "1.5.0",
          "state": {
            "_model_module": "@jupyter-widgets/controls",
            "_model_module_version": "1.5.0",
            "_model_name": "DescriptionStyleModel",
            "_view_count": null,
            "_view_module": "@jupyter-widgets/base",
            "_view_module_version": "1.2.0",
            "_view_name": "StyleView",
            "description_width": ""
          }
        },
        "ef050db117b044b09ba22092c4f8cb5a": {
          "model_module": "@jupyter-widgets/controls",
          "model_name": "HBoxModel",
          "model_module_version": "1.5.0",
          "state": {
            "_dom_classes": [],
            "_model_module": "@jupyter-widgets/controls",
            "_model_module_version": "1.5.0",
            "_model_name": "HBoxModel",
            "_view_count": null,
            "_view_module": "@jupyter-widgets/controls",
            "_view_module_version": "1.5.0",
            "_view_name": "HBoxView",
            "box_style": "",
            "children": [
              "IPY_MODEL_30c01165a37f423891e1b447713ad15f",
              "IPY_MODEL_0f15aa0c17e443af85a0f3b4a3160020",
              "IPY_MODEL_a06183e0d1fb421eb2e8e357153f9e91"
            ],
            "layout": "IPY_MODEL_be6ae130de4944ed9fa095626eb18181"
          }
        },
        "30c01165a37f423891e1b447713ad15f": {
          "model_module": "@jupyter-widgets/controls",
          "model_name": "HTMLModel",
          "model_module_version": "1.5.0",
          "state": {
            "_dom_classes": [],
            "_model_module": "@jupyter-widgets/controls",
            "_model_module_version": "1.5.0",
            "_model_name": "HTMLModel",
            "_view_count": null,
            "_view_module": "@jupyter-widgets/controls",
            "_view_module_version": "1.5.0",
            "_view_name": "HTMLView",
            "description": "",
            "description_tooltip": null,
            "layout": "IPY_MODEL_41ea4ffd5f4941a8b6a746557ef0ef21",
            "placeholder": "​",
            "style": "IPY_MODEL_7570e4fb45154fa489c4178cd07e258a",
            "value": "100%"
          }
        },
        "0f15aa0c17e443af85a0f3b4a3160020": {
          "model_module": "@jupyter-widgets/controls",
          "model_name": "FloatProgressModel",
          "model_module_version": "1.5.0",
          "state": {
            "_dom_classes": [],
            "_model_module": "@jupyter-widgets/controls",
            "_model_module_version": "1.5.0",
            "_model_name": "FloatProgressModel",
            "_view_count": null,
            "_view_module": "@jupyter-widgets/controls",
            "_view_module_version": "1.5.0",
            "_view_name": "ProgressView",
            "bar_style": "success",
            "description": "",
            "description_tooltip": null,
            "layout": "IPY_MODEL_d994a1e4346b468aa3e6d6c289bb756e",
            "max": 12,
            "min": 0,
            "orientation": "horizontal",
            "style": "IPY_MODEL_2e0e3f36d7d74362bdbc9adae0520e3f",
            "value": 12
          }
        },
        "a06183e0d1fb421eb2e8e357153f9e91": {
          "model_module": "@jupyter-widgets/controls",
          "model_name": "HTMLModel",
          "model_module_version": "1.5.0",
          "state": {
            "_dom_classes": [],
            "_model_module": "@jupyter-widgets/controls",
            "_model_module_version": "1.5.0",
            "_model_name": "HTMLModel",
            "_view_count": null,
            "_view_module": "@jupyter-widgets/controls",
            "_view_module_version": "1.5.0",
            "_view_name": "HTMLView",
            "description": "",
            "description_tooltip": null,
            "layout": "IPY_MODEL_f60c978b5d984286a582af77affa59dc",
            "placeholder": "​",
            "style": "IPY_MODEL_7db923d2296a4fc994d48da8bd5b16a0",
            "value": " 12/12 [00:12&lt;00:00,  1.16it/s]"
          }
        },
        "be6ae130de4944ed9fa095626eb18181": {
          "model_module": "@jupyter-widgets/base",
          "model_name": "LayoutModel",
          "model_module_version": "1.2.0",
          "state": {
            "_model_module": "@jupyter-widgets/base",
            "_model_module_version": "1.2.0",
            "_model_name": "LayoutModel",
            "_view_count": null,
            "_view_module": "@jupyter-widgets/base",
            "_view_module_version": "1.2.0",
            "_view_name": "LayoutView",
            "align_content": null,
            "align_items": null,
            "align_self": null,
            "border": null,
            "bottom": null,
            "display": null,
            "flex": null,
            "flex_flow": null,
            "grid_area": null,
            "grid_auto_columns": null,
            "grid_auto_flow": null,
            "grid_auto_rows": null,
            "grid_column": null,
            "grid_gap": null,
            "grid_row": null,
            "grid_template_areas": null,
            "grid_template_columns": null,
            "grid_template_rows": null,
            "height": null,
            "justify_content": null,
            "justify_items": null,
            "left": null,
            "margin": null,
            "max_height": null,
            "max_width": null,
            "min_height": null,
            "min_width": null,
            "object_fit": null,
            "object_position": null,
            "order": null,
            "overflow": null,
            "overflow_x": null,
            "overflow_y": null,
            "padding": null,
            "right": null,
            "top": null,
            "visibility": null,
            "width": null
          }
        },
        "41ea4ffd5f4941a8b6a746557ef0ef21": {
          "model_module": "@jupyter-widgets/base",
          "model_name": "LayoutModel",
          "model_module_version": "1.2.0",
          "state": {
            "_model_module": "@jupyter-widgets/base",
            "_model_module_version": "1.2.0",
            "_model_name": "LayoutModel",
            "_view_count": null,
            "_view_module": "@jupyter-widgets/base",
            "_view_module_version": "1.2.0",
            "_view_name": "LayoutView",
            "align_content": null,
            "align_items": null,
            "align_self": null,
            "border": null,
            "bottom": null,
            "display": null,
            "flex": null,
            "flex_flow": null,
            "grid_area": null,
            "grid_auto_columns": null,
            "grid_auto_flow": null,
            "grid_auto_rows": null,
            "grid_column": null,
            "grid_gap": null,
            "grid_row": null,
            "grid_template_areas": null,
            "grid_template_columns": null,
            "grid_template_rows": null,
            "height": null,
            "justify_content": null,
            "justify_items": null,
            "left": null,
            "margin": null,
            "max_height": null,
            "max_width": null,
            "min_height": null,
            "min_width": null,
            "object_fit": null,
            "object_position": null,
            "order": null,
            "overflow": null,
            "overflow_x": null,
            "overflow_y": null,
            "padding": null,
            "right": null,
            "top": null,
            "visibility": null,
            "width": null
          }
        },
        "7570e4fb45154fa489c4178cd07e258a": {
          "model_module": "@jupyter-widgets/controls",
          "model_name": "DescriptionStyleModel",
          "model_module_version": "1.5.0",
          "state": {
            "_model_module": "@jupyter-widgets/controls",
            "_model_module_version": "1.5.0",
            "_model_name": "DescriptionStyleModel",
            "_view_count": null,
            "_view_module": "@jupyter-widgets/base",
            "_view_module_version": "1.2.0",
            "_view_name": "StyleView",
            "description_width": ""
          }
        },
        "d994a1e4346b468aa3e6d6c289bb756e": {
          "model_module": "@jupyter-widgets/base",
          "model_name": "LayoutModel",
          "model_module_version": "1.2.0",
          "state": {
            "_model_module": "@jupyter-widgets/base",
            "_model_module_version": "1.2.0",
            "_model_name": "LayoutModel",
            "_view_count": null,
            "_view_module": "@jupyter-widgets/base",
            "_view_module_version": "1.2.0",
            "_view_name": "LayoutView",
            "align_content": null,
            "align_items": null,
            "align_self": null,
            "border": null,
            "bottom": null,
            "display": null,
            "flex": null,
            "flex_flow": null,
            "grid_area": null,
            "grid_auto_columns": null,
            "grid_auto_flow": null,
            "grid_auto_rows": null,
            "grid_column": null,
            "grid_gap": null,
            "grid_row": null,
            "grid_template_areas": null,
            "grid_template_columns": null,
            "grid_template_rows": null,
            "height": null,
            "justify_content": null,
            "justify_items": null,
            "left": null,
            "margin": null,
            "max_height": null,
            "max_width": null,
            "min_height": null,
            "min_width": null,
            "object_fit": null,
            "object_position": null,
            "order": null,
            "overflow": null,
            "overflow_x": null,
            "overflow_y": null,
            "padding": null,
            "right": null,
            "top": null,
            "visibility": null,
            "width": null
          }
        },
        "2e0e3f36d7d74362bdbc9adae0520e3f": {
          "model_module": "@jupyter-widgets/controls",
          "model_name": "ProgressStyleModel",
          "model_module_version": "1.5.0",
          "state": {
            "_model_module": "@jupyter-widgets/controls",
            "_model_module_version": "1.5.0",
            "_model_name": "ProgressStyleModel",
            "_view_count": null,
            "_view_module": "@jupyter-widgets/base",
            "_view_module_version": "1.2.0",
            "_view_name": "StyleView",
            "bar_color": null,
            "description_width": ""
          }
        },
        "f60c978b5d984286a582af77affa59dc": {
          "model_module": "@jupyter-widgets/base",
          "model_name": "LayoutModel",
          "model_module_version": "1.2.0",
          "state": {
            "_model_module": "@jupyter-widgets/base",
            "_model_module_version": "1.2.0",
            "_model_name": "LayoutModel",
            "_view_count": null,
            "_view_module": "@jupyter-widgets/base",
            "_view_module_version": "1.2.0",
            "_view_name": "LayoutView",
            "align_content": null,
            "align_items": null,
            "align_self": null,
            "border": null,
            "bottom": null,
            "display": null,
            "flex": null,
            "flex_flow": null,
            "grid_area": null,
            "grid_auto_columns": null,
            "grid_auto_flow": null,
            "grid_auto_rows": null,
            "grid_column": null,
            "grid_gap": null,
            "grid_row": null,
            "grid_template_areas": null,
            "grid_template_columns": null,
            "grid_template_rows": null,
            "height": null,
            "justify_content": null,
            "justify_items": null,
            "left": null,
            "margin": null,
            "max_height": null,
            "max_width": null,
            "min_height": null,
            "min_width": null,
            "object_fit": null,
            "object_position": null,
            "order": null,
            "overflow": null,
            "overflow_x": null,
            "overflow_y": null,
            "padding": null,
            "right": null,
            "top": null,
            "visibility": null,
            "width": null
          }
        },
        "7db923d2296a4fc994d48da8bd5b16a0": {
          "model_module": "@jupyter-widgets/controls",
          "model_name": "DescriptionStyleModel",
          "model_module_version": "1.5.0",
          "state": {
            "_model_module": "@jupyter-widgets/controls",
            "_model_module_version": "1.5.0",
            "_model_name": "DescriptionStyleModel",
            "_view_count": null,
            "_view_module": "@jupyter-widgets/base",
            "_view_module_version": "1.2.0",
            "_view_name": "StyleView",
            "description_width": ""
          }
        },
        "f609c260f0ab4c70a773b507af9bd544": {
          "model_module": "@jupyter-widgets/controls",
          "model_name": "HBoxModel",
          "model_module_version": "1.5.0",
          "state": {
            "_dom_classes": [],
            "_model_module": "@jupyter-widgets/controls",
            "_model_module_version": "1.5.0",
            "_model_name": "HBoxModel",
            "_view_count": null,
            "_view_module": "@jupyter-widgets/controls",
            "_view_module_version": "1.5.0",
            "_view_name": "HBoxView",
            "box_style": "",
            "children": [
              "IPY_MODEL_eaf2ddd659ec4c539a98394e1bf095fc",
              "IPY_MODEL_b2df08859bae4153903ab75fc1c65c6f",
              "IPY_MODEL_95e3330723984ec0834c913bd236ff23"
            ],
            "layout": "IPY_MODEL_315da97392f348f4a695726eee49b6a9"
          }
        },
        "eaf2ddd659ec4c539a98394e1bf095fc": {
          "model_module": "@jupyter-widgets/controls",
          "model_name": "HTMLModel",
          "model_module_version": "1.5.0",
          "state": {
            "_dom_classes": [],
            "_model_module": "@jupyter-widgets/controls",
            "_model_module_version": "1.5.0",
            "_model_name": "HTMLModel",
            "_view_count": null,
            "_view_module": "@jupyter-widgets/controls",
            "_view_module_version": "1.5.0",
            "_view_name": "HTMLView",
            "description": "",
            "description_tooltip": null,
            "layout": "IPY_MODEL_cf0ea82d574744c5875ae66d6cdd6ff7",
            "placeholder": "​",
            "style": "IPY_MODEL_794db4fcc8de4a1da81c93f56feb2ea4",
            "value": "100%"
          }
        },
        "b2df08859bae4153903ab75fc1c65c6f": {
          "model_module": "@jupyter-widgets/controls",
          "model_name": "FloatProgressModel",
          "model_module_version": "1.5.0",
          "state": {
            "_dom_classes": [],
            "_model_module": "@jupyter-widgets/controls",
            "_model_module_version": "1.5.0",
            "_model_name": "FloatProgressModel",
            "_view_count": null,
            "_view_module": "@jupyter-widgets/controls",
            "_view_module_version": "1.5.0",
            "_view_name": "ProgressView",
            "bar_style": "success",
            "description": "",
            "description_tooltip": null,
            "layout": "IPY_MODEL_b76842418c5540c4899232275932a23e",
            "max": 12,
            "min": 0,
            "orientation": "horizontal",
            "style": "IPY_MODEL_7de69f6bae284ea2b0a88bad1a984cce",
            "value": 12
          }
        },
        "95e3330723984ec0834c913bd236ff23": {
          "model_module": "@jupyter-widgets/controls",
          "model_name": "HTMLModel",
          "model_module_version": "1.5.0",
          "state": {
            "_dom_classes": [],
            "_model_module": "@jupyter-widgets/controls",
            "_model_module_version": "1.5.0",
            "_model_name": "HTMLModel",
            "_view_count": null,
            "_view_module": "@jupyter-widgets/controls",
            "_view_module_version": "1.5.0",
            "_view_name": "HTMLView",
            "description": "",
            "description_tooltip": null,
            "layout": "IPY_MODEL_f508b4f668c0403b9dc3574201c6a0c1",
            "placeholder": "​",
            "style": "IPY_MODEL_c6e22e927440401693a2c2609a82444d",
            "value": " 12/12 [00:08&lt;00:00,  2.13it/s]"
          }
        },
        "315da97392f348f4a695726eee49b6a9": {
          "model_module": "@jupyter-widgets/base",
          "model_name": "LayoutModel",
          "model_module_version": "1.2.0",
          "state": {
            "_model_module": "@jupyter-widgets/base",
            "_model_module_version": "1.2.0",
            "_model_name": "LayoutModel",
            "_view_count": null,
            "_view_module": "@jupyter-widgets/base",
            "_view_module_version": "1.2.0",
            "_view_name": "LayoutView",
            "align_content": null,
            "align_items": null,
            "align_self": null,
            "border": null,
            "bottom": null,
            "display": null,
            "flex": null,
            "flex_flow": null,
            "grid_area": null,
            "grid_auto_columns": null,
            "grid_auto_flow": null,
            "grid_auto_rows": null,
            "grid_column": null,
            "grid_gap": null,
            "grid_row": null,
            "grid_template_areas": null,
            "grid_template_columns": null,
            "grid_template_rows": null,
            "height": null,
            "justify_content": null,
            "justify_items": null,
            "left": null,
            "margin": null,
            "max_height": null,
            "max_width": null,
            "min_height": null,
            "min_width": null,
            "object_fit": null,
            "object_position": null,
            "order": null,
            "overflow": null,
            "overflow_x": null,
            "overflow_y": null,
            "padding": null,
            "right": null,
            "top": null,
            "visibility": null,
            "width": null
          }
        },
        "cf0ea82d574744c5875ae66d6cdd6ff7": {
          "model_module": "@jupyter-widgets/base",
          "model_name": "LayoutModel",
          "model_module_version": "1.2.0",
          "state": {
            "_model_module": "@jupyter-widgets/base",
            "_model_module_version": "1.2.0",
            "_model_name": "LayoutModel",
            "_view_count": null,
            "_view_module": "@jupyter-widgets/base",
            "_view_module_version": "1.2.0",
            "_view_name": "LayoutView",
            "align_content": null,
            "align_items": null,
            "align_self": null,
            "border": null,
            "bottom": null,
            "display": null,
            "flex": null,
            "flex_flow": null,
            "grid_area": null,
            "grid_auto_columns": null,
            "grid_auto_flow": null,
            "grid_auto_rows": null,
            "grid_column": null,
            "grid_gap": null,
            "grid_row": null,
            "grid_template_areas": null,
            "grid_template_columns": null,
            "grid_template_rows": null,
            "height": null,
            "justify_content": null,
            "justify_items": null,
            "left": null,
            "margin": null,
            "max_height": null,
            "max_width": null,
            "min_height": null,
            "min_width": null,
            "object_fit": null,
            "object_position": null,
            "order": null,
            "overflow": null,
            "overflow_x": null,
            "overflow_y": null,
            "padding": null,
            "right": null,
            "top": null,
            "visibility": null,
            "width": null
          }
        },
        "794db4fcc8de4a1da81c93f56feb2ea4": {
          "model_module": "@jupyter-widgets/controls",
          "model_name": "DescriptionStyleModel",
          "model_module_version": "1.5.0",
          "state": {
            "_model_module": "@jupyter-widgets/controls",
            "_model_module_version": "1.5.0",
            "_model_name": "DescriptionStyleModel",
            "_view_count": null,
            "_view_module": "@jupyter-widgets/base",
            "_view_module_version": "1.2.0",
            "_view_name": "StyleView",
            "description_width": ""
          }
        },
        "b76842418c5540c4899232275932a23e": {
          "model_module": "@jupyter-widgets/base",
          "model_name": "LayoutModel",
          "model_module_version": "1.2.0",
          "state": {
            "_model_module": "@jupyter-widgets/base",
            "_model_module_version": "1.2.0",
            "_model_name": "LayoutModel",
            "_view_count": null,
            "_view_module": "@jupyter-widgets/base",
            "_view_module_version": "1.2.0",
            "_view_name": "LayoutView",
            "align_content": null,
            "align_items": null,
            "align_self": null,
            "border": null,
            "bottom": null,
            "display": null,
            "flex": null,
            "flex_flow": null,
            "grid_area": null,
            "grid_auto_columns": null,
            "grid_auto_flow": null,
            "grid_auto_rows": null,
            "grid_column": null,
            "grid_gap": null,
            "grid_row": null,
            "grid_template_areas": null,
            "grid_template_columns": null,
            "grid_template_rows": null,
            "height": null,
            "justify_content": null,
            "justify_items": null,
            "left": null,
            "margin": null,
            "max_height": null,
            "max_width": null,
            "min_height": null,
            "min_width": null,
            "object_fit": null,
            "object_position": null,
            "order": null,
            "overflow": null,
            "overflow_x": null,
            "overflow_y": null,
            "padding": null,
            "right": null,
            "top": null,
            "visibility": null,
            "width": null
          }
        },
        "7de69f6bae284ea2b0a88bad1a984cce": {
          "model_module": "@jupyter-widgets/controls",
          "model_name": "ProgressStyleModel",
          "model_module_version": "1.5.0",
          "state": {
            "_model_module": "@jupyter-widgets/controls",
            "_model_module_version": "1.5.0",
            "_model_name": "ProgressStyleModel",
            "_view_count": null,
            "_view_module": "@jupyter-widgets/base",
            "_view_module_version": "1.2.0",
            "_view_name": "StyleView",
            "bar_color": null,
            "description_width": ""
          }
        },
        "f508b4f668c0403b9dc3574201c6a0c1": {
          "model_module": "@jupyter-widgets/base",
          "model_name": "LayoutModel",
          "model_module_version": "1.2.0",
          "state": {
            "_model_module": "@jupyter-widgets/base",
            "_model_module_version": "1.2.0",
            "_model_name": "LayoutModel",
            "_view_count": null,
            "_view_module": "@jupyter-widgets/base",
            "_view_module_version": "1.2.0",
            "_view_name": "LayoutView",
            "align_content": null,
            "align_items": null,
            "align_self": null,
            "border": null,
            "bottom": null,
            "display": null,
            "flex": null,
            "flex_flow": null,
            "grid_area": null,
            "grid_auto_columns": null,
            "grid_auto_flow": null,
            "grid_auto_rows": null,
            "grid_column": null,
            "grid_gap": null,
            "grid_row": null,
            "grid_template_areas": null,
            "grid_template_columns": null,
            "grid_template_rows": null,
            "height": null,
            "justify_content": null,
            "justify_items": null,
            "left": null,
            "margin": null,
            "max_height": null,
            "max_width": null,
            "min_height": null,
            "min_width": null,
            "object_fit": null,
            "object_position": null,
            "order": null,
            "overflow": null,
            "overflow_x": null,
            "overflow_y": null,
            "padding": null,
            "right": null,
            "top": null,
            "visibility": null,
            "width": null
          }
        },
        "c6e22e927440401693a2c2609a82444d": {
          "model_module": "@jupyter-widgets/controls",
          "model_name": "DescriptionStyleModel",
          "model_module_version": "1.5.0",
          "state": {
            "_model_module": "@jupyter-widgets/controls",
            "_model_module_version": "1.5.0",
            "_model_name": "DescriptionStyleModel",
            "_view_count": null,
            "_view_module": "@jupyter-widgets/base",
            "_view_module_version": "1.2.0",
            "_view_name": "StyleView",
            "description_width": ""
          }
        }
      }
    }
  },
  "cells": [
    {
      "cell_type": "markdown",
      "source": [
        "### summarising key findings with a bunch of graphs!"
      ],
      "metadata": {
        "id": "H5CFTaECkxts"
      }
    },
    {
      "cell_type": "markdown",
      "source": [
        "### Setup"
      ],
      "metadata": {
        "id": "flCwnX-M4TBn"
      }
    },
    {
      "cell_type": "code",
      "source": [
        "# Janky code to do different setup when run in a Colab notebook vs VSCode\n",
        "DEBUG_MODE = False\n",
        "try:\n",
        "    import google.colab\n",
        "    IN_COLAB = True\n",
        "    print(\"Running as a Colab notebook\")\n",
        "    %pip install git+https://github.com/neelnanda-io/TransformerLens.git\n",
        "    %pip install circuitsvis\n",
        "    \n",
        "    # PySvelte is an unmaintained visualization library, use it as a backup if circuitsvis isn't working\n",
        "    # Install another version of node that makes PySvelte work way faster\n",
        "    !curl -fsSL https://deb.nodesource.com/setup_16.x | sudo -E bash -; sudo apt-get install -y nodejs\n",
        "    %pip install git+https://github.com/neelnanda-io/PySvelte.git\n",
        "except:\n",
        "    IN_COLAB = False\n",
        "    print(\"Running as a Jupyter notebook - intended for development only!\")\n",
        "    from IPython import get_ipython\n",
        "\n",
        "    ipython = get_ipython()\n",
        "    # Code to automatically update the HookedTransformer code as its edited without restarting the kernel\n",
        "    ipython.magic(\"load_ext autoreload\")\n",
        "    ipython.magic(\"autoreload 2\")"
      ],
      "metadata": {
        "id": "O3AODZVK0KR0",
        "outputId": "2bda941a-ff3c-4304-ec68-79e380878210",
        "colab": {
          "base_uri": "https://localhost:8080/"
        }
      },
      "execution_count": 1,
      "outputs": [
        {
          "output_type": "stream",
          "name": "stdout",
          "text": [
            "Running as a Colab notebook\n",
            "Looking in indexes: https://pypi.org/simple, https://us-python.pkg.dev/colab-wheels/public/simple/\n",
            "Collecting git+https://github.com/neelnanda-io/TransformerLens.git\n",
            "  Cloning https://github.com/neelnanda-io/TransformerLens.git to /tmp/pip-req-build-idgjc47e\n",
            "  Running command git clone --filter=blob:none --quiet https://github.com/neelnanda-io/TransformerLens.git /tmp/pip-req-build-idgjc47e\n",
            "  Resolved https://github.com/neelnanda-io/TransformerLens.git to commit 25a9c07cd883f762725f4a5a0cab7b36bc4096cc\n",
            "  Installing build dependencies ... \u001b[?25l\u001b[?25hdone\n",
            "  Getting requirements to build wheel ... \u001b[?25l\u001b[?25hdone\n",
            "  Preparing metadata (pyproject.toml) ... \u001b[?25l\u001b[?25hdone\n",
            "Requirement already satisfied: rich>=12.6.0 in /usr/local/lib/python3.9/dist-packages (from transformer-lens==0.0.0) (13.3.4)\n",
            "Requirement already satisfied: einops>=0.6.0 in /usr/local/lib/python3.9/dist-packages (from transformer-lens==0.0.0) (0.6.1)\n",
            "Requirement already satisfied: tqdm>=4.64.1 in /usr/local/lib/python3.9/dist-packages (from transformer-lens==0.0.0) (4.65.0)\n",
            "Requirement already satisfied: transformers>=4.25.1 in /usr/local/lib/python3.9/dist-packages (from transformer-lens==0.0.0) (4.28.1)\n",
            "Requirement already satisfied: wandb>=0.13.5 in /usr/local/lib/python3.9/dist-packages (from transformer-lens==0.0.0) (0.15.0)\n",
            "Requirement already satisfied: pandas>=1.1.5 in /usr/local/lib/python3.9/dist-packages (from transformer-lens==0.0.0) (1.5.3)\n",
            "Requirement already satisfied: numpy>=1.21 in /usr/local/lib/python3.9/dist-packages (from transformer-lens==0.0.0) (1.22.4)\n",
            "Requirement already satisfied: fancy-einsum>=0.0.3 in /usr/local/lib/python3.9/dist-packages (from transformer-lens==0.0.0) (0.0.3)\n",
            "Requirement already satisfied: datasets>=2.7.1 in /usr/local/lib/python3.9/dist-packages (from transformer-lens==0.0.0) (2.11.0)\n",
            "Requirement already satisfied: torch>=1.10 in /usr/local/lib/python3.9/dist-packages (from transformer-lens==0.0.0) (1.13.1)\n",
            "Requirement already satisfied: jaxtyping>=0.2.11 in /usr/local/lib/python3.9/dist-packages (from transformer-lens==0.0.0) (0.2.15)\n",
            "Requirement already satisfied: fsspec[http]>=2021.11.1 in /usr/local/lib/python3.9/dist-packages (from datasets>=2.7.1->transformer-lens==0.0.0) (2023.4.0)\n",
            "Requirement already satisfied: xxhash in /usr/local/lib/python3.9/dist-packages (from datasets>=2.7.1->transformer-lens==0.0.0) (3.2.0)\n",
            "Requirement already satisfied: responses<0.19 in /usr/local/lib/python3.9/dist-packages (from datasets>=2.7.1->transformer-lens==0.0.0) (0.18.0)\n",
            "Requirement already satisfied: multiprocess in /usr/local/lib/python3.9/dist-packages (from datasets>=2.7.1->transformer-lens==0.0.0) (0.70.14)\n",
            "Requirement already satisfied: pyarrow>=8.0.0 in /usr/local/lib/python3.9/dist-packages (from datasets>=2.7.1->transformer-lens==0.0.0) (9.0.0)\n",
            "Requirement already satisfied: requests>=2.19.0 in /usr/local/lib/python3.9/dist-packages (from datasets>=2.7.1->transformer-lens==0.0.0) (2.27.1)\n",
            "Requirement already satisfied: dill<0.3.7,>=0.3.0 in /usr/local/lib/python3.9/dist-packages (from datasets>=2.7.1->transformer-lens==0.0.0) (0.3.6)\n",
            "Requirement already satisfied: huggingface-hub<1.0.0,>=0.11.0 in /usr/local/lib/python3.9/dist-packages (from datasets>=2.7.1->transformer-lens==0.0.0) (0.14.1)\n",
            "Requirement already satisfied: pyyaml>=5.1 in /usr/local/lib/python3.9/dist-packages (from datasets>=2.7.1->transformer-lens==0.0.0) (6.0)\n",
            "Requirement already satisfied: packaging in /usr/local/lib/python3.9/dist-packages (from datasets>=2.7.1->transformer-lens==0.0.0) (23.1)\n",
            "Requirement already satisfied: aiohttp in /usr/local/lib/python3.9/dist-packages (from datasets>=2.7.1->transformer-lens==0.0.0) (3.8.4)\n",
            "Requirement already satisfied: typeguard>=2.13.3 in /usr/local/lib/python3.9/dist-packages (from jaxtyping>=0.2.11->transformer-lens==0.0.0) (2.13.3)\n",
            "Requirement already satisfied: typing-extensions>=3.7.4.1 in /usr/local/lib/python3.9/dist-packages (from jaxtyping>=0.2.11->transformer-lens==0.0.0) (4.5.0)\n",
            "Requirement already satisfied: python-dateutil>=2.8.1 in /usr/local/lib/python3.9/dist-packages (from pandas>=1.1.5->transformer-lens==0.0.0) (2.8.2)\n",
            "Requirement already satisfied: pytz>=2020.1 in /usr/local/lib/python3.9/dist-packages (from pandas>=1.1.5->transformer-lens==0.0.0) (2022.7.1)\n",
            "Requirement already satisfied: pygments<3.0.0,>=2.13.0 in /usr/local/lib/python3.9/dist-packages (from rich>=12.6.0->transformer-lens==0.0.0) (2.14.0)\n",
            "Requirement already satisfied: markdown-it-py<3.0.0,>=2.2.0 in /usr/local/lib/python3.9/dist-packages (from rich>=12.6.0->transformer-lens==0.0.0) (2.2.0)\n",
            "Requirement already satisfied: nvidia-cuda-runtime-cu11==11.7.99 in /usr/local/lib/python3.9/dist-packages (from torch>=1.10->transformer-lens==0.0.0) (11.7.99)\n",
            "Requirement already satisfied: nvidia-cudnn-cu11==8.5.0.96 in /usr/local/lib/python3.9/dist-packages (from torch>=1.10->transformer-lens==0.0.0) (8.5.0.96)\n",
            "Requirement already satisfied: nvidia-cuda-nvrtc-cu11==11.7.99 in /usr/local/lib/python3.9/dist-packages (from torch>=1.10->transformer-lens==0.0.0) (11.7.99)\n",
            "Requirement already satisfied: nvidia-cublas-cu11==11.10.3.66 in /usr/local/lib/python3.9/dist-packages (from torch>=1.10->transformer-lens==0.0.0) (11.10.3.66)\n",
            "Requirement already satisfied: setuptools in /usr/local/lib/python3.9/dist-packages (from nvidia-cublas-cu11==11.10.3.66->torch>=1.10->transformer-lens==0.0.0) (67.7.2)\n",
            "Requirement already satisfied: wheel in /usr/local/lib/python3.9/dist-packages (from nvidia-cublas-cu11==11.10.3.66->torch>=1.10->transformer-lens==0.0.0) (0.40.0)\n",
            "Requirement already satisfied: tokenizers!=0.11.3,<0.14,>=0.11.1 in /usr/local/lib/python3.9/dist-packages (from transformers>=4.25.1->transformer-lens==0.0.0) (0.13.3)\n",
            "Requirement already satisfied: filelock in /usr/local/lib/python3.9/dist-packages (from transformers>=4.25.1->transformer-lens==0.0.0) (3.12.0)\n",
            "Requirement already satisfied: regex!=2019.12.17 in /usr/local/lib/python3.9/dist-packages (from transformers>=4.25.1->transformer-lens==0.0.0) (2022.10.31)\n",
            "Requirement already satisfied: sentry-sdk>=1.0.0 in /usr/local/lib/python3.9/dist-packages (from wandb>=0.13.5->transformer-lens==0.0.0) (1.21.0)\n",
            "Requirement already satisfied: pathtools in /usr/local/lib/python3.9/dist-packages (from wandb>=0.13.5->transformer-lens==0.0.0) (0.1.2)\n",
            "Requirement already satisfied: setproctitle in /usr/local/lib/python3.9/dist-packages (from wandb>=0.13.5->transformer-lens==0.0.0) (1.3.2)\n",
            "Requirement already satisfied: appdirs>=1.4.3 in /usr/local/lib/python3.9/dist-packages (from wandb>=0.13.5->transformer-lens==0.0.0) (1.4.4)\n",
            "Requirement already satisfied: GitPython!=3.1.29,>=1.0.0 in /usr/local/lib/python3.9/dist-packages (from wandb>=0.13.5->transformer-lens==0.0.0) (3.1.31)\n",
            "Requirement already satisfied: psutil>=5.0.0 in /usr/local/lib/python3.9/dist-packages (from wandb>=0.13.5->transformer-lens==0.0.0) (5.9.5)\n",
            "Requirement already satisfied: Click!=8.0.0,>=7.0 in /usr/local/lib/python3.9/dist-packages (from wandb>=0.13.5->transformer-lens==0.0.0) (8.1.3)\n",
            "Requirement already satisfied: protobuf!=4.21.0,<5,>=3.15.0 in /usr/local/lib/python3.9/dist-packages (from wandb>=0.13.5->transformer-lens==0.0.0) (3.20.3)\n",
            "Requirement already satisfied: docker-pycreds>=0.4.0 in /usr/local/lib/python3.9/dist-packages (from wandb>=0.13.5->transformer-lens==0.0.0) (0.4.0)\n",
            "Requirement already satisfied: six>=1.4.0 in /usr/local/lib/python3.9/dist-packages (from docker-pycreds>=0.4.0->wandb>=0.13.5->transformer-lens==0.0.0) (1.16.0)\n",
            "Requirement already satisfied: charset-normalizer<4.0,>=2.0 in /usr/local/lib/python3.9/dist-packages (from aiohttp->datasets>=2.7.1->transformer-lens==0.0.0) (2.0.12)\n",
            "Requirement already satisfied: frozenlist>=1.1.1 in /usr/local/lib/python3.9/dist-packages (from aiohttp->datasets>=2.7.1->transformer-lens==0.0.0) (1.3.3)\n",
            "Requirement already satisfied: attrs>=17.3.0 in /usr/local/lib/python3.9/dist-packages (from aiohttp->datasets>=2.7.1->transformer-lens==0.0.0) (23.1.0)\n",
            "Requirement already satisfied: aiosignal>=1.1.2 in /usr/local/lib/python3.9/dist-packages (from aiohttp->datasets>=2.7.1->transformer-lens==0.0.0) (1.3.1)\n",
            "Requirement already satisfied: yarl<2.0,>=1.0 in /usr/local/lib/python3.9/dist-packages (from aiohttp->datasets>=2.7.1->transformer-lens==0.0.0) (1.9.2)\n",
            "Requirement already satisfied: async-timeout<5.0,>=4.0.0a3 in /usr/local/lib/python3.9/dist-packages (from aiohttp->datasets>=2.7.1->transformer-lens==0.0.0) (4.0.2)\n",
            "Requirement already satisfied: multidict<7.0,>=4.5 in /usr/local/lib/python3.9/dist-packages (from aiohttp->datasets>=2.7.1->transformer-lens==0.0.0) (6.0.4)\n",
            "Requirement already satisfied: gitdb<5,>=4.0.1 in /usr/local/lib/python3.9/dist-packages (from GitPython!=3.1.29,>=1.0.0->wandb>=0.13.5->transformer-lens==0.0.0) (4.0.10)\n",
            "Requirement already satisfied: mdurl~=0.1 in /usr/local/lib/python3.9/dist-packages (from markdown-it-py<3.0.0,>=2.2.0->rich>=12.6.0->transformer-lens==0.0.0) (0.1.2)\n",
            "Requirement already satisfied: certifi>=2017.4.17 in /usr/local/lib/python3.9/dist-packages (from requests>=2.19.0->datasets>=2.7.1->transformer-lens==0.0.0) (2022.12.7)\n",
            "Requirement already satisfied: urllib3<1.27,>=1.21.1 in /usr/local/lib/python3.9/dist-packages (from requests>=2.19.0->datasets>=2.7.1->transformer-lens==0.0.0) (1.26.15)\n",
            "Requirement already satisfied: idna<4,>=2.5 in /usr/local/lib/python3.9/dist-packages (from requests>=2.19.0->datasets>=2.7.1->transformer-lens==0.0.0) (3.4)\n",
            "Requirement already satisfied: smmap<6,>=3.0.1 in /usr/local/lib/python3.9/dist-packages (from gitdb<5,>=4.0.1->GitPython!=3.1.29,>=1.0.0->wandb>=0.13.5->transformer-lens==0.0.0) (5.0.0)\n",
            "Looking in indexes: https://pypi.org/simple, https://us-python.pkg.dev/colab-wheels/public/simple/\n",
            "Requirement already satisfied: circuitsvis in /usr/local/lib/python3.9/dist-packages (1.39.1)\n",
            "Requirement already satisfied: torch<2.0,>=1.10 in /usr/local/lib/python3.9/dist-packages (from circuitsvis) (1.13.1)\n",
            "Requirement already satisfied: numpy<2.0,>=1.21 in /usr/local/lib/python3.9/dist-packages (from circuitsvis) (1.22.4)\n",
            "Requirement already satisfied: importlib-metadata<6.0.0,>=5.1.0 in /usr/local/lib/python3.9/dist-packages (from circuitsvis) (5.2.0)\n",
            "Requirement already satisfied: zipp>=0.5 in /usr/local/lib/python3.9/dist-packages (from importlib-metadata<6.0.0,>=5.1.0->circuitsvis) (3.15.0)\n",
            "Requirement already satisfied: nvidia-cuda-nvrtc-cu11==11.7.99 in /usr/local/lib/python3.9/dist-packages (from torch<2.0,>=1.10->circuitsvis) (11.7.99)\n",
            "Requirement already satisfied: nvidia-cuda-runtime-cu11==11.7.99 in /usr/local/lib/python3.9/dist-packages (from torch<2.0,>=1.10->circuitsvis) (11.7.99)\n",
            "Requirement already satisfied: nvidia-cudnn-cu11==8.5.0.96 in /usr/local/lib/python3.9/dist-packages (from torch<2.0,>=1.10->circuitsvis) (8.5.0.96)\n",
            "Requirement already satisfied: nvidia-cublas-cu11==11.10.3.66 in /usr/local/lib/python3.9/dist-packages (from torch<2.0,>=1.10->circuitsvis) (11.10.3.66)\n",
            "Requirement already satisfied: typing-extensions in /usr/local/lib/python3.9/dist-packages (from torch<2.0,>=1.10->circuitsvis) (4.5.0)\n",
            "Requirement already satisfied: setuptools in /usr/local/lib/python3.9/dist-packages (from nvidia-cublas-cu11==11.10.3.66->torch<2.0,>=1.10->circuitsvis) (67.7.2)\n",
            "Requirement already satisfied: wheel in /usr/local/lib/python3.9/dist-packages (from nvidia-cublas-cu11==11.10.3.66->torch<2.0,>=1.10->circuitsvis) (0.40.0)\n",
            "\n",
            "## Installing the NodeSource Node.js 16.x repo...\n",
            "\n",
            "\n",
            "## Populating apt-get cache...\n",
            "\n",
            "+ apt-get update\n",
            "Hit:1 https://cloud.r-project.org/bin/linux/ubuntu focal-cran40/ InRelease\n",
            "Hit:2 https://developer.download.nvidia.com/compute/cuda/repos/ubuntu2004/x86_64  InRelease\n",
            "Hit:3 https://deb.nodesource.com/node_16.x focal InRelease\n",
            "Get:4 http://ppa.launchpad.net/c2d4u.team/c2d4u4.0+/ubuntu focal InRelease [18.1 kB]\n",
            "Hit:5 http://security.ubuntu.com/ubuntu focal-security InRelease\n",
            "Hit:6 http://archive.ubuntu.com/ubuntu focal InRelease\n",
            "Hit:7 http://archive.ubuntu.com/ubuntu focal-updates InRelease\n",
            "Hit:8 http://archive.ubuntu.com/ubuntu focal-backports InRelease\n",
            "Hit:9 http://ppa.launchpad.net/cran/libgit2/ubuntu focal InRelease\n",
            "Hit:10 http://ppa.launchpad.net/deadsnakes/ppa/ubuntu focal InRelease\n",
            "Hit:11 http://ppa.launchpad.net/graphics-drivers/ppa/ubuntu focal InRelease\n",
            "Hit:12 http://ppa.launchpad.net/ubuntugis/ppa/ubuntu focal InRelease\n",
            "Get:13 http://ppa.launchpad.net/c2d4u.team/c2d4u4.0+/ubuntu focal/main Sources [2,554 kB]\n",
            "Get:14 http://ppa.launchpad.net/c2d4u.team/c2d4u4.0+/ubuntu focal/main amd64 Packages [1,206 kB]\n",
            "Fetched 3,778 kB in 4s (925 kB/s)\n",
            "Reading package lists... Done\n",
            "\n",
            "## Confirming \"focal\" is supported...\n",
            "\n",
            "+ curl -sLf -o /dev/null 'https://deb.nodesource.com/node_16.x/dists/focal/Release'\n",
            "\n",
            "## Adding the NodeSource signing key to your keyring...\n",
            "\n",
            "+ curl -s https://deb.nodesource.com/gpgkey/nodesource.gpg.key | gpg --dearmor | tee /usr/share/keyrings/nodesource.gpg >/dev/null\n",
            "\n",
            "## Creating apt sources list file for the NodeSource Node.js 16.x repo...\n",
            "\n",
            "+ echo 'deb [signed-by=/usr/share/keyrings/nodesource.gpg] https://deb.nodesource.com/node_16.x focal main' > /etc/apt/sources.list.d/nodesource.list\n",
            "+ echo 'deb-src [signed-by=/usr/share/keyrings/nodesource.gpg] https://deb.nodesource.com/node_16.x focal main' >> /etc/apt/sources.list.d/nodesource.list\n",
            "\n",
            "## Running `apt-get update` for you...\n",
            "\n",
            "+ apt-get update\n",
            "Hit:1 https://cloud.r-project.org/bin/linux/ubuntu focal-cran40/ InRelease\n",
            "Hit:2 https://deb.nodesource.com/node_16.x focal InRelease\n",
            "Hit:3 https://developer.download.nvidia.com/compute/cuda/repos/ubuntu2004/x86_64  InRelease\n",
            "Hit:4 http://ppa.launchpad.net/c2d4u.team/c2d4u4.0+/ubuntu focal InRelease\n",
            "Hit:5 http://security.ubuntu.com/ubuntu focal-security InRelease\n",
            "Hit:6 http://archive.ubuntu.com/ubuntu focal InRelease\n",
            "Hit:7 http://archive.ubuntu.com/ubuntu focal-updates InRelease\n",
            "Hit:8 http://ppa.launchpad.net/cran/libgit2/ubuntu focal InRelease\n",
            "Hit:9 http://archive.ubuntu.com/ubuntu focal-backports InRelease\n",
            "Hit:10 http://ppa.launchpad.net/deadsnakes/ppa/ubuntu focal InRelease\n",
            "Hit:11 http://ppa.launchpad.net/graphics-drivers/ppa/ubuntu focal InRelease\n",
            "Hit:12 http://ppa.launchpad.net/ubuntugis/ppa/ubuntu focal InRelease\n",
            "Reading package lists... Done\n",
            "\n",
            "## Run `\u001b[1msudo apt-get install -y nodejs\u001b[m` to install Node.js 16.x and npm\n",
            "## You may also need development tools to build native addons:\n",
            "     sudo apt-get install gcc g++ make\n",
            "## To install the Yarn package manager, run:\n",
            "     curl -sL https://dl.yarnpkg.com/debian/pubkey.gpg | gpg --dearmor | sudo tee /usr/share/keyrings/yarnkey.gpg >/dev/null\n",
            "     echo \"deb [signed-by=/usr/share/keyrings/yarnkey.gpg] https://dl.yarnpkg.com/debian stable main\" | sudo tee /etc/apt/sources.list.d/yarn.list\n",
            "     sudo apt-get update && sudo apt-get install yarn\n",
            "\n",
            "\n",
            "Reading package lists... Done\n",
            "Building dependency tree       \n",
            "Reading state information... Done\n",
            "nodejs is already the newest version (16.20.0-deb-1nodesource1).\n",
            "0 upgraded, 0 newly installed, 0 to remove and 25 not upgraded.\n",
            "Looking in indexes: https://pypi.org/simple, https://us-python.pkg.dev/colab-wheels/public/simple/\n",
            "Collecting git+https://github.com/neelnanda-io/PySvelte.git\n",
            "  Cloning https://github.com/neelnanda-io/PySvelte.git to /tmp/pip-req-build-uaf_o26b\n",
            "  Running command git clone --filter=blob:none --quiet https://github.com/neelnanda-io/PySvelte.git /tmp/pip-req-build-uaf_o26b\n",
            "  Resolved https://github.com/neelnanda-io/PySvelte.git to commit 8410eae58503df0a293857a61a1a11ca35f86525\n",
            "  Preparing metadata (setup.py) ... \u001b[?25l\u001b[?25hdone\n",
            "Requirement already satisfied: einops in /usr/local/lib/python3.9/dist-packages (from PySvelte==1.0.0) (0.6.1)\n",
            "Requirement already satisfied: numpy in /usr/local/lib/python3.9/dist-packages (from PySvelte==1.0.0) (1.22.4)\n",
            "Requirement already satisfied: torch in /usr/local/lib/python3.9/dist-packages (from PySvelte==1.0.0) (1.13.1)\n",
            "Requirement already satisfied: datasets in /usr/local/lib/python3.9/dist-packages (from PySvelte==1.0.0) (2.11.0)\n",
            "Requirement already satisfied: transformers in /usr/local/lib/python3.9/dist-packages (from PySvelte==1.0.0) (4.28.1)\n",
            "Requirement already satisfied: tqdm in /usr/local/lib/python3.9/dist-packages (from PySvelte==1.0.0) (4.65.0)\n",
            "Requirement already satisfied: pandas in /usr/local/lib/python3.9/dist-packages (from PySvelte==1.0.0) (1.5.3)\n",
            "Requirement already satisfied: typeguard~=2.0 in /usr/local/lib/python3.9/dist-packages (from PySvelte==1.0.0) (2.13.3)\n",
            "Requirement already satisfied: dill<0.3.7,>=0.3.0 in /usr/local/lib/python3.9/dist-packages (from datasets->PySvelte==1.0.0) (0.3.6)\n",
            "Requirement already satisfied: pyarrow>=8.0.0 in /usr/local/lib/python3.9/dist-packages (from datasets->PySvelte==1.0.0) (9.0.0)\n",
            "Requirement already satisfied: fsspec[http]>=2021.11.1 in /usr/local/lib/python3.9/dist-packages (from datasets->PySvelte==1.0.0) (2023.4.0)\n",
            "Requirement already satisfied: packaging in /usr/local/lib/python3.9/dist-packages (from datasets->PySvelte==1.0.0) (23.1)\n",
            "Requirement already satisfied: responses<0.19 in /usr/local/lib/python3.9/dist-packages (from datasets->PySvelte==1.0.0) (0.18.0)\n",
            "Requirement already satisfied: aiohttp in /usr/local/lib/python3.9/dist-packages (from datasets->PySvelte==1.0.0) (3.8.4)\n",
            "Requirement already satisfied: huggingface-hub<1.0.0,>=0.11.0 in /usr/local/lib/python3.9/dist-packages (from datasets->PySvelte==1.0.0) (0.14.1)\n",
            "Requirement already satisfied: pyyaml>=5.1 in /usr/local/lib/python3.9/dist-packages (from datasets->PySvelte==1.0.0) (6.0)\n",
            "Requirement already satisfied: xxhash in /usr/local/lib/python3.9/dist-packages (from datasets->PySvelte==1.0.0) (3.2.0)\n",
            "Requirement already satisfied: multiprocess in /usr/local/lib/python3.9/dist-packages (from datasets->PySvelte==1.0.0) (0.70.14)\n",
            "Requirement already satisfied: requests>=2.19.0 in /usr/local/lib/python3.9/dist-packages (from datasets->PySvelte==1.0.0) (2.27.1)\n",
            "Requirement already satisfied: pytz>=2020.1 in /usr/local/lib/python3.9/dist-packages (from pandas->PySvelte==1.0.0) (2022.7.1)\n",
            "Requirement already satisfied: python-dateutil>=2.8.1 in /usr/local/lib/python3.9/dist-packages (from pandas->PySvelte==1.0.0) (2.8.2)\n",
            "Requirement already satisfied: nvidia-cublas-cu11==11.10.3.66 in /usr/local/lib/python3.9/dist-packages (from torch->PySvelte==1.0.0) (11.10.3.66)\n",
            "Requirement already satisfied: nvidia-cuda-runtime-cu11==11.7.99 in /usr/local/lib/python3.9/dist-packages (from torch->PySvelte==1.0.0) (11.7.99)\n",
            "Requirement already satisfied: nvidia-cudnn-cu11==8.5.0.96 in /usr/local/lib/python3.9/dist-packages (from torch->PySvelte==1.0.0) (8.5.0.96)\n",
            "Requirement already satisfied: typing-extensions in /usr/local/lib/python3.9/dist-packages (from torch->PySvelte==1.0.0) (4.5.0)\n",
            "Requirement already satisfied: nvidia-cuda-nvrtc-cu11==11.7.99 in /usr/local/lib/python3.9/dist-packages (from torch->PySvelte==1.0.0) (11.7.99)\n",
            "Requirement already satisfied: wheel in /usr/local/lib/python3.9/dist-packages (from nvidia-cublas-cu11==11.10.3.66->torch->PySvelte==1.0.0) (0.40.0)\n",
            "Requirement already satisfied: setuptools in /usr/local/lib/python3.9/dist-packages (from nvidia-cublas-cu11==11.10.3.66->torch->PySvelte==1.0.0) (67.7.2)\n",
            "Requirement already satisfied: regex!=2019.12.17 in /usr/local/lib/python3.9/dist-packages (from transformers->PySvelte==1.0.0) (2022.10.31)\n",
            "Requirement already satisfied: filelock in /usr/local/lib/python3.9/dist-packages (from transformers->PySvelte==1.0.0) (3.12.0)\n",
            "Requirement already satisfied: tokenizers!=0.11.3,<0.14,>=0.11.1 in /usr/local/lib/python3.9/dist-packages (from transformers->PySvelte==1.0.0) (0.13.3)\n",
            "Requirement already satisfied: multidict<7.0,>=4.5 in /usr/local/lib/python3.9/dist-packages (from aiohttp->datasets->PySvelte==1.0.0) (6.0.4)\n",
            "Requirement already satisfied: async-timeout<5.0,>=4.0.0a3 in /usr/local/lib/python3.9/dist-packages (from aiohttp->datasets->PySvelte==1.0.0) (4.0.2)\n",
            "Requirement already satisfied: yarl<2.0,>=1.0 in /usr/local/lib/python3.9/dist-packages (from aiohttp->datasets->PySvelte==1.0.0) (1.9.2)\n",
            "Requirement already satisfied: aiosignal>=1.1.2 in /usr/local/lib/python3.9/dist-packages (from aiohttp->datasets->PySvelte==1.0.0) (1.3.1)\n",
            "Requirement already satisfied: frozenlist>=1.1.1 in /usr/local/lib/python3.9/dist-packages (from aiohttp->datasets->PySvelte==1.0.0) (1.3.3)\n",
            "Requirement already satisfied: charset-normalizer<4.0,>=2.0 in /usr/local/lib/python3.9/dist-packages (from aiohttp->datasets->PySvelte==1.0.0) (2.0.12)\n",
            "Requirement already satisfied: attrs>=17.3.0 in /usr/local/lib/python3.9/dist-packages (from aiohttp->datasets->PySvelte==1.0.0) (23.1.0)\n",
            "Requirement already satisfied: six>=1.5 in /usr/local/lib/python3.9/dist-packages (from python-dateutil>=2.8.1->pandas->PySvelte==1.0.0) (1.16.0)\n",
            "Requirement already satisfied: idna<4,>=2.5 in /usr/local/lib/python3.9/dist-packages (from requests>=2.19.0->datasets->PySvelte==1.0.0) (3.4)\n",
            "Requirement already satisfied: certifi>=2017.4.17 in /usr/local/lib/python3.9/dist-packages (from requests>=2.19.0->datasets->PySvelte==1.0.0) (2022.12.7)\n",
            "Requirement already satisfied: urllib3<1.27,>=1.21.1 in /usr/local/lib/python3.9/dist-packages (from requests>=2.19.0->datasets->PySvelte==1.0.0) (1.26.15)\n"
          ]
        }
      ]
    },
    {
      "cell_type": "code",
      "source": [
        "# Plotly needs a different renderer for VSCode/Notebooks vs Colab argh\n",
        "import plotly.io as pio\n",
        "\n",
        "if IN_COLAB or not DEBUG_MODE:\n",
        "    # Thanks to annoying rendering issues, Plotly graphics will either show up in colab OR Vscode depending on the renderer - this is bad for developing demos! Thus creating a debug mode.\n",
        "    pio.renderers.default = \"colab\"\n",
        "else:\n",
        "    pio.renderers.default = \"png\"\n",
        "print(f\"Using renderer: {pio.renderers.default}\")"
      ],
      "metadata": {
        "colab": {
          "base_uri": "https://localhost:8080/"
        },
        "id": "3cxaJUym4bV6",
        "outputId": "6506983a-516d-4281-e989-262a188eb820"
      },
      "execution_count": 2,
      "outputs": [
        {
          "output_type": "stream",
          "name": "stdout",
          "text": [
            "Using renderer: colab\n"
          ]
        }
      ]
    },
    {
      "cell_type": "code",
      "source": [
        "import circuitsvis as cv\n",
        "# Testing that the library works\n",
        "cv.examples.hello(\"Neel\")"
      ],
      "metadata": {
        "colab": {
          "base_uri": "https://localhost:8080/",
          "height": 64
        },
        "id": "wnRnVmj54dkV",
        "outputId": "8ae83397-fa96-4578-a2f2-5bdcbad8b13d"
      },
      "execution_count": 3,
      "outputs": [
        {
          "output_type": "execute_result",
          "data": {
            "text/plain": [
              "<circuitsvis.utils.render.RenderedHTML at 0x7f749abfc550>"
            ],
            "text/html": [
              "<div id=\"circuits-vis-c94af4e7-786a\" style=\"margin: 15px 0;\"/>\n",
              "    <script crossorigin type=\"module\">\n",
              "    import { render, Hello } from \"https://unpkg.com/circuitsvis@1.39.1/dist/cdn/esm.js\";\n",
              "    render(\n",
              "      \"circuits-vis-c94af4e7-786a\",\n",
              "      Hello,\n",
              "      {\"name\": \"Neel\"}\n",
              "    )\n",
              "    </script>"
            ]
          },
          "metadata": {},
          "execution_count": 3
        }
      ]
    },
    {
      "cell_type": "code",
      "source": [
        "# Import stuff\n",
        "import torch\n",
        "import torch.nn as nn\n",
        "import torch.nn.functional as F\n",
        "import torch.optim as optim\n",
        "import numpy as np\n",
        "import einops\n",
        "from fancy_einsum import einsum\n",
        "import tqdm.notebook as tqdm\n",
        "import random\n",
        "from pathlib import Path\n",
        "import plotly.express as px\n",
        "from torch.utils.data import DataLoader\n",
        "\n",
        "from jaxtyping import Float, Int\n",
        "from typing import List, Union, Optional\n",
        "from functools import partial\n",
        "import copy\n",
        "\n",
        "import itertools\n",
        "from transformers import AutoModelForCausalLM, AutoConfig, AutoTokenizer\n",
        "import dataclasses\n",
        "import datasets\n",
        "from IPython.display import HTML"
      ],
      "metadata": {
        "id": "NGloNASL0ki0"
      },
      "execution_count": 4,
      "outputs": []
    },
    {
      "cell_type": "code",
      "source": [
        "import pysvelte\n",
        "\n",
        "import transformer_lens\n",
        "import transformer_lens.utils as utils\n",
        "from transformer_lens.hook_points import (\n",
        "    HookedRootModule,\n",
        "    HookPoint,\n",
        ")  # Hooking utilities\n",
        "from transformer_lens import HookedTransformer, HookedTransformerConfig, FactoredMatrix, ActivationCache"
      ],
      "metadata": {
        "id": "ydngV_KJ021h"
      },
      "execution_count": 5,
      "outputs": []
    },
    {
      "cell_type": "markdown",
      "source": [
        "We turn automatic differentiation off, to save GPU memory, as this notebook focuses on model inference not model training."
      ],
      "metadata": {
        "id": "VdioiO76072F"
      }
    },
    {
      "cell_type": "code",
      "source": [
        "torch.set_grad_enabled(False)"
      ],
      "metadata": {
        "colab": {
          "base_uri": "https://localhost:8080/"
        },
        "id": "tR3zc1x64rEL",
        "outputId": "2e6c2bf9-9574-4763-8603-1b94d88f091d"
      },
      "execution_count": 6,
      "outputs": [
        {
          "output_type": "execute_result",
          "data": {
            "text/plain": [
              "<torch.autograd.grad_mode.set_grad_enabled at 0x7f7471bf91f0>"
            ]
          },
          "metadata": {},
          "execution_count": 6
        }
      ]
    },
    {
      "cell_type": "markdown",
      "source": [
        "Plotting helper functions:"
      ],
      "metadata": {
        "id": "52akhswe0_O-"
      }
    },
    {
      "cell_type": "code",
      "source": [
        "def imshow(tensor, renderer=None, midpoint=0.0, xaxis=\"\", yaxis=\"\", **kwargs):\n",
        "    px.imshow(utils.to_numpy(tensor), color_continuous_midpoint=midpoint, color_continuous_scale=\"RdBu\", labels={\"x\":xaxis, \"y\":yaxis}, **kwargs).show(renderer)\n",
        "\n",
        "def line(tensor, renderer=None, xaxis=\"\", yaxis=\"\", **kwargs):\n",
        "    px.line(utils.to_numpy(tensor), labels={\"x\":xaxis, \"y\":yaxis}, **kwargs).show(renderer)\n",
        "\n",
        "def scatter(x, y, xaxis=\"\", yaxis=\"\", caxis=\"\", renderer=None, **kwargs):\n",
        "    x = utils.to_numpy(x)\n",
        "    y = utils.to_numpy(y)\n",
        "    px.scatter(y=y, x=x, labels={\"x\":xaxis, \"y\":yaxis, \"color\":caxis}, **kwargs).show(renderer)"
      ],
      "metadata": {
        "id": "n7uRm9OU4rtD"
      },
      "execution_count": 7,
      "outputs": []
    },
    {
      "cell_type": "code",
      "source": [
        "line(np.arange(5))"
      ],
      "metadata": {
        "id": "YNBwyAG_1CJ2",
        "outputId": "f6df7333-b9de-4ece-ba30-0a9bfae813f6",
        "colab": {
          "base_uri": "https://localhost:8080/",
          "height": 542
        }
      },
      "execution_count": 8,
      "outputs": [
        {
          "output_type": "display_data",
          "data": {
            "text/html": [
              "<html>\n",
              "<head><meta charset=\"utf-8\" /></head>\n",
              "<body>\n",
              "    <div>            <script src=\"https://cdnjs.cloudflare.com/ajax/libs/mathjax/2.7.5/MathJax.js?config=TeX-AMS-MML_SVG\"></script><script type=\"text/javascript\">if (window.MathJax && window.MathJax.Hub && window.MathJax.Hub.Config) {window.MathJax.Hub.Config({SVG: {font: \"STIX-Web\"}});}</script>                <script type=\"text/javascript\">window.PlotlyConfig = {MathJaxConfig: 'local'};</script>\n",
              "        <script src=\"https://cdn.plot.ly/plotly-2.18.2.min.js\"></script>                <div id=\"97423e38-b208-4b32-a244-0891c0cc1ecc\" class=\"plotly-graph-div\" style=\"height:525px; width:100%;\"></div>            <script type=\"text/javascript\">                                    window.PLOTLYENV=window.PLOTLYENV || {};                                    if (document.getElementById(\"97423e38-b208-4b32-a244-0891c0cc1ecc\")) {                    Plotly.newPlot(                        \"97423e38-b208-4b32-a244-0891c0cc1ecc\",                        [{\"hovertemplate\":\"variable=0<br>index=%{x}<br>value=%{y}<extra></extra>\",\"legendgroup\":\"0\",\"line\":{\"color\":\"#636efa\",\"dash\":\"solid\"},\"marker\":{\"symbol\":\"circle\"},\"mode\":\"lines\",\"name\":\"0\",\"orientation\":\"v\",\"showlegend\":true,\"x\":[0,1,2,3,4],\"xaxis\":\"x\",\"y\":[0,1,2,3,4],\"yaxis\":\"y\",\"type\":\"scatter\"}],                        {\"template\":{\"data\":{\"histogram2dcontour\":[{\"type\":\"histogram2dcontour\",\"colorbar\":{\"outlinewidth\":0,\"ticks\":\"\"},\"colorscale\":[[0.0,\"#0d0887\"],[0.1111111111111111,\"#46039f\"],[0.2222222222222222,\"#7201a8\"],[0.3333333333333333,\"#9c179e\"],[0.4444444444444444,\"#bd3786\"],[0.5555555555555556,\"#d8576b\"],[0.6666666666666666,\"#ed7953\"],[0.7777777777777778,\"#fb9f3a\"],[0.8888888888888888,\"#fdca26\"],[1.0,\"#f0f921\"]]}],\"choropleth\":[{\"type\":\"choropleth\",\"colorbar\":{\"outlinewidth\":0,\"ticks\":\"\"}}],\"histogram2d\":[{\"type\":\"histogram2d\",\"colorbar\":{\"outlinewidth\":0,\"ticks\":\"\"},\"colorscale\":[[0.0,\"#0d0887\"],[0.1111111111111111,\"#46039f\"],[0.2222222222222222,\"#7201a8\"],[0.3333333333333333,\"#9c179e\"],[0.4444444444444444,\"#bd3786\"],[0.5555555555555556,\"#d8576b\"],[0.6666666666666666,\"#ed7953\"],[0.7777777777777778,\"#fb9f3a\"],[0.8888888888888888,\"#fdca26\"],[1.0,\"#f0f921\"]]}],\"heatmap\":[{\"type\":\"heatmap\",\"colorbar\":{\"outlinewidth\":0,\"ticks\":\"\"},\"colorscale\":[[0.0,\"#0d0887\"],[0.1111111111111111,\"#46039f\"],[0.2222222222222222,\"#7201a8\"],[0.3333333333333333,\"#9c179e\"],[0.4444444444444444,\"#bd3786\"],[0.5555555555555556,\"#d8576b\"],[0.6666666666666666,\"#ed7953\"],[0.7777777777777778,\"#fb9f3a\"],[0.8888888888888888,\"#fdca26\"],[1.0,\"#f0f921\"]]}],\"heatmapgl\":[{\"type\":\"heatmapgl\",\"colorbar\":{\"outlinewidth\":0,\"ticks\":\"\"},\"colorscale\":[[0.0,\"#0d0887\"],[0.1111111111111111,\"#46039f\"],[0.2222222222222222,\"#7201a8\"],[0.3333333333333333,\"#9c179e\"],[0.4444444444444444,\"#bd3786\"],[0.5555555555555556,\"#d8576b\"],[0.6666666666666666,\"#ed7953\"],[0.7777777777777778,\"#fb9f3a\"],[0.8888888888888888,\"#fdca26\"],[1.0,\"#f0f921\"]]}],\"contourcarpet\":[{\"type\":\"contourcarpet\",\"colorbar\":{\"outlinewidth\":0,\"ticks\":\"\"}}],\"contour\":[{\"type\":\"contour\",\"colorbar\":{\"outlinewidth\":0,\"ticks\":\"\"},\"colorscale\":[[0.0,\"#0d0887\"],[0.1111111111111111,\"#46039f\"],[0.2222222222222222,\"#7201a8\"],[0.3333333333333333,\"#9c179e\"],[0.4444444444444444,\"#bd3786\"],[0.5555555555555556,\"#d8576b\"],[0.6666666666666666,\"#ed7953\"],[0.7777777777777778,\"#fb9f3a\"],[0.8888888888888888,\"#fdca26\"],[1.0,\"#f0f921\"]]}],\"surface\":[{\"type\":\"surface\",\"colorbar\":{\"outlinewidth\":0,\"ticks\":\"\"},\"colorscale\":[[0.0,\"#0d0887\"],[0.1111111111111111,\"#46039f\"],[0.2222222222222222,\"#7201a8\"],[0.3333333333333333,\"#9c179e\"],[0.4444444444444444,\"#bd3786\"],[0.5555555555555556,\"#d8576b\"],[0.6666666666666666,\"#ed7953\"],[0.7777777777777778,\"#fb9f3a\"],[0.8888888888888888,\"#fdca26\"],[1.0,\"#f0f921\"]]}],\"mesh3d\":[{\"type\":\"mesh3d\",\"colorbar\":{\"outlinewidth\":0,\"ticks\":\"\"}}],\"scatter\":[{\"fillpattern\":{\"fillmode\":\"overlay\",\"size\":10,\"solidity\":0.2},\"type\":\"scatter\"}],\"parcoords\":[{\"type\":\"parcoords\",\"line\":{\"colorbar\":{\"outlinewidth\":0,\"ticks\":\"\"}}}],\"scatterpolargl\":[{\"type\":\"scatterpolargl\",\"marker\":{\"colorbar\":{\"outlinewidth\":0,\"ticks\":\"\"}}}],\"bar\":[{\"error_x\":{\"color\":\"#2a3f5f\"},\"error_y\":{\"color\":\"#2a3f5f\"},\"marker\":{\"line\":{\"color\":\"#E5ECF6\",\"width\":0.5},\"pattern\":{\"fillmode\":\"overlay\",\"size\":10,\"solidity\":0.2}},\"type\":\"bar\"}],\"scattergeo\":[{\"type\":\"scattergeo\",\"marker\":{\"colorbar\":{\"outlinewidth\":0,\"ticks\":\"\"}}}],\"scatterpolar\":[{\"type\":\"scatterpolar\",\"marker\":{\"colorbar\":{\"outlinewidth\":0,\"ticks\":\"\"}}}],\"histogram\":[{\"marker\":{\"pattern\":{\"fillmode\":\"overlay\",\"size\":10,\"solidity\":0.2}},\"type\":\"histogram\"}],\"scattergl\":[{\"type\":\"scattergl\",\"marker\":{\"colorbar\":{\"outlinewidth\":0,\"ticks\":\"\"}}}],\"scatter3d\":[{\"type\":\"scatter3d\",\"line\":{\"colorbar\":{\"outlinewidth\":0,\"ticks\":\"\"}},\"marker\":{\"colorbar\":{\"outlinewidth\":0,\"ticks\":\"\"}}}],\"scattermapbox\":[{\"type\":\"scattermapbox\",\"marker\":{\"colorbar\":{\"outlinewidth\":0,\"ticks\":\"\"}}}],\"scatterternary\":[{\"type\":\"scatterternary\",\"marker\":{\"colorbar\":{\"outlinewidth\":0,\"ticks\":\"\"}}}],\"scattercarpet\":[{\"type\":\"scattercarpet\",\"marker\":{\"colorbar\":{\"outlinewidth\":0,\"ticks\":\"\"}}}],\"carpet\":[{\"aaxis\":{\"endlinecolor\":\"#2a3f5f\",\"gridcolor\":\"white\",\"linecolor\":\"white\",\"minorgridcolor\":\"white\",\"startlinecolor\":\"#2a3f5f\"},\"baxis\":{\"endlinecolor\":\"#2a3f5f\",\"gridcolor\":\"white\",\"linecolor\":\"white\",\"minorgridcolor\":\"white\",\"startlinecolor\":\"#2a3f5f\"},\"type\":\"carpet\"}],\"table\":[{\"cells\":{\"fill\":{\"color\":\"#EBF0F8\"},\"line\":{\"color\":\"white\"}},\"header\":{\"fill\":{\"color\":\"#C8D4E3\"},\"line\":{\"color\":\"white\"}},\"type\":\"table\"}],\"barpolar\":[{\"marker\":{\"line\":{\"color\":\"#E5ECF6\",\"width\":0.5},\"pattern\":{\"fillmode\":\"overlay\",\"size\":10,\"solidity\":0.2}},\"type\":\"barpolar\"}],\"pie\":[{\"automargin\":true,\"type\":\"pie\"}]},\"layout\":{\"autotypenumbers\":\"strict\",\"colorway\":[\"#636efa\",\"#EF553B\",\"#00cc96\",\"#ab63fa\",\"#FFA15A\",\"#19d3f3\",\"#FF6692\",\"#B6E880\",\"#FF97FF\",\"#FECB52\"],\"font\":{\"color\":\"#2a3f5f\"},\"hovermode\":\"closest\",\"hoverlabel\":{\"align\":\"left\"},\"paper_bgcolor\":\"white\",\"plot_bgcolor\":\"#E5ECF6\",\"polar\":{\"bgcolor\":\"#E5ECF6\",\"angularaxis\":{\"gridcolor\":\"white\",\"linecolor\":\"white\",\"ticks\":\"\"},\"radialaxis\":{\"gridcolor\":\"white\",\"linecolor\":\"white\",\"ticks\":\"\"}},\"ternary\":{\"bgcolor\":\"#E5ECF6\",\"aaxis\":{\"gridcolor\":\"white\",\"linecolor\":\"white\",\"ticks\":\"\"},\"baxis\":{\"gridcolor\":\"white\",\"linecolor\":\"white\",\"ticks\":\"\"},\"caxis\":{\"gridcolor\":\"white\",\"linecolor\":\"white\",\"ticks\":\"\"}},\"coloraxis\":{\"colorbar\":{\"outlinewidth\":0,\"ticks\":\"\"}},\"colorscale\":{\"sequential\":[[0.0,\"#0d0887\"],[0.1111111111111111,\"#46039f\"],[0.2222222222222222,\"#7201a8\"],[0.3333333333333333,\"#9c179e\"],[0.4444444444444444,\"#bd3786\"],[0.5555555555555556,\"#d8576b\"],[0.6666666666666666,\"#ed7953\"],[0.7777777777777778,\"#fb9f3a\"],[0.8888888888888888,\"#fdca26\"],[1.0,\"#f0f921\"]],\"sequentialminus\":[[0.0,\"#0d0887\"],[0.1111111111111111,\"#46039f\"],[0.2222222222222222,\"#7201a8\"],[0.3333333333333333,\"#9c179e\"],[0.4444444444444444,\"#bd3786\"],[0.5555555555555556,\"#d8576b\"],[0.6666666666666666,\"#ed7953\"],[0.7777777777777778,\"#fb9f3a\"],[0.8888888888888888,\"#fdca26\"],[1.0,\"#f0f921\"]],\"diverging\":[[0,\"#8e0152\"],[0.1,\"#c51b7d\"],[0.2,\"#de77ae\"],[0.3,\"#f1b6da\"],[0.4,\"#fde0ef\"],[0.5,\"#f7f7f7\"],[0.6,\"#e6f5d0\"],[0.7,\"#b8e186\"],[0.8,\"#7fbc41\"],[0.9,\"#4d9221\"],[1,\"#276419\"]]},\"xaxis\":{\"gridcolor\":\"white\",\"linecolor\":\"white\",\"ticks\":\"\",\"title\":{\"standoff\":15},\"zerolinecolor\":\"white\",\"automargin\":true,\"zerolinewidth\":2},\"yaxis\":{\"gridcolor\":\"white\",\"linecolor\":\"white\",\"ticks\":\"\",\"title\":{\"standoff\":15},\"zerolinecolor\":\"white\",\"automargin\":true,\"zerolinewidth\":2},\"scene\":{\"xaxis\":{\"backgroundcolor\":\"#E5ECF6\",\"gridcolor\":\"white\",\"linecolor\":\"white\",\"showbackground\":true,\"ticks\":\"\",\"zerolinecolor\":\"white\",\"gridwidth\":2},\"yaxis\":{\"backgroundcolor\":\"#E5ECF6\",\"gridcolor\":\"white\",\"linecolor\":\"white\",\"showbackground\":true,\"ticks\":\"\",\"zerolinecolor\":\"white\",\"gridwidth\":2},\"zaxis\":{\"backgroundcolor\":\"#E5ECF6\",\"gridcolor\":\"white\",\"linecolor\":\"white\",\"showbackground\":true,\"ticks\":\"\",\"zerolinecolor\":\"white\",\"gridwidth\":2}},\"shapedefaults\":{\"line\":{\"color\":\"#2a3f5f\"}},\"annotationdefaults\":{\"arrowcolor\":\"#2a3f5f\",\"arrowhead\":0,\"arrowwidth\":1},\"geo\":{\"bgcolor\":\"white\",\"landcolor\":\"#E5ECF6\",\"subunitcolor\":\"white\",\"showland\":true,\"showlakes\":true,\"lakecolor\":\"white\"},\"title\":{\"x\":0.05},\"mapbox\":{\"style\":\"light\"}}},\"xaxis\":{\"anchor\":\"y\",\"domain\":[0.0,1.0],\"title\":{\"text\":\"index\"}},\"yaxis\":{\"anchor\":\"x\",\"domain\":[0.0,1.0],\"title\":{\"text\":\"value\"}},\"legend\":{\"title\":{\"text\":\"variable\"},\"tracegroupgap\":0},\"margin\":{\"t\":60}},                        {\"responsive\": true}                    ).then(function(){\n",
              "                            \n",
              "var gd = document.getElementById('97423e38-b208-4b32-a244-0891c0cc1ecc');\n",
              "var x = new MutationObserver(function (mutations, observer) {{\n",
              "        var display = window.getComputedStyle(gd).display;\n",
              "        if (!display || display === 'none') {{\n",
              "            console.log([gd, 'removed!']);\n",
              "            Plotly.purge(gd);\n",
              "            observer.disconnect();\n",
              "        }}\n",
              "}});\n",
              "\n",
              "// Listen for the removal of the full notebook cells\n",
              "var notebookContainer = gd.closest('#notebook-container');\n",
              "if (notebookContainer) {{\n",
              "    x.observe(notebookContainer, {childList: true});\n",
              "}}\n",
              "\n",
              "// Listen for the clearing of the current output cell\n",
              "var outputEl = gd.closest('.output');\n",
              "if (outputEl) {{\n",
              "    x.observe(outputEl, {childList: true});\n",
              "}}\n",
              "\n",
              "                        })                };                            </script>        </div>\n",
              "</body>\n",
              "</html>"
            ]
          },
          "metadata": {}
        }
      ]
    },
    {
      "cell_type": "markdown",
      "source": [
        "set-up device"
      ],
      "metadata": {
        "id": "AYIXdaJR2HMP"
      }
    },
    {
      "cell_type": "code",
      "source": [
        "device = \"cuda\" if torch.cuda.is_available() else \"cpu\""
      ],
      "metadata": {
        "id": "qRGwnRq_BzBn"
      },
      "execution_count": 9,
      "outputs": []
    },
    {
      "cell_type": "markdown",
      "source": [
        "### Pronoun prediction"
      ],
      "metadata": {
        "id": "YrG1Hl0mZ5Ya"
      }
    },
    {
      "cell_type": "markdown",
      "source": [
        "The task is choosing the right pronouns (e.g. he vs she vs it vs they)\n",
        "\n",
        "A good setup is a rhetorical question (so it doesn’t spoil the answer!) like “Lina is a great friend, isn’t” (h/t Marius Hobbhahn)"
      ],
      "metadata": {
        "id": "BY4vfzE4_yz1"
      }
    },
    {
      "cell_type": "markdown",
      "source": [
        "The first step is to load in our model, GPT-2 Small, a 12 layer and 80M parameter transformer."
      ],
      "metadata": {
        "id": "Ck2MFiqY13aH"
      }
    },
    {
      "cell_type": "code",
      "source": [
        "model = HookedTransformer.from_pretrained(\n",
        "    \"gpt2-small\",\n",
        "    center_unembed=True,\n",
        "    center_writing_weights=True,\n",
        "    fold_ln=True,\n",
        "    refactor_factored_attn_matrices=True, \n",
        "    device=device\n",
        "    )"
      ],
      "metadata": {
        "colab": {
          "base_uri": "https://localhost:8080/"
        },
        "id": "d2fS9hRdBzdO",
        "outputId": "4d7c5147-b000-41df-a001-6466cfd20dff"
      },
      "execution_count": 10,
      "outputs": [
        {
          "output_type": "stream",
          "name": "stderr",
          "text": [
            "Using pad_token, but it is not set yet.\n"
          ]
        },
        {
          "output_type": "stream",
          "name": "stdout",
          "text": [
            "Loaded pretrained model gpt2-small into HookedTransformer\n"
          ]
        }
      ]
    },
    {
      "cell_type": "markdown",
      "source": [
        "The next step is to verify that the model can actually do the task!"
      ],
      "metadata": {
        "id": "HW_GEWo_2YH5"
      }
    },
    {
      "cell_type": "code",
      "source": [
        "example_prompt = \"Mary is a great friend, isn’t\"\n",
        "example_answer = \" she\"\n",
        "utils.test_prompt(example_prompt, example_answer, model)"
      ],
      "metadata": {
        "id": "Ay8GRNSD2cja",
        "outputId": "33dcd92d-49a7-4276-c03a-43d8d2b12d71",
        "colab": {
          "base_uri": "https://localhost:8080/",
          "height": 273
        }
      },
      "execution_count": 11,
      "outputs": [
        {
          "output_type": "stream",
          "name": "stdout",
          "text": [
            "Tokenized prompt: ['<|endoftext|>', 'Mary', ' is', ' a', ' great', ' friend', ',', ' isn', '�', '�', 't']\n",
            "Tokenized answer: [' she']\n"
          ]
        },
        {
          "output_type": "display_data",
          "data": {
            "text/plain": [
              "Performance on answer token:\n",
              "\u001b[1mRank: \u001b[0m\u001b[1;36m0\u001b[0m\u001b[1m        Logit: \u001b[0m\u001b[1;36m17.41\u001b[0m\u001b[1m Prob: \u001b[0m\u001b[1;36m82.67\u001b[0m\u001b[1m% Token: | she|\u001b[0m\n"
            ],
            "text/html": [
              "<pre style=\"white-space:pre;overflow-x:auto;line-height:normal;font-family:Menlo,'DejaVu Sans Mono',consolas,'Courier New',monospace\">Performance on answer token:\n",
              "<span style=\"font-weight: bold\">Rank: </span><span style=\"color: #008080; text-decoration-color: #008080; font-weight: bold\">0</span><span style=\"font-weight: bold\">        Logit: </span><span style=\"color: #008080; text-decoration-color: #008080; font-weight: bold\">17.41</span><span style=\"font-weight: bold\"> Prob: </span><span style=\"color: #008080; text-decoration-color: #008080; font-weight: bold\">82.67</span><span style=\"font-weight: bold\">% Token: | she|</span>\n",
              "</pre>\n"
            ]
          },
          "metadata": {}
        },
        {
          "output_type": "stream",
          "name": "stdout",
          "text": [
            "Top 0th token. Logit: 17.41 Prob: 82.67% Token: | she|\n",
            "Top 1th token. Logit: 14.69 Prob:  5.45% Token: | it|\n",
            "Top 2th token. Logit: 13.51 Prob:  1.68% Token: | he|\n",
            "Top 3th token. Logit: 13.11 Prob:  1.12% Token: | there|\n",
            "Top 4th token. Logit: 12.74 Prob:  0.78% Token: | I|\n",
            "Top 5th token. Logit: 12.72 Prob:  0.76% Token: | we|\n",
            "Top 6th token. Logit: 12.67 Prob:  0.72% Token: | you|\n",
            "Top 7th token. Logit: 12.35 Prob:  0.52% Token: | her|\n",
            "Top 8th token. Logit: 12.23 Prob:  0.47% Token: | this|\n",
            "Top 9th token. Logit: 12.16 Prob:  0.43% Token: | that|\n"
          ]
        },
        {
          "output_type": "display_data",
          "data": {
            "text/plain": [
              "\u001b[1mRanks of the answer tokens:\u001b[0m \u001b[1m[\u001b[0m\u001b[1m(\u001b[0m\u001b[32m' she'\u001b[0m, \u001b[1;36m0\u001b[0m\u001b[1m)\u001b[0m\u001b[1m]\u001b[0m\n"
            ],
            "text/html": [
              "<pre style=\"white-space:pre;overflow-x:auto;line-height:normal;font-family:Menlo,'DejaVu Sans Mono',consolas,'Courier New',monospace\"><span style=\"font-weight: bold\">Ranks of the answer tokens:</span> <span style=\"font-weight: bold\">[(</span><span style=\"color: #008000; text-decoration-color: #008000\">' she'</span>, <span style=\"color: #008080; text-decoration-color: #008080; font-weight: bold\">0</span><span style=\"font-weight: bold\">)]</span>\n",
              "</pre>\n"
            ]
          },
          "metadata": {}
        }
      ]
    },
    {
      "cell_type": "code",
      "source": [
        "example_prompt = \"John is a great friend, isn’t\"\n",
        "example_answer = \" he\"\n",
        "utils.test_prompt(example_prompt, example_answer, model)"
      ],
      "metadata": {
        "id": "gP9lwy1r2_zs",
        "outputId": "8293ac02-ff39-498a-f1f4-33d6dcdf43ea",
        "colab": {
          "base_uri": "https://localhost:8080/",
          "height": 273
        }
      },
      "execution_count": 12,
      "outputs": [
        {
          "output_type": "stream",
          "name": "stdout",
          "text": [
            "Tokenized prompt: ['<|endoftext|>', 'John', ' is', ' a', ' great', ' friend', ',', ' isn', '�', '�', 't']\n",
            "Tokenized answer: [' he']\n"
          ]
        },
        {
          "output_type": "display_data",
          "data": {
            "text/plain": [
              "Performance on answer token:\n",
              "\u001b[1mRank: \u001b[0m\u001b[1;36m0\u001b[0m\u001b[1m        Logit: \u001b[0m\u001b[1;36m17.47\u001b[0m\u001b[1m Prob: \u001b[0m\u001b[1;36m83.43\u001b[0m\u001b[1m% Token: | he|\u001b[0m\n"
            ],
            "text/html": [
              "<pre style=\"white-space:pre;overflow-x:auto;line-height:normal;font-family:Menlo,'DejaVu Sans Mono',consolas,'Courier New',monospace\">Performance on answer token:\n",
              "<span style=\"font-weight: bold\">Rank: </span><span style=\"color: #008080; text-decoration-color: #008080; font-weight: bold\">0</span><span style=\"font-weight: bold\">        Logit: </span><span style=\"color: #008080; text-decoration-color: #008080; font-weight: bold\">17.47</span><span style=\"font-weight: bold\"> Prob: </span><span style=\"color: #008080; text-decoration-color: #008080; font-weight: bold\">83.43</span><span style=\"font-weight: bold\">% Token: | he|</span>\n",
              "</pre>\n"
            ]
          },
          "metadata": {}
        },
        {
          "output_type": "stream",
          "name": "stdout",
          "text": [
            "Top 0th token. Logit: 17.47 Prob: 83.43% Token: | he|\n",
            "Top 1th token. Logit: 14.81 Prob:  5.81% Token: | it|\n",
            "Top 2th token. Logit: 13.22 Prob:  1.18% Token: | there|\n",
            "Top 3th token. Logit: 13.06 Prob:  1.01% Token: | you|\n",
            "Top 4th token. Logit: 13.04 Prob:  0.99% Token: | we|\n",
            "Top 5th token. Logit: 12.69 Prob:  0.70% Token: | I|\n",
            "Top 6th token. Logit: 12.62 Prob:  0.65% Token: | she|\n",
            "Top 7th token. Logit: 12.52 Prob:  0.59% Token: | that|\n",
            "Top 8th token. Logit: 12.26 Prob:  0.45% Token: | this|\n",
            "Top 9th token. Logit: 11.78 Prob:  0.28% Token: | the|\n"
          ]
        },
        {
          "output_type": "display_data",
          "data": {
            "text/plain": [
              "\u001b[1mRanks of the answer tokens:\u001b[0m \u001b[1m[\u001b[0m\u001b[1m(\u001b[0m\u001b[32m' he'\u001b[0m, \u001b[1;36m0\u001b[0m\u001b[1m)\u001b[0m\u001b[1m]\u001b[0m\n"
            ],
            "text/html": [
              "<pre style=\"white-space:pre;overflow-x:auto;line-height:normal;font-family:Menlo,'DejaVu Sans Mono',consolas,'Courier New',monospace\"><span style=\"font-weight: bold\">Ranks of the answer tokens:</span> <span style=\"font-weight: bold\">[(</span><span style=\"color: #008000; text-decoration-color: #008000\">' he'</span>, <span style=\"color: #008080; text-decoration-color: #008080; font-weight: bold\">0</span><span style=\"font-weight: bold\">)]</span>\n",
              "</pre>\n"
            ]
          },
          "metadata": {}
        }
      ]
    },
    {
      "cell_type": "code",
      "source": [
        "example_prompt = \"Matrix is a great movie, isn’t\"\n",
        "example_answer = \" it\"\n",
        "utils.test_prompt(example_prompt, example_answer, model)"
      ],
      "metadata": {
        "id": "uUFPNL-c3Aru",
        "outputId": "b4a35953-549c-420b-b122-4b342c64895b",
        "colab": {
          "base_uri": "https://localhost:8080/",
          "height": 273
        }
      },
      "execution_count": 13,
      "outputs": [
        {
          "output_type": "stream",
          "name": "stdout",
          "text": [
            "Tokenized prompt: ['<|endoftext|>', 'Matrix', ' is', ' a', ' great', ' movie', ',', ' isn', '�', '�', 't']\n",
            "Tokenized answer: [' it']\n"
          ]
        },
        {
          "output_type": "display_data",
          "data": {
            "text/plain": [
              "Performance on answer token:\n",
              "\u001b[1mRank: \u001b[0m\u001b[1;36m0\u001b[0m\u001b[1m        Logit: \u001b[0m\u001b[1;36m18.16\u001b[0m\u001b[1m Prob: \u001b[0m\u001b[1;36m94.84\u001b[0m\u001b[1m% Token: | it|\u001b[0m\n"
            ],
            "text/html": [
              "<pre style=\"white-space:pre;overflow-x:auto;line-height:normal;font-family:Menlo,'DejaVu Sans Mono',consolas,'Courier New',monospace\">Performance on answer token:\n",
              "<span style=\"font-weight: bold\">Rank: </span><span style=\"color: #008080; text-decoration-color: #008080; font-weight: bold\">0</span><span style=\"font-weight: bold\">        Logit: </span><span style=\"color: #008080; text-decoration-color: #008080; font-weight: bold\">18.16</span><span style=\"font-weight: bold\"> Prob: </span><span style=\"color: #008080; text-decoration-color: #008080; font-weight: bold\">94.84</span><span style=\"font-weight: bold\">% Token: | it|</span>\n",
              "</pre>\n"
            ]
          },
          "metadata": {}
        },
        {
          "output_type": "stream",
          "name": "stdout",
          "text": [
            "Top 0th token. Logit: 18.16 Prob: 94.84% Token: | it|\n",
            "Top 1th token. Logit: 13.65 Prob:  1.04% Token: | there|\n",
            "Top 2th token. Logit: 13.15 Prob:  0.63% Token: | that|\n",
            "Top 3th token. Logit: 12.37 Prob:  0.29% Token: | this|\n",
            "Top 4th token. Logit: 12.37 Prob:  0.29% Token: | he|\n",
            "Top 5th token. Logit: 12.32 Prob:  0.28% Token: | the|\n",
            "Top 6th token. Logit: 12.10 Prob:  0.22% Token: | you|\n",
            "Top 7th token. Logit: 12.09 Prob:  0.22% Token: |?|\n",
            "Top 8th token. Logit: 11.81 Prob:  0.16% Token: | I|\n",
            "Top 9th token. Logit: 11.41 Prob:  0.11% Token: | they|\n"
          ]
        },
        {
          "output_type": "display_data",
          "data": {
            "text/plain": [
              "\u001b[1mRanks of the answer tokens:\u001b[0m \u001b[1m[\u001b[0m\u001b[1m(\u001b[0m\u001b[32m' it'\u001b[0m, \u001b[1;36m0\u001b[0m\u001b[1m)\u001b[0m\u001b[1m]\u001b[0m\n"
            ],
            "text/html": [
              "<pre style=\"white-space:pre;overflow-x:auto;line-height:normal;font-family:Menlo,'DejaVu Sans Mono',consolas,'Courier New',monospace\"><span style=\"font-weight: bold\">Ranks of the answer tokens:</span> <span style=\"font-weight: bold\">[(</span><span style=\"color: #008000; text-decoration-color: #008000\">' it'</span>, <span style=\"color: #008080; text-decoration-color: #008080; font-weight: bold\">0</span><span style=\"font-weight: bold\">)]</span>\n",
              "</pre>\n"
            ]
          },
          "metadata": {}
        }
      ]
    },
    {
      "cell_type": "markdown",
      "source": [
        "Generate reference prompts for the task to run the model on.\n",
        "\n",
        "We'll run the model on 25 instances of this task, each prompt format with each name."
      ],
      "metadata": {
        "id": "436lq_dSBeNL"
      }
    },
    {
      "cell_type": "code",
      "source": [
        "prompt_formats = [\n",
        "    \"{} is a great friend, isn’t\",\n",
        "    \"{} is an amazing person, isn’t\",    \n",
        "    \"{} is a fantastic colleague, isn’t\",    \n",
        "    \"{} is a wonderful partner, isn’t\",    \n",
        "    \"{} is an excellent student, isn’t\"\n",
        "    ]\n",
        "\n",
        "pronouns = [\" she\", \" he\"]\n",
        "\n",
        "# List of names, in the format (name, pronoun)\n",
        "names = [\n",
        "    (\"Mary\", 0), \n",
        "    (\"John\", 1),\n",
        "    (\"Tom\", 1),\n",
        "    (\"Dan\", 1),\n",
        "    (\"Amy\", 0),\n",
        "]\n",
        "\n",
        "# List of prompts\n",
        "prompts = []\n",
        "# List of answers, in the format (correct, incorrect)\n",
        "answers = []\n",
        "# List of the token (ie an integer) corresponding to each answer, in the format (correct_token, incorrect_token)\n",
        "answer_tokens = []\n",
        "\n",
        "for prompt_format in prompt_formats:\n",
        "    for name, pronoun_idx in names:\n",
        "        prompts.append(prompt_format.format(name))\n",
        "\n",
        "        answers.append(\n",
        "            (\n",
        "                pronouns[pronoun_idx], \n",
        "                pronouns[1-pronoun_idx]\n",
        "            )\n",
        "            )\n",
        "        \n",
        "        answer_tokens.append(\n",
        "            (\n",
        "                model.to_single_token(answers[-1][0]),\n",
        "                model.to_single_token(answers[-1][1]),\n",
        "            )\n",
        "        )\n",
        "answer_tokens = torch.tensor(answer_tokens).cuda()\n",
        "print(prompts)\n",
        "print(answers)"
      ],
      "metadata": {
        "id": "YexayaKO9OTp",
        "outputId": "3e45fd81-9a39-4cca-dbc0-949744605385",
        "colab": {
          "base_uri": "https://localhost:8080/"
        }
      },
      "execution_count": 14,
      "outputs": [
        {
          "output_type": "stream",
          "name": "stdout",
          "text": [
            "['Mary is a great friend, isn’t', 'John is a great friend, isn’t', 'Tom is a great friend, isn’t', 'Dan is a great friend, isn’t', 'Amy is a great friend, isn’t', 'Mary is an amazing person, isn’t', 'John is an amazing person, isn’t', 'Tom is an amazing person, isn’t', 'Dan is an amazing person, isn’t', 'Amy is an amazing person, isn’t', 'Mary is a fantastic colleague, isn’t', 'John is a fantastic colleague, isn’t', 'Tom is a fantastic colleague, isn’t', 'Dan is a fantastic colleague, isn’t', 'Amy is a fantastic colleague, isn’t', 'Mary is a wonderful partner, isn’t', 'John is a wonderful partner, isn’t', 'Tom is a wonderful partner, isn’t', 'Dan is a wonderful partner, isn’t', 'Amy is a wonderful partner, isn’t', 'Mary is an excellent student, isn’t', 'John is an excellent student, isn’t', 'Tom is an excellent student, isn’t', 'Dan is an excellent student, isn’t', 'Amy is an excellent student, isn’t']\n",
            "[(' she', ' he'), (' he', ' she'), (' he', ' she'), (' he', ' she'), (' she', ' he'), (' she', ' he'), (' he', ' she'), (' he', ' she'), (' he', ' she'), (' she', ' he'), (' she', ' he'), (' he', ' she'), (' he', ' she'), (' he', ' she'), (' she', ' he'), (' she', ' he'), (' he', ' she'), (' he', ' she'), (' he', ' she'), (' she', ' he'), (' she', ' he'), (' he', ' she'), (' he', ' she'), (' he', ' she'), (' she', ' he')]\n"
          ]
        }
      ]
    },
    {
      "cell_type": "code",
      "source": [
        "# ensuring all prompts are same number of tokens\n",
        "for prompt in prompts:\n",
        "    str_tokens = model.to_str_tokens(prompt)\n",
        "    print(\"Prompt length:\", len(str_tokens))\n",
        "    print(\"Prompt as tokens:\", str_tokens)"
      ],
      "metadata": {
        "id": "peo5bjbw9agp",
        "outputId": "2d820743-4f73-48ac-97f0-504812d27ed6",
        "colab": {
          "base_uri": "https://localhost:8080/"
        }
      },
      "execution_count": 15,
      "outputs": [
        {
          "output_type": "stream",
          "name": "stdout",
          "text": [
            "Prompt length: 11\n",
            "Prompt as tokens: ['<|endoftext|>', 'Mary', ' is', ' a', ' great', ' friend', ',', ' isn', '�', '�', 't']\n",
            "Prompt length: 11\n",
            "Prompt as tokens: ['<|endoftext|>', 'John', ' is', ' a', ' great', ' friend', ',', ' isn', '�', '�', 't']\n",
            "Prompt length: 11\n",
            "Prompt as tokens: ['<|endoftext|>', 'Tom', ' is', ' a', ' great', ' friend', ',', ' isn', '�', '�', 't']\n",
            "Prompt length: 11\n",
            "Prompt as tokens: ['<|endoftext|>', 'Dan', ' is', ' a', ' great', ' friend', ',', ' isn', '�', '�', 't']\n",
            "Prompt length: 11\n",
            "Prompt as tokens: ['<|endoftext|>', 'Amy', ' is', ' a', ' great', ' friend', ',', ' isn', '�', '�', 't']\n",
            "Prompt length: 11\n",
            "Prompt as tokens: ['<|endoftext|>', 'Mary', ' is', ' an', ' amazing', ' person', ',', ' isn', '�', '�', 't']\n",
            "Prompt length: 11\n",
            "Prompt as tokens: ['<|endoftext|>', 'John', ' is', ' an', ' amazing', ' person', ',', ' isn', '�', '�', 't']\n",
            "Prompt length: 11\n",
            "Prompt as tokens: ['<|endoftext|>', 'Tom', ' is', ' an', ' amazing', ' person', ',', ' isn', '�', '�', 't']\n",
            "Prompt length: 11\n",
            "Prompt as tokens: ['<|endoftext|>', 'Dan', ' is', ' an', ' amazing', ' person', ',', ' isn', '�', '�', 't']\n",
            "Prompt length: 11\n",
            "Prompt as tokens: ['<|endoftext|>', 'Amy', ' is', ' an', ' amazing', ' person', ',', ' isn', '�', '�', 't']\n",
            "Prompt length: 11\n",
            "Prompt as tokens: ['<|endoftext|>', 'Mary', ' is', ' a', ' fantastic', ' colleague', ',', ' isn', '�', '�', 't']\n",
            "Prompt length: 11\n",
            "Prompt as tokens: ['<|endoftext|>', 'John', ' is', ' a', ' fantastic', ' colleague', ',', ' isn', '�', '�', 't']\n",
            "Prompt length: 11\n",
            "Prompt as tokens: ['<|endoftext|>', 'Tom', ' is', ' a', ' fantastic', ' colleague', ',', ' isn', '�', '�', 't']\n",
            "Prompt length: 11\n",
            "Prompt as tokens: ['<|endoftext|>', 'Dan', ' is', ' a', ' fantastic', ' colleague', ',', ' isn', '�', '�', 't']\n",
            "Prompt length: 11\n",
            "Prompt as tokens: ['<|endoftext|>', 'Amy', ' is', ' a', ' fantastic', ' colleague', ',', ' isn', '�', '�', 't']\n",
            "Prompt length: 11\n",
            "Prompt as tokens: ['<|endoftext|>', 'Mary', ' is', ' a', ' wonderful', ' partner', ',', ' isn', '�', '�', 't']\n",
            "Prompt length: 11\n",
            "Prompt as tokens: ['<|endoftext|>', 'John', ' is', ' a', ' wonderful', ' partner', ',', ' isn', '�', '�', 't']\n",
            "Prompt length: 11\n",
            "Prompt as tokens: ['<|endoftext|>', 'Tom', ' is', ' a', ' wonderful', ' partner', ',', ' isn', '�', '�', 't']\n",
            "Prompt length: 11\n",
            "Prompt as tokens: ['<|endoftext|>', 'Dan', ' is', ' a', ' wonderful', ' partner', ',', ' isn', '�', '�', 't']\n",
            "Prompt length: 11\n",
            "Prompt as tokens: ['<|endoftext|>', 'Amy', ' is', ' a', ' wonderful', ' partner', ',', ' isn', '�', '�', 't']\n",
            "Prompt length: 11\n",
            "Prompt as tokens: ['<|endoftext|>', 'Mary', ' is', ' an', ' excellent', ' student', ',', ' isn', '�', '�', 't']\n",
            "Prompt length: 11\n",
            "Prompt as tokens: ['<|endoftext|>', 'John', ' is', ' an', ' excellent', ' student', ',', ' isn', '�', '�', 't']\n",
            "Prompt length: 11\n",
            "Prompt as tokens: ['<|endoftext|>', 'Tom', ' is', ' an', ' excellent', ' student', ',', ' isn', '�', '�', 't']\n",
            "Prompt length: 11\n",
            "Prompt as tokens: ['<|endoftext|>', 'Dan', ' is', ' an', ' excellent', ' student', ',', ' isn', '�', '�', 't']\n",
            "Prompt length: 11\n",
            "Prompt as tokens: ['<|endoftext|>', 'Amy', ' is', ' an', ' excellent', ' student', ',', ' isn', '�', '�', 't']\n"
          ]
        }
      ]
    },
    {
      "cell_type": "markdown",
      "source": [
        "We now run the model on these prompts and use run_with_cache to get both the logits and a cache of all internal activations for later analysis."
      ],
      "metadata": {
        "id": "M8KB4qJSE74g"
      }
    },
    {
      "cell_type": "code",
      "source": [
        "tokens = model.to_tokens(prompts, prepend_bos=True)\n",
        "# Move the tokens to the GPU\n",
        "tokens = tokens.cuda()\n",
        "# Run the model and cache all activations\n",
        "original_logits, cache = model.run_with_cache(tokens)"
      ],
      "metadata": {
        "id": "x15-Ny63-Zgc"
      },
      "execution_count": 16,
      "outputs": []
    },
    {
      "cell_type": "markdown",
      "source": [
        "We'll later be evaluating how model performance differs upon performing various interventions, so it's useful to have a metric to measure model performance. Our metric here will be the **logit difference**, the difference in logit between the correct pronoun and the incorrect pronoun (eg, `logit( she)-logit( he)`). "
      ],
      "metadata": {
        "id": "ymWr4uldFOKR"
      }
    },
    {
      "cell_type": "code",
      "source": [
        "def logits_to_ave_logit_diff(logits, answer_tokens, per_prompt=False):\n",
        "    # Only the final logits are relevant for the answer\n",
        "    final_logits = logits[:, -1, :]\n",
        "    answer_logits = final_logits.gather(dim=-1, index=answer_tokens)\n",
        "    answer_logit_diff = answer_logits[:, 0] - answer_logits[:, 1]\n",
        "    if per_prompt:\n",
        "        return answer_logit_diff\n",
        "    else:\n",
        "        return answer_logit_diff.mean()\n",
        "\n",
        "print(\"Per prompt logit difference:\", logits_to_ave_logit_diff(original_logits, answer_tokens, per_prompt=True))\n",
        "original_average_logit_diff = logits_to_ave_logit_diff(original_logits, answer_tokens)\n",
        "print(\"Average logit difference:\", logits_to_ave_logit_diff(original_logits, answer_tokens).item())"
      ],
      "metadata": {
        "id": "P7vDSEqBFNsi",
        "outputId": "ae901c4d-54e9-4a3a-efbf-18b495c71360",
        "colab": {
          "base_uri": "https://localhost:8080/"
        }
      },
      "execution_count": 17,
      "outputs": [
        {
          "output_type": "stream",
          "name": "stdout",
          "text": [
            "Per prompt logit difference: tensor([3.8977, 4.8540, 3.9514, 3.9663, 3.4600, 5.1857, 4.7339, 3.8067, 3.7226,\n",
            "        4.7266, 3.9201, 4.4639, 3.5893, 3.5116, 3.5193, 4.1234, 3.2621, 2.5424,\n",
            "        2.4767, 3.4700, 4.3414, 4.8153, 3.8081, 3.8098, 3.8759],\n",
            "       device='cuda:0')\n",
            "Average logit difference: 3.913365125656128\n"
          ]
        }
      ]
    },
    {
      "cell_type": "markdown",
      "source": [
        "We see that the average logit difference is 3.9 - for context, this represents putting an $e^{3.9}\\approx 49\\times$ higher probability on the correct answer. "
      ],
      "metadata": {
        "id": "NgggXfQkFYW6"
      }
    },
    {
      "cell_type": "markdown",
      "source": [
        "### visualize attention pattern"
      ],
      "metadata": {
        "id": "x5urCfrkII5T"
      }
    },
    {
      "cell_type": "code",
      "source": [
        "def attn_pattern(text, layer=0):\n",
        "    tokens = model.to_tokens(text)\n",
        "    logits, cache = model.run_with_cache(tokens, remove_batch_dim=True)\n",
        "    attention_pattern = cache[\"pattern\", layer, \"attn\"]\n",
        "    str_tokens = model.to_str_tokens(text)\n",
        "    return cv.attention.attention_patterns(tokens=str_tokens, attention=attention_pattern)"
      ],
      "metadata": {
        "id": "upPKAnBYSBYb"
      },
      "execution_count": 18,
      "outputs": []
    },
    {
      "cell_type": "code",
      "source": [
        "attn_pattern(\"Mary is a great friend, isn’t\")"
      ],
      "metadata": {
        "colab": {
          "base_uri": "https://localhost:8080/",
          "height": 358
        },
        "id": "JeQ9C9lTSNNd",
        "outputId": "3ddb3c77-63c7-4206-fef6-474f2023a6f1"
      },
      "execution_count": 19,
      "outputs": [
        {
          "output_type": "execute_result",
          "data": {
            "text/plain": [
              "<circuitsvis.utils.render.RenderedHTML at 0x7f73801caf70>"
            ],
            "text/html": [
              "<div id=\"circuits-vis-eef9e920-c9bd\" style=\"margin: 15px 0;\"/>\n",
              "    <script crossorigin type=\"module\">\n",
              "    import { render, AttentionPatterns } from \"https://unpkg.com/circuitsvis@1.39.1/dist/cdn/esm.js\";\n",
              "    render(\n",
              "      \"circuits-vis-eef9e920-c9bd\",\n",
              "      AttentionPatterns,\n",
              "      {\"tokens\": [\"<|endoftext|>\", \"Mary\", \" is\", \" a\", \" great\", \" friend\", \",\", \" isn\", \"\\ufffd\", \"\\ufffd\", \"t\"], \"attention\": [[[1.0, 0.0, 0.0, 0.0, 0.0, 0.0, 0.0, 0.0, 0.0, 0.0, 0.0], [0.9241277575492859, 0.07587221264839172, 0.0, 0.0, 0.0, 0.0, 0.0, 0.0, 0.0, 0.0, 0.0], [0.8504461050033569, 0.11079462617635727, 0.038759294897317886, 0.0, 0.0, 0.0, 0.0, 0.0, 0.0, 0.0, 0.0], [0.7164721488952637, 0.20774933695793152, 0.04933572933077812, 0.026442762464284897, 0.0, 0.0, 0.0, 0.0, 0.0, 0.0, 0.0], [0.626044750213623, 0.16085205972194672, 0.07551252096891403, 0.06761346012353897, 0.06997719407081604, 0.0, 0.0, 0.0, 0.0, 0.0, 0.0], [0.4132114052772522, 0.26731300354003906, 0.08658270537853241, 0.08519602566957474, 0.08222220093011856, 0.06547465920448303, 0.0, 0.0, 0.0, 0.0, 0.0], [0.5634661316871643, 0.17143146693706512, 0.03216954693198204, 0.02893027663230896, 0.14099238812923431, 0.05215859413146973, 0.010851627215743065, 0.0, 0.0, 0.0, 0.0], [0.45260143280029297, 0.21684540808200836, 0.044983986765146255, 0.034329503774642944, 0.103784941136837, 0.027563171461224556, 0.053408101201057434, 0.06648341566324234, 0.0, 0.0, 0.0], [0.3796062171459198, 0.1673605889081955, 0.05228300765156746, 0.05925770476460457, 0.08857455849647522, 0.03502056375145912, 0.07034581899642944, 0.07626314461231232, 0.07128844410181046, 0.0, 0.0], [0.20899540185928345, 0.3692856729030609, 0.03502446413040161, 0.037417374551296234, 0.05337977781891823, 0.08998826146125793, 0.08267708867788315, 0.04077892750501633, 0.051418159157037735, 0.031034793704748154, 0.0], [0.27417683601379395, 0.21706067025661469, 0.01912027969956398, 0.038436394184827805, 0.04343387857079506, 0.11575548350811005, 0.05719172582030296, 0.016545487567782402, 0.13653816282749176, 0.0568980872631073, 0.024842966347932816]], [[1.0, 0.0, 0.0, 0.0, 0.0, 0.0, 0.0, 0.0, 0.0, 0.0, 0.0], [2.5596835257601924e-05, 0.9999743700027466, 0.0, 0.0, 0.0, 0.0, 0.0, 0.0, 0.0, 0.0, 0.0], [0.0014053102349862456, 0.0012381020933389664, 0.997356653213501, 0.0, 0.0, 0.0, 0.0, 0.0, 0.0, 0.0, 0.0], [0.0027259301859885454, 0.002844118047505617, 0.002194630680605769, 0.9922352433204651, 0.0, 0.0, 0.0, 0.0, 0.0, 0.0, 0.0], [9.032872185343876e-05, 0.001954339910298586, 0.00046118328464217484, 0.0013960738433524966, 0.9960980415344238, 0.0, 0.0, 0.0, 0.0, 0.0, 0.0], [2.185663652198855e-05, 0.0011210640659555793, 9.809439507080242e-05, 0.0002102363941958174, 0.00033374858321622014, 0.9982149600982666, 0.0, 0.0, 0.0, 0.0, 0.0], [0.007657481357455254, 0.002028861315920949, 0.005029227118939161, 0.0006952054682187736, 0.00013966257392894477, 3.526356886141002e-05, 0.9844143390655518, 0.0, 0.0, 0.0, 0.0], [2.3219286958919838e-05, 0.0008946532616391778, 0.02299157902598381, 8.158345735864714e-05, 0.00010971418669214472, 0.00012598998728208244, 0.00011317056487314403, 0.9756601452827454, 0.0, 0.0, 0.0], [0.00040002784226089716, 0.01262149028480053, 0.00011089689360233024, 7.642117270734161e-05, 1.903128213598393e-05, 2.9550867111538537e-05, 8.530090417480096e-05, 0.0006019400316290557, 0.9860553741455078, 0.0, 0.0], [2.678965392988175e-05, 0.0005171183729544282, 1.7287862647208385e-05, 6.595998274860904e-05, 3.269270337113994e-06, 0.0004738281713798642, 5.2936152314941864e-06, 3.236433258280158e-05, 5.069790859124623e-05, 0.9988073110580444, 0.0], [0.00028007582295686007, 9.467836935073137e-05, 0.000463362957816571, 0.0013659591786563396, 0.00040807799086906016, 1.911776234919671e-05, 0.00022341283329296857, 0.00015480905130971223, 0.000338621495757252, 5.932020940235816e-06, 0.996645987033844]], [[1.0, 0.0, 0.0, 0.0, 0.0, 0.0, 0.0, 0.0, 0.0, 0.0, 0.0], [0.8664522171020508, 0.1335478127002716, 0.0, 0.0, 0.0, 0.0, 0.0, 0.0, 0.0, 0.0, 0.0], [0.8072137236595154, 0.08147330582141876, 0.11131293326616287, 0.0, 0.0, 0.0, 0.0, 0.0, 0.0, 0.0, 0.0], [0.7431240081787109, 0.09262573719024658, 0.1209220290184021, 0.043328262865543365, 0.0, 0.0, 0.0, 0.0, 0.0, 0.0, 0.0], [0.6745806932449341, 0.0808626264333725, 0.09120389819145203, 0.0861658826470375, 0.06718692183494568, 0.0, 0.0, 0.0, 0.0, 0.0, 0.0], [0.6582452654838562, 0.0640445202589035, 0.07375555485486984, 0.09188970178365707, 0.07994088530540466, 0.03212412819266319, 0.0, 0.0, 0.0, 0.0, 0.0], [0.44018471240997314, 0.04909701645374298, 0.05826149508357048, 0.012867108918726444, 0.027138028293848038, 0.01560091320425272, 0.3968507945537567, 0.0, 0.0, 0.0, 0.0], [0.566482424736023, 0.04949832335114479, 0.08398178964853287, 0.058020882308483124, 0.08562006801366806, 0.05079404637217522, 0.05719968304038048, 0.04840277507901192, 0.0, 0.0, 0.0], [0.5684015154838562, 0.04551055654883385, 0.09215855598449707, 0.04387196525931358, 0.042409490793943405, 0.04320448264479637, 0.052479710429906845, 0.057592276483774185, 0.05437136068940163, 0.0, 0.0], [0.5397378206253052, 0.08127900958061218, 0.07978297024965286, 0.0461384542286396, 0.021528257057070732, 0.018916288390755653, 0.057106852531433105, 0.036264073103666306, 0.05526691675186157, 0.0639793649315834, 0.0], [0.3884613811969757, 0.19649797677993774, 0.07302236557006836, 0.03992180898785591, 0.04550399258732796, 0.03322424739599228, 0.06360786408185959, 0.04536861181259155, 0.04509575292468071, 0.04533720016479492, 0.023958763107657433]], [[1.0, 0.0, 0.0, 0.0, 0.0, 0.0, 0.0, 0.0, 0.0, 0.0, 0.0], [0.009392634965479374, 0.9906073808670044, 0.0, 0.0, 0.0, 0.0, 0.0, 0.0, 0.0, 0.0, 0.0], [0.19556593894958496, 0.051083799451589584, 0.7533502578735352, 0.0, 0.0, 0.0, 0.0, 0.0, 0.0, 0.0, 0.0], [0.12101931124925613, 0.05825488269329071, 0.1880522072315216, 0.6326735019683838, 0.0, 0.0, 0.0, 0.0, 0.0, 0.0, 0.0], [0.003391510806977749, 0.001048551988787949, 0.00045641683391295373, 0.0018709010910242796, 0.9932326078414917, 0.0, 0.0, 0.0, 0.0, 0.0, 0.0], [0.0010760679142549634, 0.004584742709994316, 0.00010930639109574258, 0.00046340367407537997, 0.01681835763156414, 0.9769481420516968, 0.0, 0.0, 0.0, 0.0, 0.0], [0.06983474642038345, 0.017388727515935898, 0.05943923443555832, 0.05300774425268173, 0.08820148557424545, 0.027652891352772713, 0.6844752430915833, 0.0, 0.0, 0.0, 0.0], [0.00630208570510149, 0.0005639528972096741, 0.0021464803721755743, 0.0012139794416725636, 0.0023568901233375072, 0.001498927129432559, 0.004964463412761688, 0.9809532761573792, 0.0, 0.0, 0.0], [0.0030875157099217176, 0.0003706149000208825, 1.2166722171969013e-06, 4.9877608034876175e-06, 0.0003517158329486847, 0.00011239293962717056, 4.007826282759197e-05, 0.0008519084076397121, 0.9951796531677246, 0.0, 0.0], [0.0029740978498011827, 4.91406608489342e-05, 3.2303945772582665e-05, 2.64321752183605e-05, 0.0003226058033760637, 0.0003192879376001656, 0.0003019048017449677, 0.0020274980925023556, 0.054012563079595566, 0.9399339556694031, 0.0], [0.00044609035830944777, 0.00012565084034577012, 0.0001073210223694332, 8.66308473632671e-05, 0.0028668451122939587, 9.04600165085867e-05, 0.001601095194928348, 0.04505240172147751, 0.09973784536123276, 0.006046747323125601, 0.8438390493392944]], [[1.0, 0.0, 0.0, 0.0, 0.0, 0.0, 0.0, 0.0, 0.0, 0.0, 0.0], [0.04202323779463768, 0.957976758480072, 0.0, 0.0, 0.0, 0.0, 0.0, 0.0, 0.0, 0.0, 0.0], [0.6230669617652893, 0.1959431767463684, 0.18098986148834229, 0.0, 0.0, 0.0, 0.0, 0.0, 0.0, 0.0, 0.0], [0.37933236360549927, 0.15780436992645264, 0.2530418634414673, 0.2098214030265808, 0.0, 0.0, 0.0, 0.0, 0.0, 0.0, 0.0], [0.1433565467596054, 0.02580772154033184, 0.04731505364179611, 0.05912923812866211, 0.7243914604187012, 0.0, 0.0, 0.0, 0.0, 0.0, 0.0], [0.07067274302244186, 0.06205505132675171, 0.008355872705578804, 0.024968411773443222, 0.041828688234090805, 0.7921192049980164, 0.0, 0.0, 0.0, 0.0, 0.0], [0.17939916253089905, 0.1467132866382599, 0.13591988384723663, 0.03859395161271095, 0.08943690359592438, 0.12772446870803833, 0.2822123169898987, 0.0, 0.0, 0.0, 0.0], [0.0858839750289917, 0.018649494275450706, 0.047264061868190765, 0.03689560294151306, 0.14770036935806274, 0.06432686001062393, 0.06078523397445679, 0.538494348526001, 0.0, 0.0, 0.0], [0.07078047096729279, 0.005933377891778946, 0.01081524882465601, 0.006344921421259642, 0.011860812082886696, 0.004537038970738649, 0.00794116873294115, 0.09672188758850098, 0.7850650548934937, 0.0, 0.0], [0.011091838590800762, 0.013748389668762684, 0.0007082513766363263, 0.0003337712259963155, 0.0008100889390334487, 0.004580895882099867, 0.0012286343844607472, 0.010007916018366814, 0.8088341951370239, 0.1486559808254242, 0.0], [0.003677163738757372, 0.01596696302294731, 0.006271244492381811, 0.004829781129956245, 0.01978949084877968, 0.0018103993497788906, 0.008177617564797401, 0.17534640431404114, 0.5111348628997803, 0.11956996470689774, 0.13342608511447906]], [[1.0, 0.0, 0.0, 0.0, 0.0, 0.0, 0.0, 0.0, 0.0, 0.0, 0.0], [0.019704531878232956, 0.9802954792976379, 0.0, 0.0, 0.0, 0.0, 0.0, 0.0, 0.0, 0.0, 0.0], [0.2791630029678345, 0.0006567400996573269, 0.7201802730560303, 0.0, 0.0, 0.0, 0.0, 0.0, 0.0, 0.0, 0.0], [0.27477049827575684, 0.005905716214329004, 0.08956054598093033, 0.6297631859779358, 0.0, 0.0, 0.0, 0.0, 0.0, 0.0, 0.0], [0.10414661467075348, 0.0016891327686607838, 7.084583194227889e-05, 8.651683310745284e-05, 0.8940069079399109, 0.0, 0.0, 0.0, 0.0, 0.0, 0.0], [0.026854321360588074, 9.123217751039192e-05, 2.1944144918961683e-06, 3.99233567804913e-06, 7.06161736161448e-05, 0.9729775786399841, 0.0, 0.0, 0.0, 0.0, 0.0], [0.2322382926940918, 0.01610446162521839, 0.11636718362569809, 0.1829204112291336, 0.06501967459917068, 0.032447993755340576, 0.3549019694328308, 0.0, 0.0, 0.0, 0.0], [0.021231770515441895, 0.0010977324564009905, 0.002699007745832205, 2.2204862034413964e-05, 3.4018681617453694e-05, 8.847798744682223e-05, 9.113865417020861e-06, 0.9748176336288452, 0.0, 0.0, 0.0], [0.004957361612468958, 0.002036483958363533, 1.0916701285168529e-06, 5.547106525227719e-07, 1.3164721167413518e-05, 1.7166708232707606e-07, 2.9464536055456847e-07, 1.9956878531957045e-06, 0.9929888844490051, 0.0, 0.0], [0.005211105570197105, 3.159179323120043e-05, 1.2332931476066733e-07, 2.425173875053588e-07, 3.3019023248925805e-07, 2.0455929188756272e-05, 4.732389413675264e-08, 1.989394249335419e-08, 1.2655120826821076e-06, 0.9947348833084106, 0.0], [0.022275112569332123, 2.2140298824524507e-05, 0.0003457048733253032, 6.220560317160562e-05, 0.00013471617421600968, 4.0731478634370433e-07, 1.2705968401860446e-05, 4.015651938971132e-05, 1.4546320926456247e-05, 2.583611546924658e-07, 0.9770919680595398]], [[1.0, 0.0, 0.0, 0.0, 0.0, 0.0, 0.0, 0.0, 0.0, 0.0, 0.0], [0.8964793086051941, 0.10352066159248352, 0.0, 0.0, 0.0, 0.0, 0.0, 0.0, 0.0, 0.0, 0.0], [0.48955026268959045, 0.4728570878505707, 0.03759259358048439, 0.0, 0.0, 0.0, 0.0, 0.0, 0.0, 0.0, 0.0], [0.35964691638946533, 0.5832226276397705, 0.040367837995290756, 0.016762636601924896, 0.0, 0.0, 0.0, 0.0, 0.0, 0.0, 0.0], [0.35994693636894226, 0.3511350452899933, 0.04410796985030174, 0.03937834873795509, 0.20543172955513, 0.0, 0.0, 0.0, 0.0, 0.0, 0.0], [0.3186393082141876, 0.38064607977867126, 0.034709472209215164, 0.057006318122148514, 0.08485504239797592, 0.12414378672838211, 0.0, 0.0, 0.0, 0.0, 0.0], [0.30355438590049744, 0.3779034912586212, 0.04264587163925171, 0.018291646614670753, 0.08555889129638672, 0.16298502683639526, 0.009060770273208618, 0.0, 0.0, 0.0, 0.0], [0.24057404696941376, 0.17139481008052826, 0.0414557009935379, 0.03493935242295265, 0.12399149686098099, 0.14017638564109802, 0.040810130536556244, 0.20665805041790009, 0.0, 0.0, 0.0], [0.4368732273578644, 0.11849571764469147, 0.04997451230883598, 0.07086093723773956, 0.06215713545680046, 0.03623524680733681, 0.06296849250793457, 0.06790930777788162, 0.09452539682388306, 0.0, 0.0], [0.30002498626708984, 0.1331104338169098, 0.05682790279388428, 0.05268477275967598, 0.04550005495548248, 0.08202560991048813, 0.06373106688261032, 0.03500313311815262, 0.13848091661930084, 0.09261117875576019, 0.0], [0.1323929876089096, 0.13826720416545868, 0.03952031955122948, 0.01258466299623251, 0.042081329971551895, 0.03144816681742668, 0.023084523156285286, 0.06124109402298927, 0.2651147246360779, 0.2241973876953125, 0.03006765805184841]], [[1.0, 0.0, 0.0, 0.0, 0.0, 0.0, 0.0, 0.0, 0.0, 0.0, 0.0], [0.9809136986732483, 0.01908629946410656, 0.0, 0.0, 0.0, 0.0, 0.0, 0.0, 0.0, 0.0, 0.0], [0.5396227240562439, 0.29176777601242065, 0.16860951483249664, 0.0, 0.0, 0.0, 0.0, 0.0, 0.0, 0.0, 0.0], [0.36861613392829895, 0.13250763714313507, 0.27480751276016235, 0.22406868636608124, 0.0, 0.0, 0.0, 0.0, 0.0, 0.0, 0.0], [0.22250482439994812, 0.25634926557540894, 0.15516771376132965, 0.23809777200222015, 0.12788043916225433, 0.0, 0.0, 0.0, 0.0, 0.0, 0.0], [0.15721213817596436, 0.05013924092054367, 0.14486639201641083, 0.21717028319835663, 0.2996329367160797, 0.13097892701625824, 0.0, 0.0, 0.0, 0.0, 0.0], [0.1134597510099411, 0.05638105049729347, 0.07156173139810562, 0.11046019196510315, 0.16944895684719086, 0.14724388718605042, 0.3314444422721863, 0.0, 0.0, 0.0, 0.0], [0.13069245219230652, 0.0377245731651783, 0.04536060988903046, 0.08648010343313217, 0.11764726787805557, 0.05973000079393387, 0.3045167028903961, 0.2178482860326767, 0.0, 0.0, 0.0], [0.24046730995178223, 0.03818957135081291, 0.04613666608929634, 0.08003973960876465, 0.08537274599075317, 0.06883865594863892, 0.1746569275856018, 0.20511648058891296, 0.06118186190724373, 0.0, 0.0], [0.17703326046466827, 0.03237982094287872, 0.04590561240911484, 0.049380067735910416, 0.030376022681593895, 0.06270314753055573, 0.18085263669490814, 0.17792093753814697, 0.22592824697494507, 0.017520340159535408, 0.0], [0.02366120181977749, 0.0020540407858788967, 0.006874216720461845, 0.009270396083593369, 0.018476590514183044, 0.0072862631641328335, 0.03633302450180054, 0.06801322847604752, 0.6716974377632141, 0.08522558212280273, 0.07110803574323654]], [[1.0, 0.0, 0.0, 0.0, 0.0, 0.0, 0.0, 0.0, 0.0, 0.0, 0.0], [0.8504722714424133, 0.14952771365642548, 0.0, 0.0, 0.0, 0.0, 0.0, 0.0, 0.0, 0.0, 0.0], [0.42965167760849, 0.038752999156713486, 0.5315952897071838, 0.0, 0.0, 0.0, 0.0, 0.0, 0.0, 0.0, 0.0], [0.10234752297401428, 0.011498399078845978, 0.2864855229854584, 0.599668562412262, 0.0, 0.0, 0.0, 0.0, 0.0, 0.0, 0.0], [0.24024231731891632, 0.03834952041506767, 0.2815089225769043, 0.38325461745262146, 0.05664458125829697, 0.0, 0.0, 0.0, 0.0, 0.0, 0.0], [0.40997883677482605, 0.09779353439807892, 0.1493426263332367, 0.2084559053182602, 0.09168557077646255, 0.04274345189332962, 0.0, 0.0, 0.0, 0.0, 0.0], [0.08695457875728607, 0.0069428980350494385, 0.211904838681221, 0.22122518718242645, 0.023737134411931038, 0.012176201678812504, 0.4370591938495636, 0.0, 0.0, 0.0, 0.0], [0.2866002917289734, 0.04333050921559334, 0.15083777904510498, 0.16899117827415466, 0.08599238097667694, 0.04475071653723717, 0.1885637491941452, 0.030933396890759468, 0.0, 0.0, 0.0], [0.5218429565429688, 0.033050742000341415, 0.09242088347673416, 0.07789964228868484, 0.040596138685941696, 0.02212977036833763, 0.15776777267456055, 0.04134635254740715, 0.012945733964443207, 0.0, 0.0], [0.39396268129348755, 0.07225985825061798, 0.0643732100725174, 0.096890389919281, 0.042578089982271194, 0.02265319973230362, 0.13625267148017883, 0.020362846553325653, 0.14025788009166718, 0.0104091577231884, 0.0], [0.1529669165611267, 0.05440124496817589, 0.07626081258058548, 0.20341856777668, 0.0719350129365921, 0.03963091969490051, 0.1414293646812439, 0.027436645701527596, 0.0499698668718338, 0.05337143689393997, 0.1291792094707489]], [[1.0, 0.0, 0.0, 0.0, 0.0, 0.0, 0.0, 0.0, 0.0, 0.0, 0.0], [0.965060293674469, 0.03493974357843399, 0.0, 0.0, 0.0, 0.0, 0.0, 0.0, 0.0, 0.0, 0.0], [0.7391610741615295, 0.10732849687337875, 0.1535104662179947, 0.0, 0.0, 0.0, 0.0, 0.0, 0.0, 0.0, 0.0], [0.6383722424507141, 0.0904582068324089, 0.1272698938846588, 0.14389963448047638, 0.0, 0.0, 0.0, 0.0, 0.0, 0.0, 0.0], [0.5906960368156433, 0.09173595160245895, 0.11761192232370377, 0.12527437508106232, 0.07468176633119583, 0.0, 0.0, 0.0, 0.0, 0.0, 0.0], [0.5476996898651123, 0.11790240556001663, 0.09972228109836578, 0.10222987830638885, 0.0963701382279396, 0.03607557341456413, 0.0, 0.0, 0.0, 0.0, 0.0], [0.46348297595977783, 0.08464810252189636, 0.10658185184001923, 0.10475127398967743, 0.08147619664669037, 0.05244479700922966, 0.10661482810974121, 0.0, 0.0, 0.0, 0.0], [0.40416064858436584, 0.0668407678604126, 0.10960320383310318, 0.09572062641382217, 0.08699838072061539, 0.061609700322151184, 0.10484470427036285, 0.07022202014923096, 0.0, 0.0, 0.0], [0.47833213210105896, 0.09581758081912994, 0.08622667193412781, 0.06932564824819565, 0.05892759561538696, 0.0460163913667202, 0.08334796130657196, 0.06298451125621796, 0.019021516665816307, 0.0, 0.0], [0.4237171411514282, 0.08494190126657486, 0.08150969445705414, 0.0752410888671875, 0.057948458939790726, 0.05484816059470177, 0.08507037162780762, 0.049809087067842484, 0.05662914738059044, 0.030284976586699486, 0.0], [0.29155483841896057, 0.05952155590057373, 0.07926162332296371, 0.08914325386285782, 0.06041364371776581, 0.0508863665163517, 0.09674382954835892, 0.050695084035396576, 0.08465830236673355, 0.06306528300046921, 0.0740562304854393]], [[1.0, 0.0, 0.0, 0.0, 0.0, 0.0, 0.0, 0.0, 0.0, 0.0, 0.0], [0.770340621471405, 0.22965940833091736, 0.0, 0.0, 0.0, 0.0, 0.0, 0.0, 0.0, 0.0, 0.0], [0.6483977437019348, 0.06391812115907669, 0.2876841425895691, 0.0, 0.0, 0.0, 0.0, 0.0, 0.0, 0.0, 0.0], [0.5861782431602478, 0.06931764632463455, 0.11581556499004364, 0.228688582777977, 0.0, 0.0, 0.0, 0.0, 0.0, 0.0, 0.0], [0.43201592564582825, 0.06791190057992935, 0.10180205851793289, 0.12663771212100983, 0.27163246273994446, 0.0, 0.0, 0.0, 0.0, 0.0, 0.0], [0.3887978494167328, 0.062285784631967545, 0.11985058337450027, 0.11736086010932922, 0.05874631553888321, 0.25295865535736084, 0.0, 0.0, 0.0, 0.0, 0.0], [0.3870532512664795, 0.11119861900806427, 0.14716768264770508, 0.12482205778360367, 0.06061255931854248, 0.04851418733596802, 0.12063170969486237, 0.0, 0.0, 0.0, 0.0], [0.2446599304676056, 0.056629449129104614, 0.22386592626571655, 0.099549300968647, 0.051384083926677704, 0.040584415197372437, 0.08622480183839798, 0.1971021443605423, 0.0, 0.0, 0.0], [0.2960488796234131, 0.09092801064252853, 0.0969957783818245, 0.08505431562662125, 0.060928404331207275, 0.021633582189679146, 0.07863610982894897, 0.0488240122795105, 0.2209509164094925, 0.0, 0.0], [0.302714079618454, 0.062169354408979416, 0.08610741794109344, 0.08755765110254288, 0.03400102257728577, 0.062685526907444, 0.08554401248693466, 0.03699452430009842, 0.04080533608794212, 0.2014211267232895, 0.0], [0.24317164719104767, 0.06213481351733208, 0.08912929147481918, 0.10482070595026016, 0.05164649710059166, 0.017591416835784912, 0.08332529664039612, 0.03941322863101959, 0.03813823312520981, 0.018161287531256676, 0.2524676024913788]], [[1.0, 0.0, 0.0, 0.0, 0.0, 0.0, 0.0, 0.0, 0.0, 0.0, 0.0], [0.7916390299797058, 0.20836089551448822, 0.0, 0.0, 0.0, 0.0, 0.0, 0.0, 0.0, 0.0, 0.0], [0.7317491769790649, 0.11005772650241852, 0.15819305181503296, 0.0, 0.0, 0.0, 0.0, 0.0, 0.0, 0.0, 0.0], [0.6366771459579468, 0.11437370628118515, 0.1344013512134552, 0.11454781889915466, 0.0, 0.0, 0.0, 0.0, 0.0, 0.0, 0.0], [0.6409188508987427, 0.13019110262393951, 0.06245530769228935, 0.055507950484752655, 0.11092674732208252, 0.0, 0.0, 0.0, 0.0, 0.0, 0.0], [0.4594575762748718, 0.1332288533449173, 0.12488467991352081, 0.06359947472810745, 0.07935980707406998, 0.13946963846683502, 0.0, 0.0, 0.0, 0.0, 0.0], [0.4008294343948364, 0.11348506808280945, 0.10094813257455826, 0.07063497602939606, 0.09479033201932907, 0.09493230283260345, 0.12437976151704788, 0.0, 0.0, 0.0, 0.0], [0.4805196225643158, 0.06337243318557739, 0.07441163063049316, 0.05787506699562073, 0.07235008478164673, 0.044080380350351334, 0.12329567968845367, 0.08409508317708969, 0.0, 0.0, 0.0], [0.2076287418603897, 0.0607038252055645, 0.06838539242744446, 0.09439155459403992, 0.08085129410028458, 0.09571560472249985, 0.13092242181301117, 0.09136094152927399, 0.1700403094291687, 0.0, 0.0], [0.1949935257434845, 0.06914274394512177, 0.062274396419525146, 0.05271550267934799, 0.07750280201435089, 0.10630498826503754, 0.07765962183475494, 0.10566256195306778, 0.2347581684589386, 0.01898573525249958, 0.0], [0.30168670415878296, 0.07683274149894714, 0.05793948471546173, 0.05265786498785019, 0.08022311329841614, 0.07173970341682434, 0.0651191920042038, 0.10693690925836563, 0.11511000245809555, 0.032369282096624374, 0.03938503563404083]]]}\n",
              "    )\n",
              "    </script>"
            ]
          },
          "metadata": {},
          "execution_count": 19
        }
      ]
    },
    {
      "cell_type": "code",
      "source": [
        "attn_pattern(\"John is a great friend, isn’t\")"
      ],
      "metadata": {
        "colab": {
          "base_uri": "https://localhost:8080/",
          "height": 358
        },
        "id": "6FjzEdSnSZE_",
        "outputId": "6635fbb4-491f-43be-af7a-3a63fda5e1c0"
      },
      "execution_count": 20,
      "outputs": [
        {
          "output_type": "execute_result",
          "data": {
            "text/plain": [
              "<circuitsvis.utils.render.RenderedHTML at 0x7f7380e7ce20>"
            ],
            "text/html": [
              "<div id=\"circuits-vis-01633ae0-ad0f\" style=\"margin: 15px 0;\"/>\n",
              "    <script crossorigin type=\"module\">\n",
              "    import { render, AttentionPatterns } from \"https://unpkg.com/circuitsvis@1.39.1/dist/cdn/esm.js\";\n",
              "    render(\n",
              "      \"circuits-vis-01633ae0-ad0f\",\n",
              "      AttentionPatterns,\n",
              "      {\"tokens\": [\"<|endoftext|>\", \"John\", \" is\", \" a\", \" great\", \" friend\", \",\", \" isn\", \"\\ufffd\", \"\\ufffd\", \"t\"], \"attention\": [[[1.0, 0.0, 0.0, 0.0, 0.0, 0.0, 0.0, 0.0, 0.0, 0.0, 0.0], [0.9160588383674622, 0.08394121378660202, 0.0, 0.0, 0.0, 0.0, 0.0, 0.0, 0.0, 0.0, 0.0], [0.8106353878974915, 0.15241974592208862, 0.0369449108839035, 0.0, 0.0, 0.0, 0.0, 0.0, 0.0, 0.0, 0.0], [0.7921577095985413, 0.12405886501073837, 0.05454738065600395, 0.0292360819876194, 0.0, 0.0, 0.0, 0.0, 0.0, 0.0, 0.0], [0.6375023722648621, 0.14549429714679718, 0.07689452916383743, 0.06885088980197906, 0.07125788927078247, 0.0, 0.0, 0.0, 0.0, 0.0, 0.0], [0.5114253163337708, 0.09316474199295044, 0.10716205835342407, 0.10544579476118088, 0.10176514089107513, 0.08103696256875992, 0.0, 0.0, 0.0, 0.0, 0.0], [0.5739978551864624, 0.15594473481178284, 0.032770827412605286, 0.029471009969711304, 0.14362767338752747, 0.053133487701416016, 0.011054454371333122, 0.0, 0.0, 0.0, 0.0], [0.5124868750572205, 0.11322316527366638, 0.05093599483370781, 0.038871776312589645, 0.1175171360373497, 0.031210163608193398, 0.060474738478660583, 0.075280100107193, 0.0, 0.0, 0.0], [0.36185312271118164, 0.206300750374794, 0.049837879836559296, 0.05648639053106308, 0.08443217724561691, 0.033382754772901535, 0.06705594807863235, 0.07269653677940369, 0.06795448809862137, 0.0, 0.0], [0.26336994767189026, 0.20519223809242249, 0.04413680359721184, 0.047152284532785416, 0.06726764887571335, 0.11340058594942093, 0.1041872575879097, 0.05138840898871422, 0.06479567289352417, 0.03910914063453674, 0.0], [0.3113204836845398, 0.11099331825971603, 0.02171056903898716, 0.04364350065588951, 0.04931801185011864, 0.1314372569322586, 0.06493967771530151, 0.01878696121275425, 0.15503543615341187, 0.06460625678300858, 0.028208523988723755]], [[1.0, 0.0, 0.0, 0.0, 0.0, 0.0, 0.0, 0.0, 0.0, 0.0, 0.0], [0.000681899196933955, 0.9993181228637695, 0.0, 0.0, 0.0, 0.0, 0.0, 0.0, 0.0, 0.0, 0.0], [0.0014064888237044215, 0.00040038605220615864, 0.998193085193634, 0.0, 0.0, 0.0, 0.0, 0.0, 0.0, 0.0, 0.0], [0.002720833756029606, 0.004708463791757822, 0.002190527506172657, 0.9903801679611206, 0.0, 0.0, 0.0, 0.0, 0.0, 0.0, 0.0], [9.032112575368956e-05, 0.00203813542611897, 0.00046114451834000647, 0.001395956496708095, 0.9960143566131592, 0.0, 0.0, 0.0, 0.0, 0.0, 0.0], [2.1727601051679812e-05, 0.007018161006271839, 9.75152725004591e-05, 0.00020899523224215955, 0.0003317782247904688, 0.992321789264679, 0.0, 0.0, 0.0, 0.0, 0.0], [0.007671395316720009, 0.0002154231769964099, 0.005038365721702576, 0.0006964686908759177, 0.00013991634477861226, 3.532764458213933e-05, 0.9862030744552612, 0.0, 0.0, 0.0, 0.0], [2.3235535991261713e-05, 0.00019543633970897645, 0.023007668554782867, 8.164055179804564e-05, 0.0001097909698728472, 0.00012607817188836634, 0.00011324976367177442, 0.9763429760932922, 0.0, 0.0, 0.0], [0.00040485317003913224, 0.0007112811435945332, 0.00011223457840969786, 7.734300015727058e-05, 1.926084587466903e-05, 2.9907321732025594e-05, 8.632984099676833e-05, 0.0006092009134590626, 0.9979496598243713, 0.0, 0.0], [2.6770634576678276e-05, 0.0012266559060662985, 1.7275588106713258e-05, 6.591315468540415e-05, 3.2669493066350697e-06, 0.00047349176020361483, 5.28985674463911e-06, 3.234135510865599e-05, 5.066191442892887e-05, 0.9980981945991516, 0.0], [0.000280039879726246, 0.00022300508862826973, 0.00046330352779477835, 0.0013657838571816683, 0.0004080256330780685, 1.9115308532491326e-05, 0.0002233841660199687, 0.0001547891879454255, 0.0003385780437383801, 5.931260147917783e-06, 0.9965181350708008]], [[1.0, 0.0, 0.0, 0.0, 0.0, 0.0, 0.0, 0.0, 0.0, 0.0, 0.0], [0.9578661918640137, 0.04213382303714752, 0.0, 0.0, 0.0, 0.0, 0.0, 0.0, 0.0, 0.0, 0.0], [0.8197599053382874, 0.0671970397233963, 0.11304301768541336, 0.0, 0.0, 0.0, 0.0, 0.0, 0.0, 0.0, 0.0], [0.7478424906730652, 0.08686438947916031, 0.1216898262500763, 0.043603379279375076, 0.0, 0.0, 0.0, 0.0, 0.0, 0.0, 0.0], [0.659646213054657, 0.1012113094329834, 0.08918474614620209, 0.08425825834274292, 0.06569947302341461, 0.0, 0.0, 0.0, 0.0, 0.0, 0.0], [0.6154539585113525, 0.12488915771245956, 0.06896083801984787, 0.08591612428426743, 0.0747440755367279, 0.030035799369215965, 0.0, 0.0, 0.0, 0.0, 0.0], [0.44727006554603577, 0.03379101678729057, 0.05919928848743439, 0.013074221089482307, 0.027574850246310234, 0.015852030366659164, 0.40323859453201294, 0.0, 0.0, 0.0, 0.0], [0.547552227973938, 0.08126131445169449, 0.08117536455392838, 0.05608199164271355, 0.08275889605283737, 0.04909665882587433, 0.05528823658823967, 0.04678529500961304, 0.0, 0.0, 0.0], [0.5159608721733093, 0.13357166945934296, 0.08365601301193237, 0.039824340492486954, 0.03849679231643677, 0.039218440651893616, 0.0476379357278347, 0.05227881669998169, 0.04935506358742714, 0.0, 0.0], [0.5348391532897949, 0.08961721509695053, 0.07905886322259903, 0.045719705522060394, 0.021332869306206703, 0.018744604662060738, 0.0565885566174984, 0.035934943705797195, 0.05476531758904457, 0.06339869648218155, 0.0], [0.4329136312007904, 0.1045520082116127, 0.08137843012809753, 0.04449012503027916, 0.05071108788251877, 0.03702614828944206, 0.07088661938905716, 0.05056021735072136, 0.05025613307952881, 0.05052521079778671, 0.026700403541326523]], [[1.0, 0.0, 0.0, 0.0, 0.0, 0.0, 0.0, 0.0, 0.0, 0.0, 0.0], [0.14604370296001434, 0.8539562821388245, 0.0, 0.0, 0.0, 0.0, 0.0, 0.0, 0.0, 0.0, 0.0], [0.1982637643814087, 0.037993624806404114, 0.7637426853179932, 0.0, 0.0, 0.0, 0.0, 0.0, 0.0, 0.0, 0.0], [0.12278435379266739, 0.04451984539628029, 0.1907949149608612, 0.6419009566307068, 0.0, 0.0, 0.0, 0.0, 0.0, 0.0, 0.0], [0.0033938789274543524, 0.00035108442534692585, 0.00045673552085645497, 0.0018722075037658215, 0.9939261078834534, 0.0, 0.0, 0.0, 0.0, 0.0, 0.0], [0.0010784643236547709, 0.0023679444566369057, 0.00010954982280964032, 0.00046443569590337574, 0.016855811700224876, 0.9791238307952881, 0.0, 0.0, 0.0, 0.0, 0.0], [0.07010054588317871, 0.013648774474859238, 0.05966546759009361, 0.05320949852466583, 0.08853718638420105, 0.027758141979575157, 0.6870803833007812, 0.0, 0.0, 0.0, 0.0], [0.006300091743469238, 0.000880317238625139, 0.002145801205188036, 0.0012135952711105347, 0.0023561441339552402, 0.001498452853411436, 0.004962892271578312, 0.9806428551673889, 0.0, 0.0, 0.0], [0.0030882989522069693, 0.00011701324547175318, 1.2169808769613155e-06, 4.9890263653651346e-06, 0.00035180506529286504, 0.00011242145410506055, 4.008843097835779e-05, 0.0008521245326846838, 0.9954321384429932, 0.0, 0.0], [0.002972810762003064, 0.00048191598034463823, 3.228996502002701e-05, 2.64207355940016e-05, 0.00032246619230136275, 0.00031914975261315703, 0.00030177412554621696, 0.002026620553806424, 0.053989190608263016, 0.9395272135734558, 0.0], [0.0004461064236238599, 8.957261889008805e-05, 0.00010732488590292633, 8.663396874908358e-05, 0.002866948489099741, 9.046327613759786e-05, 0.0016011528205126524, 0.04505402594804764, 0.09974143654108047, 0.006046965252608061, 0.8438694477081299]], [[1.0, 0.0, 0.0, 0.0, 0.0, 0.0, 0.0, 0.0, 0.0, 0.0, 0.0], [0.39140400290489197, 0.6085960268974304, 0.0, 0.0, 0.0, 0.0, 0.0, 0.0, 0.0, 0.0, 0.0], [0.6379892230033875, 0.17668631672859192, 0.1853245049715042, 0.0, 0.0, 0.0, 0.0, 0.0, 0.0, 0.0, 0.0], [0.3839794993400574, 0.14748677611351013, 0.2561418414115906, 0.2123918980360031, 0.0, 0.0, 0.0, 0.0, 0.0, 0.0, 0.0], [0.14311113953590393, 0.027475405484437943, 0.047234054654836655, 0.0590280182659626, 0.7231513857841492, 0.0, 0.0, 0.0, 0.0, 0.0, 0.0], [0.07241693884134293, 0.038906682282686234, 0.008562094531953335, 0.0255846306681633, 0.04286101460456848, 0.8116685748100281, 0.0, 0.0, 0.0, 0.0, 0.0], [0.18803851306438446, 0.10562150925397873, 0.14246539771556854, 0.04045252129435539, 0.09374392032623291, 0.13387531042099, 0.2958028316497803, 0.0, 0.0, 0.0, 0.0], [0.08594030886888504, 0.01800578646361828, 0.047295063734054565, 0.03691980615258217, 0.14779725670814514, 0.06436905264854431, 0.060825105756521225, 0.5388475656509399, 0.0, 0.0, 0.0], [0.07033984363079071, 0.01212170161306858, 0.010747920721769333, 0.006305422633886337, 0.011786974966526031, 0.004508794751018286, 0.007891733199357986, 0.09611976891756058, 0.7801778316497803, 0.0, 0.0], [0.011137932538986206, 0.009649820625782013, 0.0007111946470104158, 0.0003351582563482225, 0.0008134553791023791, 0.0045999325811862946, 0.001233740127645433, 0.010049506090581417, 0.8121954202651978, 0.14927373826503754, 0.0], [0.003726709634065628, 0.002708166604861617, 0.006355742923915386, 0.004894857294857502, 0.02005613222718239, 0.0018347925506532192, 0.008287803269922733, 0.17770901322364807, 0.518021821975708, 0.12118104845285416, 0.1352238655090332]], [[1.0, 0.0, 0.0, 0.0, 0.0, 0.0, 0.0, 0.0, 0.0, 0.0, 0.0], [0.26197245717048645, 0.7380275726318359, 0.0, 0.0, 0.0, 0.0, 0.0, 0.0, 0.0, 0.0, 0.0], [0.27833297848701477, 0.003628133563324809, 0.7180389761924744, 0.0, 0.0, 0.0, 0.0, 0.0, 0.0, 0.0, 0.0], [0.27364102005958557, 0.009992042556405067, 0.08919240534305573, 0.6271744966506958, 0.0, 0.0, 0.0, 0.0, 0.0, 0.0, 0.0], [0.1042315885424614, 0.0008745763334445655, 7.090363942552358e-05, 8.658743172418326e-05, 0.8947363495826721, 0.0, 0.0, 0.0, 0.0, 0.0, 0.0], [0.02656596712768078, 0.010828034952282906, 2.1708515305363107e-06, 3.949467100028414e-06, 6.98579169693403e-05, 0.9625300168991089, 0.0, 0.0, 0.0, 0.0, 0.0], [0.22885045409202576, 0.030457329005002975, 0.11466965079307556, 0.18025201559066772, 0.0640711858868599, 0.03197465091943741, 0.34972476959228516, 0.0, 0.0, 0.0, 0.0], [0.021178755909204483, 0.003591942833736539, 0.0026922684628516436, 2.2149417418404482e-05, 3.393373845028691e-05, 8.825706026982516e-05, 9.091108040593099e-06, 0.9723835587501526, 0.0, 0.0, 0.0], [0.0049671814776957035, 5.9674031945178285e-05, 1.0938325658571557e-06, 5.558094926527701e-07, 1.3190798199502751e-05, 1.7200713386955613e-07, 2.952290003577218e-07, 1.9996409719169606e-06, 0.994955837726593, 0.0, 0.0], [0.005210129078477621, 0.00021899613784626126, 1.233062079109004e-07, 2.4247191277027014e-07, 3.3012835842782806e-07, 2.0452094759093598e-05, 4.7315026563410356e-08, 1.9890213920348288e-08, 1.2652748182517826e-06, 0.9945483803749084, 0.0], [0.02227507345378399, 2.394193143118173e-05, 0.0003457042621448636, 6.220550130819902e-05, 0.00013471594138536602, 4.0731407580096857e-07, 1.2705946573987603e-05, 4.0156450268113986e-05, 1.4546295460604597e-05, 2.583606999451149e-07, 0.9770902395248413]], [[1.0, 0.0, 0.0, 0.0, 0.0, 0.0, 0.0, 0.0, 0.0, 0.0, 0.0], [0.8730869293212891, 0.12691305577754974, 0.0, 0.0, 0.0, 0.0, 0.0, 0.0, 0.0, 0.0, 0.0], [0.5841832756996155, 0.3709571957588196, 0.044859472662210464, 0.0, 0.0, 0.0, 0.0, 0.0, 0.0, 0.0, 0.0], [0.47035640478134155, 0.4549267590045929, 0.052794199436903, 0.021922647953033447, 0.0, 0.0, 0.0, 0.0, 0.0, 0.0, 0.0], [0.34517204761505127, 0.37776926159858704, 0.04229745641350746, 0.03776196762919426, 0.19699928164482117, 0.0, 0.0, 0.0, 0.0, 0.0, 0.0], [0.36255666613578796, 0.2952818274497986, 0.03949340060353279, 0.06486337631940842, 0.09655044227838516, 0.1412542760372162, 0.0, 0.0, 0.0, 0.0, 0.0], [0.3120196461677551, 0.36055487394332886, 0.043835144490003586, 0.018801748752593994, 0.087944895029068, 0.16753022372722626, 0.009313449263572693, 0.0, 0.0, 0.0, 0.0], [0.2389196902513504, 0.1770927906036377, 0.0411706268787384, 0.03469908609986305, 0.12313885241746902, 0.1392124444246292, 0.04052949324250221, 0.20523694157600403, 0.0, 0.0, 0.0], [0.42531317472457886, 0.14182120561599731, 0.04865214228630066, 0.06898589432239532, 0.06051240116357803, 0.03527642786502838, 0.06130228936672211, 0.06611236184835434, 0.09202416986227036, 0.0, 0.0], [0.2851327061653137, 0.17614002525806427, 0.0540071502327919, 0.050069671124219894, 0.043241579085588455, 0.07795412093400955, 0.06056766211986542, 0.03326569125056267, 0.13160717487335205, 0.08801425993442535, 0.0], [0.14254766702651978, 0.07217136025428772, 0.04255157336592674, 0.013549920171499252, 0.04530901461839676, 0.03386027365922928, 0.024855129420757294, 0.06593835353851318, 0.2854492962360382, 0.2413935661315918, 0.032373879104852676]], [[1.0, 0.0, 0.0, 0.0, 0.0, 0.0, 0.0, 0.0, 0.0, 0.0, 0.0], [0.9884572625160217, 0.011542754247784615, 0.0, 0.0, 0.0, 0.0, 0.0, 0.0, 0.0, 0.0, 0.0], [0.4353884160518646, 0.4285708963871002, 0.13604065775871277, 0.0, 0.0, 0.0, 0.0, 0.0, 0.0, 0.0, 0.0], [0.38945910334587097, 0.08345629274845123, 0.2903461754322052, 0.236738383769989, 0.0, 0.0, 0.0, 0.0, 0.0, 0.0, 0.0], [0.2582053244113922, 0.13703174889087677, 0.1800641119480133, 0.2763001322746277, 0.14839863777160645, 0.0, 0.0, 0.0, 0.0, 0.0, 0.0], [0.15362471342086792, 0.07181417942047119, 0.14156068861484528, 0.2122146636247635, 0.2927956283092499, 0.12799011170864105, 0.0, 0.0, 0.0, 0.0, 0.0], [0.11320924013853073, 0.05846452713012695, 0.07140372693538666, 0.11021631211042404, 0.16907483339309692, 0.14691878855228424, 0.3307126462459564, 0.0, 0.0, 0.0, 0.0], [0.12792079150676727, 0.05813205614686012, 0.04439862444996834, 0.084646075963974, 0.1151522621512413, 0.05846327170729637, 0.2980586588382721, 0.2132282555103302, 0.0, 0.0, 0.0], [0.23519392311573029, 0.05928191542625427, 0.045124899595975876, 0.07828448712825775, 0.08350054174661636, 0.067329041659832, 0.1708267480134964, 0.20061832666397095, 0.05984015762805939, 0.0, 0.0], [0.17643128335475922, 0.0356699638068676, 0.045749515295028687, 0.04921215772628784, 0.03027273342013359, 0.062489934265613556, 0.18023768067359924, 0.17731593549251556, 0.22516000270843506, 0.017460765317082405, 0.0], [0.023678988218307495, 0.0013038496254011989, 0.006879384163767099, 0.009277364239096642, 0.01849048025906086, 0.007291740272194147, 0.03636033833026886, 0.06806435436010361, 0.6722023487091064, 0.08528964966535568, 0.07116149365901947]], [[1.0, 0.0, 0.0, 0.0, 0.0, 0.0, 0.0, 0.0, 0.0, 0.0, 0.0], [0.8234383463859558, 0.1765616089105606, 0.0, 0.0, 0.0, 0.0, 0.0, 0.0, 0.0, 0.0, 0.0], [0.4242064356803894, 0.0509355366230011, 0.5248580574989319, 0.0, 0.0, 0.0, 0.0, 0.0, 0.0, 0.0, 0.0], [0.1015453115105629, 0.019246414303779602, 0.2842400074005127, 0.5949682593345642, 0.0, 0.0, 0.0, 0.0, 0.0, 0.0, 0.0], [0.23949292302131653, 0.04134926572442055, 0.28063079714775085, 0.38205912709236145, 0.05646789073944092, 0.0, 0.0, 0.0, 0.0, 0.0, 0.0], [0.42037448287010193, 0.07491669803857803, 0.1531294286251068, 0.21374161541461945, 0.09401040524244308, 0.043827276676893234, 0.0, 0.0, 0.0, 0.0, 0.0], [0.08656033873558044, 0.0114452438428998, 0.21094410121440887, 0.22022219002246857, 0.023629512637853622, 0.012120996601879597, 0.43507760763168335, 0.0, 0.0, 0.0, 0.0], [0.288650244474411, 0.03648781031370163, 0.15191668272018433, 0.1701999306678772, 0.08660745620727539, 0.04507080465555191, 0.18991248309612274, 0.031154654920101166, 0.0, 0.0, 0.0], [0.5148383975028992, 0.04602983221411705, 0.09118033945560455, 0.07685401290655136, 0.04005122557282448, 0.021832728758454323, 0.1556500941514969, 0.04079136997461319, 0.012771966867148876, 0.0, 0.0], [0.3913733959197998, 0.07835735380649567, 0.06395012140274048, 0.09625358134508133, 0.042298246175050735, 0.02250431291759014, 0.13535715639591217, 0.02022901363670826, 0.13933604955673218, 0.010340744629502296, 0.0], [0.15264472365379333, 0.05639301985502243, 0.0761001780629158, 0.2029900997877121, 0.07178349792957306, 0.03954744338989258, 0.1411314755678177, 0.027378855273127556, 0.04986461624503136, 0.05325901880860329, 0.12890711426734924]], [[1.0, 0.0, 0.0, 0.0, 0.0, 0.0, 0.0, 0.0, 0.0, 0.0, 0.0], [0.9287374019622803, 0.07126260548830032, 0.0, 0.0, 0.0, 0.0, 0.0, 0.0, 0.0, 0.0, 0.0], [0.7374254465103149, 0.10942454636096954, 0.15315000712871552, 0.0, 0.0, 0.0, 0.0, 0.0, 0.0, 0.0, 0.0], [0.636130154132843, 0.09365268051624298, 0.12682288885116577, 0.14339423179626465, 0.0, 0.0, 0.0, 0.0, 0.0, 0.0, 0.0], [0.5982750058174133, 0.08008232712745667, 0.11912095546722412, 0.12688171863555908, 0.07563997805118561, 0.0, 0.0, 0.0, 0.0, 0.0, 0.0], [0.5630636215209961, 0.093158058822155, 0.10251966118812561, 0.10509759932756424, 0.09907349199056625, 0.03708755597472191, 0.0, 0.0, 0.0, 0.0, 0.0], [0.46330174803733826, 0.0850059762597084, 0.10654017329216003, 0.10471031069755554, 0.08144433796405792, 0.05242428928613663, 0.10657314211130142, 0.0, 0.0, 0.0, 0.0], [0.39898180961608887, 0.07879803329706192, 0.10819876939058304, 0.09449408948421478, 0.08588360249996185, 0.06082024797797203, 0.10350125283002853, 0.06932221353054047, 0.0, 0.0, 0.0], [0.48431137204170227, 0.08451515436172485, 0.08730452507734299, 0.07019223272800446, 0.059664200991392136, 0.04659160599112511, 0.084389828145504, 0.06377182900905609, 0.019259288907051086, 0.0, 0.0], [0.42786726355552673, 0.0759793072938919, 0.08230804651975632, 0.07597804069519043, 0.058516036719083786, 0.055385373532772064, 0.0859035924077034, 0.05029694363474846, 0.05718380585312843, 0.030581604689359665, 0.0], [0.29106271266937256, 0.06110900640487671, 0.07912783324718475, 0.08899278193712234, 0.06031166762113571, 0.050800472497940063, 0.09658052772283554, 0.05060951039195061, 0.08451540023088455, 0.06295882910490036, 0.07393122464418411]], [[1.0, 0.0, 0.0, 0.0, 0.0, 0.0, 0.0, 0.0, 0.0, 0.0, 0.0], [0.7503407001495361, 0.24965934455394745, 0.0, 0.0, 0.0, 0.0, 0.0, 0.0, 0.0, 0.0, 0.0], [0.6437368988990784, 0.07064685225486755, 0.2856162190437317, 0.0, 0.0, 0.0, 0.0, 0.0, 0.0, 0.0, 0.0], [0.5741373300552368, 0.08843515813350677, 0.11343654990196228, 0.2239910066127777, 0.0, 0.0, 0.0, 0.0, 0.0, 0.0, 0.0], [0.41785672307014465, 0.09846082329750061, 0.09846551716327667, 0.12248718738555908, 0.2627297639846802, 0.0, 0.0, 0.0, 0.0, 0.0, 0.0], [0.3678770065307617, 0.11274335533380508, 0.11340153962373734, 0.11104578524827957, 0.05558523163199425, 0.2393471896648407, 0.0, 0.0, 0.0, 0.0, 0.0], [0.3975535035133362, 0.08708658814430237, 0.15116016566753387, 0.12820832431316376, 0.06225690245628357, 0.04983031749725342, 0.12390429526567459, 0.0, 0.0, 0.0, 0.0], [0.24493585526943207, 0.05556550994515419, 0.2241183966398239, 0.09966156631708145, 0.05144203454256058, 0.04063018411397934, 0.08632204681634903, 0.19732443988323212, 0.0, 0.0, 0.0], [0.2934730052947998, 0.09883777052164078, 0.09615183621644974, 0.0843142718076706, 0.06039827689528465, 0.021445350721478462, 0.07795190811157227, 0.04839920252561569, 0.21902845799922943, 0.0, 0.0], [0.30171695351600647, 0.06525850296020508, 0.08582378178834915, 0.08726923912763596, 0.03388902544975281, 0.06247904524207115, 0.085262231528759, 0.03687266632914543, 0.04067092388868332, 0.20075765252113342, 0.0], [0.24440467357635498, 0.057379260659217834, 0.08958122879266739, 0.10535220801830292, 0.051908377557992935, 0.017680615186691284, 0.08374780416488647, 0.03961307555437088, 0.038331616669893265, 0.018253376707434654, 0.25374776124954224]], [[1.0, 0.0, 0.0, 0.0, 0.0, 0.0, 0.0, 0.0, 0.0, 0.0, 0.0], [0.7464430928230286, 0.25355687737464905, 0.0, 0.0, 0.0, 0.0, 0.0, 0.0, 0.0, 0.0, 0.0], [0.7035788297653198, 0.14431805908679962, 0.15210305154323578, 0.0, 0.0, 0.0, 0.0, 0.0, 0.0, 0.0, 0.0], [0.6230180859565735, 0.13337364792823792, 0.1315179467201233, 0.1120903491973877, 0.0, 0.0, 0.0, 0.0, 0.0, 0.0, 0.0], [0.6127098202705383, 0.16847436130046844, 0.0597064383327961, 0.05306485667824745, 0.10604448616504669, 0.0, 0.0, 0.0, 0.0, 0.0, 0.0], [0.4516918957233429, 0.14787882566452026, 0.1227739006280899, 0.06252453476190567, 0.07801847904920578, 0.1371123492717743, 0.0, 0.0, 0.0, 0.0, 0.0], [0.3938693702220917, 0.12887857854366302, 0.09919525682926178, 0.06940846145153046, 0.09314438700675964, 0.09328388422727585, 0.12222001701593399, 0.0, 0.0, 0.0, 0.0], [0.4627307057380676, 0.09804651886224747, 0.07165689766407013, 0.055732518434524536, 0.06967166811227798, 0.04244851693511009, 0.11873124539852142, 0.08098187297582626, 0.0, 0.0, 0.0], [0.20230434834957123, 0.08479087799787521, 0.0666317269206047, 0.09197099506855011, 0.07877796143293381, 0.09326109290122986, 0.12756507098674774, 0.08901809900999069, 0.16567982733249664, 0.0, 0.0], [0.19246162474155426, 0.08122941106557846, 0.0614657923579216, 0.0520310141146183, 0.07649646699428558, 0.10492466390132904, 0.07665125280618668, 0.10429058223962784, 0.23170994222164154, 0.018739214166998863, 0.0], [0.2980947196483612, 0.08782428503036499, 0.05724963918328285, 0.05203090235590935, 0.0792679414153099, 0.0708855465054512, 0.06434385478496552, 0.10566367954015732, 0.11373946070671082, 0.031983882188797, 0.038916103541851044]]]}\n",
              "    )\n",
              "    </script>"
            ]
          },
          "metadata": {},
          "execution_count": 20
        }
      ]
    },
    {
      "cell_type": "code",
      "source": [
        "attn_pattern(\"Matrix is a great movie, isn’t\")"
      ],
      "metadata": {
        "colab": {
          "base_uri": "https://localhost:8080/",
          "height": 358
        },
        "id": "R3yg_t_vSZhm",
        "outputId": "3bf41d34-166b-449d-ab51-f20abb4fb340"
      },
      "execution_count": 21,
      "outputs": [
        {
          "output_type": "execute_result",
          "data": {
            "text/plain": [
              "<circuitsvis.utils.render.RenderedHTML at 0x7f73801cab20>"
            ],
            "text/html": [
              "<div id=\"circuits-vis-61e022ba-8921\" style=\"margin: 15px 0;\"/>\n",
              "    <script crossorigin type=\"module\">\n",
              "    import { render, AttentionPatterns } from \"https://unpkg.com/circuitsvis@1.39.1/dist/cdn/esm.js\";\n",
              "    render(\n",
              "      \"circuits-vis-61e022ba-8921\",\n",
              "      AttentionPatterns,\n",
              "      {\"tokens\": [\"<|endoftext|>\", \"Matrix\", \" is\", \" a\", \" great\", \" movie\", \",\", \" isn\", \"\\ufffd\", \"\\ufffd\", \"t\"], \"attention\": [[[1.0, 0.0, 0.0, 0.0, 0.0, 0.0, 0.0, 0.0, 0.0, 0.0, 0.0], [0.8020289540290833, 0.19797101616859436, 0.0, 0.0, 0.0, 0.0, 0.0, 0.0, 0.0, 0.0, 0.0], [0.881271481513977, 0.0785643458366394, 0.040164168924093246, 0.0, 0.0, 0.0, 0.0, 0.0, 0.0, 0.0, 0.0], [0.8228133320808411, 0.09016088396310806, 0.0566583015024662, 0.03036748431622982, 0.0, 0.0, 0.0, 0.0, 0.0, 0.0, 0.0], [0.6596155762672424, 0.11585382372140884, 0.07956178486347198, 0.07123914361000061, 0.07372962683439255, 0.0, 0.0, 0.0, 0.0, 0.0, 0.0], [0.4407813549041748, 0.10360469669103622, 0.14454352855682373, 0.1501070261001587, 0.08429282158613205, 0.07667060196399689, 0.0, 0.0, 0.0, 0.0, 0.0], [0.6144680976867676, 0.06109112501144409, 0.03508136793971062, 0.03154889494180679, 0.15375427901744843, 0.09222240746021271, 0.011833859607577324, 0.0, 0.0, 0.0, 0.0], [0.47125908732414246, 0.07515078783035278, 0.04683837294578552, 0.03574467822909355, 0.10806328803300858, 0.13810986280441284, 0.05560975521802902, 0.06922407448291779, 0.0, 0.0, 0.0], [0.4076579809188843, 0.11058419942855835, 0.05614656209945679, 0.0636366680264473, 0.09511995315551758, 0.03285524249076843, 0.07554416358470917, 0.0818987637758255, 0.07655644416809082, 0.0, 0.0], [0.3040250241756439, 0.13817225396633148, 0.050949979573488235, 0.054430946707725525, 0.07765141874551773, 0.07523518800735474, 0.12027012556791306, 0.059320978820323944, 0.0747978538274765, 0.04514621943235397, 0.0], [0.23931743204593658, 0.3679842948913574, 0.01668928749859333, 0.03354950621724129, 0.037911608815193176, 0.04965902864933014, 0.049920257180929184, 0.014441858977079391, 0.1191784217953682, 0.049663953483104706, 0.021684380248188972]], [[1.0, 0.0, 0.0, 0.0, 0.0, 0.0, 0.0, 0.0, 0.0, 0.0, 0.0], [2.3859347493271343e-05, 0.9999761581420898, 0.0, 0.0, 0.0, 0.0, 0.0, 0.0, 0.0, 0.0, 0.0], [0.0014042103430256248, 0.0020197394769638777, 0.9965760111808777, 0.0, 0.0, 0.0, 0.0, 0.0, 0.0, 0.0, 0.0], [0.0027328457217663527, 0.00031435341225005686, 0.002200198359787464, 0.9947525262832642, 0.0, 0.0, 0.0, 0.0, 0.0, 0.0, 0.0], [9.032811067299917e-05, 0.0019610675517469645, 0.00046118017053231597, 0.0013960644137114286, 0.9960913062095642, 0.0, 0.0, 0.0, 0.0, 0.0, 0.0], [0.0006370013579726219, 0.006579648237675428, 0.0007764570182189345, 0.0005797803169116378, 0.0012111979303881526, 0.9902158975601196, 0.0, 0.0, 0.0, 0.0, 0.0], [0.007663060445338488, 0.0013106524711474776, 0.005032891407608986, 0.0006957119912840426, 0.0001397643209202215, 2.631396273500286e-05, 0.985131561756134, 0.0, 0.0, 0.0, 0.0], [2.3233940737554803e-05, 0.00015043299936223775, 0.02300608903169632, 8.163494931068271e-05, 0.0001097834319807589, 0.0002396242634858936, 0.00011324198567308486, 0.9762759208679199, 0.0, 0.0, 0.0], [0.0004051059659104794, 5.8066700148629025e-05, 0.00011230466770939529, 7.739129796391353e-05, 1.9272873032605276e-05, 5.906943988520652e-05, 8.638375584268942e-05, 0.000609581358730793, 0.998572826385498, 0.0, 0.0], [2.68151743512135e-05, 3.278893564129248e-05, 1.730433177726809e-05, 6.602281791856512e-05, 3.27238467434654e-06, 6.524935997731518e-06, 5.2986579248681664e-06, 3.2395160815212876e-05, 5.0746202759910375e-05, 0.999758780002594, 0.0], [0.00028003734769299626, 0.00019710625929292291, 0.0004632993368431926, 0.0013657715171575546, 0.0004080219368916005, 5.400710870162584e-05, 0.00022338214330375195, 0.0001547877909615636, 0.0003385749878361821, 5.931206487730378e-06, 0.9965091347694397]], [[1.0, 0.0, 0.0, 0.0, 0.0, 0.0, 0.0, 0.0, 0.0, 0.0, 0.0], [0.9727737307548523, 0.027226269245147705, 0.0, 0.0, 0.0, 0.0, 0.0, 0.0, 0.0, 0.0, 0.0], [0.8645976185798645, 0.01617627963423729, 0.11922603845596313, 0.0, 0.0, 0.0, 0.0, 0.0, 0.0, 0.0, 0.0], [0.7851343154907227, 0.041330013424158096, 0.1277579963207245, 0.04577769711613655, 0.0, 0.0, 0.0, 0.0, 0.0, 0.0, 0.0], [0.7047402858734131, 0.03976923227310181, 0.09528149664402008, 0.09001823514699936, 0.07019075751304626, 0.0, 0.0, 0.0, 0.0, 0.0, 0.0], [0.6527738571166992, 0.059895168989896774, 0.04989002272486687, 0.06236707791686058, 0.07575669139623642, 0.09931724518537521, 0.0, 0.0, 0.0, 0.0, 0.0], [0.44934412837028503, 0.02132166363298893, 0.059473808854818344, 0.0131348492577672, 0.02770272083580494, 0.023914363235235214, 0.4051085114479065, 0.0, 0.0, 0.0, 0.0], [0.5514217019081116, 0.027708295732736588, 0.08174902200698853, 0.05647831782698631, 0.0833437442779541, 0.09650402516126633, 0.05567895248532295, 0.04711592197418213, 0.0, 0.0, 0.0], [0.5916471481323242, 0.023912817239761353, 0.09592751413583755, 0.0456661731004715, 0.04414388909935951, 0.027533911168575287, 0.054625943303108215, 0.05994759500026703, 0.056594956666231155, 0.0, 0.0], [0.5442059636116028, 0.06222916394472122, 0.08044344186782837, 0.046520404517650604, 0.0217064768075943, 0.03051718696951866, 0.057579606771469116, 0.03656427934765816, 0.055724434554576874, 0.06450901180505753, 0.0], [0.44944554567337036, 0.037243857979774475, 0.08448607474565506, 0.046189092099666595, 0.05264762043952942, 0.07155318558216095, 0.07359360158443451, 0.05249098688364029, 0.05217529088258743, 0.05245464667677879, 0.027720026671886444]], [[1.0, 0.0, 0.0, 0.0, 0.0, 0.0, 0.0, 0.0, 0.0, 0.0, 0.0], [0.06101936846971512, 0.9389806389808655, 0.0, 0.0, 0.0, 0.0, 0.0, 0.0, 0.0, 0.0, 0.0], [0.18998202681541443, 0.07817787677049637, 0.7318401336669922, 0.0, 0.0, 0.0, 0.0, 0.0, 0.0, 0.0, 0.0], [0.12431734800338745, 0.0325903557240963, 0.19317704439163208, 0.6499152183532715, 0.0, 0.0, 0.0, 0.0, 0.0, 0.0, 0.0], [0.003394204657524824, 0.00025515013840049505, 0.0004567793512251228, 0.0018723871326074004, 0.994021475315094, 0.0, 0.0, 0.0, 0.0, 0.0, 0.0], [0.005024673417210579, 0.0022078927140682936, 0.00020006002159789205, 0.0006704629049636424, 0.22802680730819702, 0.763870120048523, 0.0, 0.0, 0.0, 0.0, 0.0], [0.06709633767604828, 0.012854628264904022, 0.05710846185684204, 0.05092917010188103, 0.08474286645650864, 0.06963346898555756, 0.6576350927352905, 0.0, 0.0, 0.0, 0.0], [0.006271157413721085, 0.0002384895778959617, 0.0021359461825340986, 0.0012080216547474265, 0.002345323096960783, 0.006722001358866692, 0.00494009954854846, 0.9761390686035156, 0.0, 0.0, 0.0], [0.003087866585701704, 3.3637879823800176e-05, 1.2168104603915708e-06, 4.988327873434173e-06, 0.00035175582161173224, 0.0003357080859132111, 4.008281757705845e-05, 0.0008520052651874721, 0.9952927827835083, 0.0, 0.0], [0.002974037081003189, 0.00017540283442940563, 3.230328729841858e-05, 2.643163679749705e-05, 0.0003225992259103805, 0.00021369145542848855, 0.00030189863173291087, 0.002027456648647785, 0.05401146411895752, 0.9399148225784302, 0.0], [0.00044597891974262893, 8.139014971675351e-05, 0.00010729421046562493, 8.660920866532251e-05, 0.0028661289252340794, 0.00038447947008535266, 0.0016006951918825507, 0.045041147619485855, 0.09971293061971664, 0.0060452367179095745, 0.8436282277107239]], [[1.0, 0.0, 0.0, 0.0, 0.0, 0.0, 0.0, 0.0, 0.0, 0.0, 0.0], [0.16795194149017334, 0.8320480585098267, 0.0, 0.0, 0.0, 0.0, 0.0, 0.0, 0.0, 0.0, 0.0], [0.5673016905784607, 0.26790735125541687, 0.1647910326719284, 0.0, 0.0, 0.0, 0.0, 0.0, 0.0, 0.0, 0.0], [0.35770606994628906, 0.20581908524036407, 0.23861560225486755, 0.19785918295383453, 0.0, 0.0, 0.0, 0.0, 0.0, 0.0, 0.0], [0.1419478803873062, 0.035380445420742035, 0.04685011878609657, 0.0585482157766819, 0.7172733545303345, 0.0, 0.0, 0.0, 0.0, 0.0, 0.0], [0.11849989742040634, 0.0325302928686142, 0.015743453055620193, 0.03221471235156059, 0.11317111551761627, 0.6878405809402466, 0.0, 0.0, 0.0, 0.0, 0.0], [0.1921665072441101, 0.12337499111890793, 0.14559292793273926, 0.041340574622154236, 0.09580188244581223, 0.0994265228509903, 0.30229657888412476, 0.0, 0.0, 0.0, 0.0], [0.08595483005046844, 0.018616214394569397, 0.047303054481744766, 0.036926042288541794, 0.14782223105430603, 0.06360360980033875, 0.06083538010716438, 0.538938581943512, 0.0, 0.0, 0.0], [0.067247174680233, 0.0019382647005841136, 0.010275361128151417, 0.006028188858181238, 0.011268731206655502, 0.05792848393321037, 0.0075447531417012215, 0.09189362078905106, 0.745875358581543, 0.0, 0.0], [0.011244847439229488, 0.002142244717106223, 0.0007180214743129909, 0.0003383754810784012, 0.0008212638203985989, 0.0026452220045030117, 0.0012455829419195652, 0.010145971551537514, 0.8199918270111084, 0.15070663392543793, 0.0], [0.0035715720150619745, 0.009515159763395786, 0.0060911625623703, 0.004691091366112232, 0.019221225753426552, 0.03646719455718994, 0.007942793890833855, 0.17031124234199524, 0.4964573383331299, 0.11613645404577255, 0.12959469854831696]], [[1.0, 0.0, 0.0, 0.0, 0.0, 0.0, 0.0, 0.0, 0.0, 0.0, 0.0], [0.007328829262405634, 0.9926711320877075, 0.0, 0.0, 0.0, 0.0, 0.0, 0.0, 0.0, 0.0, 0.0], [0.27842918038368225, 0.00328368810005486, 0.7182871699333191, 0.0, 0.0, 0.0, 0.0, 0.0, 0.0, 0.0, 0.0], [0.2759177088737488, 0.0017551806522533298, 0.08993448317050934, 0.6323925852775574, 0.0, 0.0, 0.0, 0.0, 0.0, 0.0, 0.0], [0.10431469231843948, 7.795442797942087e-05, 7.096016634022817e-05, 8.665646601002663e-05, 0.8954497575759888, 0.0, 0.0, 0.0, 0.0, 0.0, 0.0], [0.013450656086206436, 3.832573929685168e-05, 1.6779512179709855e-07, 9.866137133940356e-07, 6.110908998380182e-06, 0.9865038394927979, 0.0, 0.0, 0.0, 0.0, 0.0], [0.23063229024410248, 0.021198684349656105, 0.11556246876716614, 0.18165545165538788, 0.06457003951072693, 0.03393341600894928, 0.3524477183818817, 0.0, 0.0, 0.0, 0.0], [0.021234331652522087, 0.0006590993725694716, 0.0026993334759026766, 2.2207541405805387e-05, 3.4022785257548094e-05, 0.0004066357505507767, 9.114964996115305e-06, 0.9749352335929871, 0.0, 0.0, 0.0], [0.004967414308339357, 9.51553101913305e-06, 1.0938838386209682e-06, 5.558355269386084e-07, 1.3191416655899957e-05, 3.4488944038457703e-06, 2.952428417302144e-07, 1.999734649871243e-06, 0.9950024485588074, 0.0, 0.0], [0.0052113705314695835, 6.600844812965079e-07, 1.2333559595845145e-07, 2.425297225272516e-07, 3.302070297195314e-07, 4.836342100134061e-07, 4.732630287662687e-08, 1.9894955016752647e-08, 1.265576429432258e-06, 0.994785487651825, 0.0], [0.022271163761615753, 0.00011627179628703743, 0.00034564360976219177, 6.219458009582013e-05, 0.00013469229452311993, 8.357550541404635e-05, 1.2703716492978856e-05, 4.014940350316465e-05, 1.454374250897672e-05, 2.583153673185734e-07, 0.9769187569618225]], [[1.0, 0.0, 0.0, 0.0, 0.0, 0.0, 0.0, 0.0, 0.0, 0.0, 0.0], [0.7810869812965393, 0.2189130038022995, 0.0, 0.0, 0.0, 0.0, 0.0, 0.0, 0.0, 0.0, 0.0], [0.5508855581283569, 0.4068118631839752, 0.042302537709474564, 0.0, 0.0, 0.0, 0.0, 0.0, 0.0, 0.0, 0.0], [0.4950285255908966, 0.4263353943824768, 0.05556347221136093, 0.023072581738233566, 0.0, 0.0, 0.0, 0.0, 0.0, 0.0, 0.0], [0.406109482049942, 0.2679192125797272, 0.049764737486839294, 0.04442854970693588, 0.23177798092365265, 0.0, 0.0, 0.0, 0.0, 0.0, 0.0], [0.3164321780204773, 0.27691784501075745, 0.03566453978419304, 0.054886091500520706, 0.10110288113355637, 0.21499651670455933, 0.0, 0.0, 0.0, 0.0, 0.0], [0.24817714095115662, 0.30004504323005676, 0.03486601263284683, 0.014954715967178345, 0.06995044648647308, 0.3245987892150879, 0.007407820783555508, 0.0, 0.0, 0.0, 0.0], [0.2207697331905365, 0.15627114474773407, 0.03804302588105202, 0.03206310793757439, 0.11378439515829086, 0.21197223663330078, 0.037450600415468216, 0.18964575231075287, 0.0, 0.0, 0.0], [0.36985060572624207, 0.18957999348640442, 0.04230770468711853, 0.05998985096812248, 0.05262133851647377, 0.09482733905315399, 0.05330822244286537, 0.05749104544520378, 0.08002384752035141, 0.0, 0.0], [0.262739360332489, 0.19017429649829865, 0.049765609204769135, 0.04613737016916275, 0.039845529943704605, 0.12250076979398727, 0.05581088364124298, 0.03065311349928379, 0.12127118557691574, 0.0811019092798233, 0.0], [0.11962858587503433, 0.16325245797634125, 0.03571004793047905, 0.011371338739991188, 0.03802414610981941, 0.08651314675807953, 0.020858874544501305, 0.05533665791153908, 0.23955421149730682, 0.20258185267448425, 0.027168745175004005]], [[1.0, 0.0, 0.0, 0.0, 0.0, 0.0, 0.0, 0.0, 0.0, 0.0, 0.0], [0.9620212912559509, 0.03797868266701698, 0.0, 0.0, 0.0, 0.0, 0.0, 0.0, 0.0, 0.0, 0.0], [0.5524656176567078, 0.2749119699001312, 0.17262238264083862, 0.0, 0.0, 0.0, 0.0, 0.0, 0.0, 0.0, 0.0], [0.37421634793281555, 0.11932827532291412, 0.2789825201034546, 0.22747285664081573, 0.0, 0.0, 0.0, 0.0, 0.0, 0.0, 0.0], [0.271923691034317, 0.09118246287107468, 0.18963086605072021, 0.29097989201545715, 0.15628302097320557, 0.0, 0.0, 0.0, 0.0, 0.0, 0.0], [0.1504584699869156, 0.030277976766228676, 0.1261870563030243, 0.1664401739835739, 0.38780054450035095, 0.13883572816848755, 0.0, 0.0, 0.0, 0.0, 0.0], [0.11340222507715225, 0.02612387388944626, 0.0715254470705986, 0.11040419340133667, 0.16936305165290833, 0.1779048591852188, 0.33127638697624207, 0.0, 0.0, 0.0, 0.0], [0.12624822556972504, 0.0146188298240304, 0.043818116188049316, 0.08353932946920395, 0.11364665627479553, 0.11352695524692535, 0.2941615581512451, 0.21044030785560608, 0.0, 0.0, 0.0], [0.2615884840488434, 0.012152518145740032, 0.050189025700092316, 0.08706994354724884, 0.09287136048078537, 0.016442591324448586, 0.18999771773815155, 0.2231326550245285, 0.0665557011961937, 0.0, 0.0], [0.18874061107635498, 0.027425460517406464, 0.048941388726234436, 0.05264561250805855, 0.03238481283187866, 0.007814518176019192, 0.19281257688999176, 0.18968698382377625, 0.24086906015872955, 0.018678974360227585, 0.0], [0.0232266616076231, 0.016117215156555176, 0.006747970823198557, 0.009100143797695637, 0.018137264996767044, 0.01141666341573, 0.03566576540470123, 0.06676415354013443, 0.6593616008758545, 0.08366040140390396, 0.06980212777853012]], [[1.0, 0.0, 0.0, 0.0, 0.0, 0.0, 0.0, 0.0, 0.0, 0.0, 0.0], [0.9525835514068604, 0.047416459769010544, 0.0, 0.0, 0.0, 0.0, 0.0, 0.0, 0.0, 0.0, 0.0], [0.4324199855327606, 0.032559577375650406, 0.5350204706192017, 0.0, 0.0, 0.0, 0.0, 0.0, 0.0, 0.0, 0.0], [0.10167080163955688, 0.0180343184620142, 0.28459128737449646, 0.5957035422325134, 0.0, 0.0, 0.0, 0.0, 0.0, 0.0, 0.0], [0.24695374071598053, 0.0114848418161273, 0.28937315940856934, 0.39396125078201294, 0.05822700634598732, 0.0, 0.0, 0.0, 0.0, 0.0, 0.0], [0.4779532849788666, 0.029899511486291885, 0.10414911061525345, 0.22188249230384827, 0.09964899718761444, 0.06646659225225449, 0.0, 0.0, 0.0, 0.0, 0.0], [0.08639614284038544, 0.009646454825997353, 0.2105439454317093, 0.21980443596839905, 0.02358468994498253, 0.01577203907072544, 0.4342522919178009, 0.0, 0.0, 0.0, 0.0], [0.2890886068344116, 0.04524459317326546, 0.15214739739894867, 0.17045840620994568, 0.08673898130655289, 0.03491918370127678, 0.19020090997219086, 0.03120196796953678, 0.0, 0.0, 0.0], [0.49004054069519043, 0.06713894754648209, 0.08678852021694183, 0.07315224409103394, 0.03812210634350777, 0.045621272176504135, 0.14815300703048706, 0.0388265997171402, 0.012156788259744644, 0.0, 0.0], [0.3731703460216522, 0.07458704710006714, 0.060975752770900726, 0.0917767658829689, 0.040330927819013596, 0.06809414178133011, 0.12906160950660706, 0.01928814873099327, 0.13285543024539948, 0.009859789162874222, 0.0], [0.15030431747436523, 0.06751462072134018, 0.07493337988853455, 0.1998777687549591, 0.07068288326263428, 0.0422871857881546, 0.1389675885438919, 0.026959070935845375, 0.04910007119178772, 0.05244243144989014, 0.12693066895008087]], [[1.0, 0.0, 0.0, 0.0, 0.0, 0.0, 0.0, 0.0, 0.0, 0.0, 0.0], [0.9680137634277344, 0.03198624402284622, 0.0, 0.0, 0.0, 0.0, 0.0, 0.0, 0.0, 0.0, 0.0], [0.7738694548606873, 0.06541180610656738, 0.16071878373622894, 0.0, 0.0, 0.0, 0.0, 0.0, 0.0, 0.0, 0.0], [0.6602713465690613, 0.05925673991441727, 0.13163582980632782, 0.14883606135845184, 0.0, 0.0, 0.0, 0.0, 0.0, 0.0, 0.0], [0.6034850478172302, 0.07207135111093521, 0.12015830725431442, 0.12798665463924408, 0.07629867643117905, 0.0, 0.0, 0.0, 0.0, 0.0, 0.0], [0.65919029712677, 0.05842305347323418, 0.09233473241329193, 0.10719215869903564, 0.06680700182914734, 0.01605277881026268, 0.0, 0.0, 0.0, 0.0, 0.0], [0.4697097837924957, 0.055726345628499985, 0.10801375657320023, 0.10615858435630798, 0.08257081359624863, 0.06977347284555435, 0.10804717987775803, 0.0, 0.0, 0.0, 0.0], [0.3996027410030365, 0.05973931774497032, 0.10836715996265411, 0.09464114159345627, 0.08601725846529007, 0.07853991538286209, 0.10366232693195343, 0.06943009793758392, 0.0, 0.0, 0.0], [0.471574991941452, 0.07604948431253433, 0.08500859886407852, 0.06834632158279419, 0.05809515714645386, 0.07790735363960266, 0.08217055350542068, 0.06209476664662361, 0.0187528096139431, 0.0, 0.0], [0.41848596930503845, 0.06020491197705269, 0.08050338178873062, 0.07431216537952423, 0.05723303183913231, 0.09020526707172394, 0.08402009308338165, 0.04919414594769478, 0.0559300072491169, 0.02991108037531376, 0.0], [0.29264914989471436, 0.04843972623348236, 0.07955912500619888, 0.08947784453630447, 0.060640398412942886, 0.05862915888428688, 0.0971069410443306, 0.050885360687971115, 0.08497605472803116, 0.06330198794603348, 0.07433418929576874]], [[1.0, 0.0, 0.0, 0.0, 0.0, 0.0, 0.0, 0.0, 0.0, 0.0, 0.0], [0.7274398803710938, 0.27256011962890625, 0.0, 0.0, 0.0, 0.0, 0.0, 0.0, 0.0, 0.0, 0.0], [0.6493832468986511, 0.06249538064002991, 0.28812140226364136, 0.0, 0.0, 0.0, 0.0, 0.0, 0.0, 0.0, 0.0], [0.605421781539917, 0.03876444324851036, 0.11961765587329865, 0.23619616031646729, 0.0, 0.0, 0.0, 0.0, 0.0, 0.0, 0.0], [0.4416116774082184, 0.04720881208777428, 0.1040632352232933, 0.12945052981376648, 0.2776658236980438, 0.0, 0.0, 0.0, 0.0, 0.0, 0.0], [0.3850409984588623, 0.058875005692243576, 0.11601518094539642, 0.11068657040596008, 0.06209337338805199, 0.2672889232635498, 0.0, 0.0, 0.0, 0.0, 0.0], [0.40637290477752686, 0.05784573033452034, 0.15451352298259735, 0.13105252385139465, 0.06363802403211594, 0.05992436036467552, 0.1266530156135559, 0.0, 0.0, 0.0, 0.0], [0.24823924899101257, 0.037604328244924545, 0.22714103758335114, 0.1010056883096695, 0.05213582143187523, 0.046402014791965485, 0.08748625218868256, 0.19998571276664734, 0.0, 0.0, 0.0], [0.299122154712677, 0.05062378570437431, 0.09800268709659576, 0.0859372541308403, 0.06156089901924133, 0.052725352346897125, 0.07945242524147034, 0.049330852925777435, 0.2232445925474167, 0.0, 0.0], [0.3222658336162567, 0.03496679663658142, 0.09166893362998962, 0.09321284294128418, 0.03619708865880966, 0.03336403891444206, 0.09106913954019547, 0.03938393294811249, 0.04344087839126587, 0.2144305408000946, 0.0], [0.2456893026828766, 0.036780476570129395, 0.09005208313465118, 0.10590595752000809, 0.05218121409416199, 0.03341780975461006, 0.08418799191713333, 0.03982128947973251, 0.03853309154510498, 0.01834931969642639, 0.25508150458335876]], [[1.0, 0.0, 0.0, 0.0, 0.0, 0.0, 0.0, 0.0, 0.0, 0.0, 0.0], [0.7638174295425415, 0.2361825406551361, 0.0, 0.0, 0.0, 0.0, 0.0, 0.0, 0.0, 0.0, 0.0], [0.7416329979896545, 0.09803717583417892, 0.16032978892326355, 0.0, 0.0, 0.0, 0.0, 0.0, 0.0, 0.0, 0.0], [0.6348550319671631, 0.11690833419561386, 0.1340167075395584, 0.11421998590230942, 0.0, 0.0, 0.0, 0.0, 0.0, 0.0, 0.0], [0.6677277684211731, 0.09380790591239929, 0.06506774574518204, 0.05782978609204292, 0.1155666932463646, 0.0, 0.0, 0.0, 0.0, 0.0, 0.0], [0.3582208454608917, 0.209787055850029, 0.14110079407691956, 0.0626886785030365, 0.10862001776695251, 0.11958269774913788, 0.0, 0.0, 0.0, 0.0, 0.0], [0.40535885095596313, 0.11034055054187775, 0.10208886116743088, 0.0714331567287445, 0.09586147964000702, 0.08913180232048035, 0.12578526139259338, 0.0, 0.0, 0.0, 0.0], [0.48954036831855774, 0.059108756482601166, 0.0758085548877716, 0.058961547911167145, 0.07370830327272415, 0.031588416546583176, 0.12561029195785522, 0.08567379415035248, 0.0, 0.0, 0.0], [0.2100258469581604, 0.060352712869644165, 0.06917490810155869, 0.09548132121562958, 0.08178474009037018, 0.08632739633321762, 0.1324339509010315, 0.0924157202243805, 0.17200344800949097, 0.0, 0.0], [0.19798420369625092, 0.08344104886054993, 0.0632295161485672, 0.05352401360869408, 0.07869148254394531, 0.07936026901006699, 0.07885070890188217, 0.10728313773870468, 0.23835872113704681, 0.019276924431324005, 0.0], [0.30598509311676025, 0.08709141612052917, 0.05876500532031059, 0.05340813100337982, 0.08136612176895142, 0.049349989742040634, 0.06604700535535812, 0.10846053808927536, 0.1167500838637352, 0.03283047676086426, 0.039946191012859344]]]}\n",
              "    )\n",
              "    </script>"
            ]
          },
          "metadata": {},
          "execution_count": 21
        }
      ]
    },
    {
      "cell_type": "markdown",
      "source": [
        "### Ablation"
      ],
      "metadata": {
        "id": "MX4hFPjdIkKa"
      }
    },
    {
      "cell_type": "code",
      "source": [
        "# We define a head ablation hook\n",
        "# The type annotations are NOT necessary, they're just a useful guide to the reader\n",
        "# \n",
        "def head_ablation_hook(\n",
        "    value: Float[torch.Tensor, \"batch pos head_index d_head\"],\n",
        "    hook: HookPoint,\n",
        "    head_index_to_ablate: int\n",
        ") -> Float[torch.Tensor, \"batch pos head_index d_head\"]:\n",
        "    value[:, :, head_index_to_ablate, :] = 0.\n",
        "    return value\n",
        "\n",
        "tokens = model.to_tokens(\"Mary is a great friend, isn’t she\")\n",
        "\n",
        "original_loss =  model(tokens, loss_per_token=True, return_type=\"loss\")[:,-1].squeeze()\n",
        "\n",
        "# We make a tensor to store the results for each ablation run. We put it on the model's device to avoid needing to move things between the GPU and CPU, which can be slow.\n",
        "ablation_result = torch.zeros((model.cfg.n_layers, model.cfg.n_heads), device=model.cfg.device)\n",
        "\n",
        "for layer in tqdm.tqdm(range(model.cfg.n_layers)):\n",
        "    for head in range(model.cfg.n_heads):\n",
        "\n",
        "        # Use functools.partial to create a temporary hook function with the head fixed\n",
        "        temp_hook_fn = partial(head_ablation_hook, head_index_to_ablate=head)\n",
        "        # Run the model with the patching hook\n",
        "\n",
        "        ablated_loss = model.run_with_hooks(\n",
        "            tokens, \n",
        "            return_type=\"loss\",\n",
        "            loss_per_token=True,\n",
        "            fwd_hooks=[(\n",
        "                utils.get_act_name(\"v\", layer), # try v -> o\n",
        "                temp_hook_fn\n",
        "                )]\n",
        "            )[:,-1].squeeze()\n",
        "        ablation_result[layer, head] = ablated_loss\n",
        "\n",
        "model.reset_hooks()"
      ],
      "metadata": {
        "colab": {
          "base_uri": "https://localhost:8080/",
          "height": 49,
          "referenced_widgets": [
            "00a0e12b9f784779818faaeab3ce93bc",
            "9aa7e2851bb247b1a88a5b6b86f6b46c",
            "d43268abe59041c9ab0771b342ececb1",
            "807cde87f9db42ae8cc27444780acc61",
            "2485e1ab66d04be7878df517c4ebe3a3",
            "599f108f62fd44cc9ec451eb5566bd17",
            "201dc31df6d64fb4b6a33e7b7b983a5a",
            "962232175569484bb1f19d18bfaeb4dd",
            "561cdf87f10f4abbb9b9181d2b36a642",
            "e743803b6e944708b95f64e21391edc8",
            "7da97e303a854d838cd1a9622ad5190d"
          ]
        },
        "id": "lzMRN965DdOS",
        "outputId": "6c1f8c9f-21bc-45bb-e987-44935aaedafb"
      },
      "execution_count": 22,
      "outputs": [
        {
          "output_type": "display_data",
          "data": {
            "text/plain": [
              "  0%|          | 0/12 [00:00<?, ?it/s]"
            ],
            "application/vnd.jupyter.widget-view+json": {
              "version_major": 2,
              "version_minor": 0,
              "model_id": "00a0e12b9f784779818faaeab3ce93bc"
            }
          },
          "metadata": {}
        }
      ]
    },
    {
      "cell_type": "code",
      "source": [
        "%matplotlib inline\n",
        "\n",
        "imshow(ablation_result, midpoint=original_loss.item(), xaxis=\"Head\", yaxis=\"Layer\", title=\"Ablated loss for every head\")"
      ],
      "metadata": {
        "colab": {
          "base_uri": "https://localhost:8080/",
          "height": 542
        },
        "id": "vEdWmBNwXr9L",
        "outputId": "b19fa775-7d83-4a05-94f2-7a315b1ce965"
      },
      "execution_count": 23,
      "outputs": [
        {
          "output_type": "display_data",
          "data": {
            "text/html": [
              "<html>\n",
              "<head><meta charset=\"utf-8\" /></head>\n",
              "<body>\n",
              "    <div>            <script src=\"https://cdnjs.cloudflare.com/ajax/libs/mathjax/2.7.5/MathJax.js?config=TeX-AMS-MML_SVG\"></script><script type=\"text/javascript\">if (window.MathJax && window.MathJax.Hub && window.MathJax.Hub.Config) {window.MathJax.Hub.Config({SVG: {font: \"STIX-Web\"}});}</script>                <script type=\"text/javascript\">window.PlotlyConfig = {MathJaxConfig: 'local'};</script>\n",
              "        <script src=\"https://cdn.plot.ly/plotly-2.18.2.min.js\"></script>                <div id=\"569ed8d2-b6a6-4ca4-94bc-fdf0600cc871\" class=\"plotly-graph-div\" style=\"height:525px; width:100%;\"></div>            <script type=\"text/javascript\">                                    window.PLOTLYENV=window.PLOTLYENV || {};                                    if (document.getElementById(\"569ed8d2-b6a6-4ca4-94bc-fdf0600cc871\")) {                    Plotly.newPlot(                        \"569ed8d2-b6a6-4ca4-94bc-fdf0600cc871\",                        [{\"coloraxis\":\"coloraxis\",\"name\":\"0\",\"z\":[[0.20442526042461395,0.19941149652004242,0.19409899413585663,0.18170012533664703,0.22039280831813812,0.17472070455551147,0.22002801299095154,0.8939692378044128,0.7171604633331299,1.263215184211731,0.9155405759811401,0.22220231592655182],[0.1887650191783905,0.19727090001106262,0.1678609699010849,0.22787097096443176,0.19206896424293518,0.20888373255729675,0.20633146166801453,0.21954287588596344,0.20993557572364807,0.20806674659252167,0.37401291728019714,0.2669132649898529],[0.27475088834762573,0.17260457575321198,0.22549255192279816,0.3754792809486389,0.1939331591129303,0.34276044368743896,0.21916723251342773,0.1821446567773819,0.2245578020811081,0.42568594217300415,0.3291611969470978,0.2449413686990738],[0.24790175259113312,0.21013830602169037,0.23564179241657257,0.22523514926433563,0.2187952697277069,0.18105082213878632,0.2377040684223175,0.1809064745903015,0.164256751537323,0.18034812808036804,0.210196852684021,0.19821329414844513],[0.196563258767128,0.1751181185245514,0.1905721127986908,0.26495614647865295,0.196418896317482,0.19912727177143097,0.19976788759231567,0.32207900285720825,0.17015378177165985,0.1908862590789795,0.17798680067062378,0.23102466762065887],[0.21424299478530884,0.2795044183731079,0.28347793221473694,0.20103813707828522,0.194859579205513,0.29254284501075745,0.26014843583106995,0.18565133213996887,0.19898660480976105,0.257021427154541,0.20206797122955322,0.20834243297576904],[0.3374289274215698,0.19556695222854614,0.1902686208486557,0.1941852867603302,0.19888019561767578,0.14209984242916107,0.17693404853343964,0.25817736983299255,0.2524268925189972,0.19518209993839264,0.18818792700767517,0.24109412729740143],[0.2373005896806717,0.20309977233409882,0.1973787397146225,0.12296108901500702,0.18471017479896545,0.25647374987602234,0.172993004322052,0.21402926743030548,0.2187790870666504,0.178805410861969,0.19580592215061188,0.19247370958328247],[0.22170619666576385,0.15199683606624603,0.21486572921276093,0.26985490322113037,0.20152385532855988,0.17797672748565674,0.18435542285442352,0.240053191781044,0.19215691089630127,0.16551661491394043,0.1855602264404297,0.20216087996959686],[0.19520866870880127,0.19345493614673615,0.21094240248203278,0.21818572282791138,0.20570707321166992,0.17395555973052979,0.19418008625507355,0.30602121353149414,0.19299259781837463,0.18880105018615723,0.21758010983467102,0.1812688261270523],[0.19196487963199615,0.18871250748634338,0.19567115604877472,0.19037801027297974,0.1938183605670929,0.17506249248981476,0.20125162601470947,0.1941993236541748,0.18073226511478424,0.3573439121246338,0.19022051990032196,0.1929086595773697],[0.8221837282180786,0.19483329355716705,0.18468669056892395,0.18434739112854004,0.2045348584651947,0.1945534497499466,0.19550272822380066,0.23935961723327637,0.22133871912956238,0.1934581696987152,0.18821696937084198,0.1867389678955078]],\"type\":\"heatmap\",\"xaxis\":\"x\",\"yaxis\":\"y\",\"hovertemplate\":\"Head: %{x}<br>Layer: %{y}<br>color: %{z}<extra></extra>\"}],                        {\"template\":{\"data\":{\"histogram2dcontour\":[{\"type\":\"histogram2dcontour\",\"colorbar\":{\"outlinewidth\":0,\"ticks\":\"\"},\"colorscale\":[[0.0,\"#0d0887\"],[0.1111111111111111,\"#46039f\"],[0.2222222222222222,\"#7201a8\"],[0.3333333333333333,\"#9c179e\"],[0.4444444444444444,\"#bd3786\"],[0.5555555555555556,\"#d8576b\"],[0.6666666666666666,\"#ed7953\"],[0.7777777777777778,\"#fb9f3a\"],[0.8888888888888888,\"#fdca26\"],[1.0,\"#f0f921\"]]}],\"choropleth\":[{\"type\":\"choropleth\",\"colorbar\":{\"outlinewidth\":0,\"ticks\":\"\"}}],\"histogram2d\":[{\"type\":\"histogram2d\",\"colorbar\":{\"outlinewidth\":0,\"ticks\":\"\"},\"colorscale\":[[0.0,\"#0d0887\"],[0.1111111111111111,\"#46039f\"],[0.2222222222222222,\"#7201a8\"],[0.3333333333333333,\"#9c179e\"],[0.4444444444444444,\"#bd3786\"],[0.5555555555555556,\"#d8576b\"],[0.6666666666666666,\"#ed7953\"],[0.7777777777777778,\"#fb9f3a\"],[0.8888888888888888,\"#fdca26\"],[1.0,\"#f0f921\"]]}],\"heatmap\":[{\"type\":\"heatmap\",\"colorbar\":{\"outlinewidth\":0,\"ticks\":\"\"},\"colorscale\":[[0.0,\"#0d0887\"],[0.1111111111111111,\"#46039f\"],[0.2222222222222222,\"#7201a8\"],[0.3333333333333333,\"#9c179e\"],[0.4444444444444444,\"#bd3786\"],[0.5555555555555556,\"#d8576b\"],[0.6666666666666666,\"#ed7953\"],[0.7777777777777778,\"#fb9f3a\"],[0.8888888888888888,\"#fdca26\"],[1.0,\"#f0f921\"]]}],\"heatmapgl\":[{\"type\":\"heatmapgl\",\"colorbar\":{\"outlinewidth\":0,\"ticks\":\"\"},\"colorscale\":[[0.0,\"#0d0887\"],[0.1111111111111111,\"#46039f\"],[0.2222222222222222,\"#7201a8\"],[0.3333333333333333,\"#9c179e\"],[0.4444444444444444,\"#bd3786\"],[0.5555555555555556,\"#d8576b\"],[0.6666666666666666,\"#ed7953\"],[0.7777777777777778,\"#fb9f3a\"],[0.8888888888888888,\"#fdca26\"],[1.0,\"#f0f921\"]]}],\"contourcarpet\":[{\"type\":\"contourcarpet\",\"colorbar\":{\"outlinewidth\":0,\"ticks\":\"\"}}],\"contour\":[{\"type\":\"contour\",\"colorbar\":{\"outlinewidth\":0,\"ticks\":\"\"},\"colorscale\":[[0.0,\"#0d0887\"],[0.1111111111111111,\"#46039f\"],[0.2222222222222222,\"#7201a8\"],[0.3333333333333333,\"#9c179e\"],[0.4444444444444444,\"#bd3786\"],[0.5555555555555556,\"#d8576b\"],[0.6666666666666666,\"#ed7953\"],[0.7777777777777778,\"#fb9f3a\"],[0.8888888888888888,\"#fdca26\"],[1.0,\"#f0f921\"]]}],\"surface\":[{\"type\":\"surface\",\"colorbar\":{\"outlinewidth\":0,\"ticks\":\"\"},\"colorscale\":[[0.0,\"#0d0887\"],[0.1111111111111111,\"#46039f\"],[0.2222222222222222,\"#7201a8\"],[0.3333333333333333,\"#9c179e\"],[0.4444444444444444,\"#bd3786\"],[0.5555555555555556,\"#d8576b\"],[0.6666666666666666,\"#ed7953\"],[0.7777777777777778,\"#fb9f3a\"],[0.8888888888888888,\"#fdca26\"],[1.0,\"#f0f921\"]]}],\"mesh3d\":[{\"type\":\"mesh3d\",\"colorbar\":{\"outlinewidth\":0,\"ticks\":\"\"}}],\"scatter\":[{\"fillpattern\":{\"fillmode\":\"overlay\",\"size\":10,\"solidity\":0.2},\"type\":\"scatter\"}],\"parcoords\":[{\"type\":\"parcoords\",\"line\":{\"colorbar\":{\"outlinewidth\":0,\"ticks\":\"\"}}}],\"scatterpolargl\":[{\"type\":\"scatterpolargl\",\"marker\":{\"colorbar\":{\"outlinewidth\":0,\"ticks\":\"\"}}}],\"bar\":[{\"error_x\":{\"color\":\"#2a3f5f\"},\"error_y\":{\"color\":\"#2a3f5f\"},\"marker\":{\"line\":{\"color\":\"#E5ECF6\",\"width\":0.5},\"pattern\":{\"fillmode\":\"overlay\",\"size\":10,\"solidity\":0.2}},\"type\":\"bar\"}],\"scattergeo\":[{\"type\":\"scattergeo\",\"marker\":{\"colorbar\":{\"outlinewidth\":0,\"ticks\":\"\"}}}],\"scatterpolar\":[{\"type\":\"scatterpolar\",\"marker\":{\"colorbar\":{\"outlinewidth\":0,\"ticks\":\"\"}}}],\"histogram\":[{\"marker\":{\"pattern\":{\"fillmode\":\"overlay\",\"size\":10,\"solidity\":0.2}},\"type\":\"histogram\"}],\"scattergl\":[{\"type\":\"scattergl\",\"marker\":{\"colorbar\":{\"outlinewidth\":0,\"ticks\":\"\"}}}],\"scatter3d\":[{\"type\":\"scatter3d\",\"line\":{\"colorbar\":{\"outlinewidth\":0,\"ticks\":\"\"}},\"marker\":{\"colorbar\":{\"outlinewidth\":0,\"ticks\":\"\"}}}],\"scattermapbox\":[{\"type\":\"scattermapbox\",\"marker\":{\"colorbar\":{\"outlinewidth\":0,\"ticks\":\"\"}}}],\"scatterternary\":[{\"type\":\"scatterternary\",\"marker\":{\"colorbar\":{\"outlinewidth\":0,\"ticks\":\"\"}}}],\"scattercarpet\":[{\"type\":\"scattercarpet\",\"marker\":{\"colorbar\":{\"outlinewidth\":0,\"ticks\":\"\"}}}],\"carpet\":[{\"aaxis\":{\"endlinecolor\":\"#2a3f5f\",\"gridcolor\":\"white\",\"linecolor\":\"white\",\"minorgridcolor\":\"white\",\"startlinecolor\":\"#2a3f5f\"},\"baxis\":{\"endlinecolor\":\"#2a3f5f\",\"gridcolor\":\"white\",\"linecolor\":\"white\",\"minorgridcolor\":\"white\",\"startlinecolor\":\"#2a3f5f\"},\"type\":\"carpet\"}],\"table\":[{\"cells\":{\"fill\":{\"color\":\"#EBF0F8\"},\"line\":{\"color\":\"white\"}},\"header\":{\"fill\":{\"color\":\"#C8D4E3\"},\"line\":{\"color\":\"white\"}},\"type\":\"table\"}],\"barpolar\":[{\"marker\":{\"line\":{\"color\":\"#E5ECF6\",\"width\":0.5},\"pattern\":{\"fillmode\":\"overlay\",\"size\":10,\"solidity\":0.2}},\"type\":\"barpolar\"}],\"pie\":[{\"automargin\":true,\"type\":\"pie\"}]},\"layout\":{\"autotypenumbers\":\"strict\",\"colorway\":[\"#636efa\",\"#EF553B\",\"#00cc96\",\"#ab63fa\",\"#FFA15A\",\"#19d3f3\",\"#FF6692\",\"#B6E880\",\"#FF97FF\",\"#FECB52\"],\"font\":{\"color\":\"#2a3f5f\"},\"hovermode\":\"closest\",\"hoverlabel\":{\"align\":\"left\"},\"paper_bgcolor\":\"white\",\"plot_bgcolor\":\"#E5ECF6\",\"polar\":{\"bgcolor\":\"#E5ECF6\",\"angularaxis\":{\"gridcolor\":\"white\",\"linecolor\":\"white\",\"ticks\":\"\"},\"radialaxis\":{\"gridcolor\":\"white\",\"linecolor\":\"white\",\"ticks\":\"\"}},\"ternary\":{\"bgcolor\":\"#E5ECF6\",\"aaxis\":{\"gridcolor\":\"white\",\"linecolor\":\"white\",\"ticks\":\"\"},\"baxis\":{\"gridcolor\":\"white\",\"linecolor\":\"white\",\"ticks\":\"\"},\"caxis\":{\"gridcolor\":\"white\",\"linecolor\":\"white\",\"ticks\":\"\"}},\"coloraxis\":{\"colorbar\":{\"outlinewidth\":0,\"ticks\":\"\"}},\"colorscale\":{\"sequential\":[[0.0,\"#0d0887\"],[0.1111111111111111,\"#46039f\"],[0.2222222222222222,\"#7201a8\"],[0.3333333333333333,\"#9c179e\"],[0.4444444444444444,\"#bd3786\"],[0.5555555555555556,\"#d8576b\"],[0.6666666666666666,\"#ed7953\"],[0.7777777777777778,\"#fb9f3a\"],[0.8888888888888888,\"#fdca26\"],[1.0,\"#f0f921\"]],\"sequentialminus\":[[0.0,\"#0d0887\"],[0.1111111111111111,\"#46039f\"],[0.2222222222222222,\"#7201a8\"],[0.3333333333333333,\"#9c179e\"],[0.4444444444444444,\"#bd3786\"],[0.5555555555555556,\"#d8576b\"],[0.6666666666666666,\"#ed7953\"],[0.7777777777777778,\"#fb9f3a\"],[0.8888888888888888,\"#fdca26\"],[1.0,\"#f0f921\"]],\"diverging\":[[0,\"#8e0152\"],[0.1,\"#c51b7d\"],[0.2,\"#de77ae\"],[0.3,\"#f1b6da\"],[0.4,\"#fde0ef\"],[0.5,\"#f7f7f7\"],[0.6,\"#e6f5d0\"],[0.7,\"#b8e186\"],[0.8,\"#7fbc41\"],[0.9,\"#4d9221\"],[1,\"#276419\"]]},\"xaxis\":{\"gridcolor\":\"white\",\"linecolor\":\"white\",\"ticks\":\"\",\"title\":{\"standoff\":15},\"zerolinecolor\":\"white\",\"automargin\":true,\"zerolinewidth\":2},\"yaxis\":{\"gridcolor\":\"white\",\"linecolor\":\"white\",\"ticks\":\"\",\"title\":{\"standoff\":15},\"zerolinecolor\":\"white\",\"automargin\":true,\"zerolinewidth\":2},\"scene\":{\"xaxis\":{\"backgroundcolor\":\"#E5ECF6\",\"gridcolor\":\"white\",\"linecolor\":\"white\",\"showbackground\":true,\"ticks\":\"\",\"zerolinecolor\":\"white\",\"gridwidth\":2},\"yaxis\":{\"backgroundcolor\":\"#E5ECF6\",\"gridcolor\":\"white\",\"linecolor\":\"white\",\"showbackground\":true,\"ticks\":\"\",\"zerolinecolor\":\"white\",\"gridwidth\":2},\"zaxis\":{\"backgroundcolor\":\"#E5ECF6\",\"gridcolor\":\"white\",\"linecolor\":\"white\",\"showbackground\":true,\"ticks\":\"\",\"zerolinecolor\":\"white\",\"gridwidth\":2}},\"shapedefaults\":{\"line\":{\"color\":\"#2a3f5f\"}},\"annotationdefaults\":{\"arrowcolor\":\"#2a3f5f\",\"arrowhead\":0,\"arrowwidth\":1},\"geo\":{\"bgcolor\":\"white\",\"landcolor\":\"#E5ECF6\",\"subunitcolor\":\"white\",\"showland\":true,\"showlakes\":true,\"lakecolor\":\"white\"},\"title\":{\"x\":0.05},\"mapbox\":{\"style\":\"light\"}}},\"xaxis\":{\"anchor\":\"y\",\"domain\":[0.0,1.0],\"scaleanchor\":\"y\",\"constrain\":\"domain\",\"title\":{\"text\":\"Head\"}},\"yaxis\":{\"anchor\":\"x\",\"domain\":[0.0,1.0],\"autorange\":\"reversed\",\"constrain\":\"domain\",\"title\":{\"text\":\"Layer\"}},\"coloraxis\":{\"colorscale\":[[0.0,\"rgb(103,0,31)\"],[0.1,\"rgb(178,24,43)\"],[0.2,\"rgb(214,96,77)\"],[0.3,\"rgb(244,165,130)\"],[0.4,\"rgb(253,219,199)\"],[0.5,\"rgb(247,247,247)\"],[0.6,\"rgb(209,229,240)\"],[0.7,\"rgb(146,197,222)\"],[0.8,\"rgb(67,147,195)\"],[0.9,\"rgb(33,102,172)\"],[1.0,\"rgb(5,48,97)\"]],\"cmid\":0.19037386775016785},\"title\":{\"text\":\"Ablated loss for every head\"}},                        {\"responsive\": true}                    ).then(function(){\n",
              "                            \n",
              "var gd = document.getElementById('569ed8d2-b6a6-4ca4-94bc-fdf0600cc871');\n",
              "var x = new MutationObserver(function (mutations, observer) {{\n",
              "        var display = window.getComputedStyle(gd).display;\n",
              "        if (!display || display === 'none') {{\n",
              "            console.log([gd, 'removed!']);\n",
              "            Plotly.purge(gd);\n",
              "            observer.disconnect();\n",
              "        }}\n",
              "}});\n",
              "\n",
              "// Listen for the removal of the full notebook cells\n",
              "var notebookContainer = gd.closest('#notebook-container');\n",
              "if (notebookContainer) {{\n",
              "    x.observe(notebookContainer, {childList: true});\n",
              "}}\n",
              "\n",
              "// Listen for the clearing of the current output cell\n",
              "var outputEl = gd.closest('.output');\n",
              "if (outputEl) {{\n",
              "    x.observe(outputEl, {childList: true});\n",
              "}}\n",
              "\n",
              "                        })                };                            </script>        </div>\n",
              "</body>\n",
              "</html>"
            ]
          },
          "metadata": {}
        }
      ]
    },
    {
      "cell_type": "markdown",
      "source": [
        "ablating some heads like layer 0 head 9 increases the loss whereas ablating some heads like layer 7 head 3 decreases the loss"
      ],
      "metadata": {
        "id": "8QU0jZ2Dbaj6"
      }
    },
    {
      "cell_type": "code",
      "source": [
        "# We define a head ablation hook\n",
        "# The type annotations are NOT necessary, they're just a useful guide to the reader\n",
        "# \n",
        "def head_ablation_hook(\n",
        "    value: Float[torch.Tensor, \"batch pos head_index d_head\"],\n",
        "    hook: HookPoint,\n",
        "    head_index_to_ablate: int\n",
        ") -> Float[torch.Tensor, \"batch pos head_index d_head\"]:\n",
        "    value[:, :, head_index_to_ablate, :] = 0.\n",
        "    return value\n",
        "\n",
        "tokens = model.to_tokens(\"Mary is a great friend, isn’t\")\n",
        "\n",
        "correct_index = model.to_single_token(\" she\")\n",
        "incorrect_index = model.to_single_token(\" he\")\n",
        "\n",
        "original_logits = model(tokens, return_type=\"logits\")\n",
        "original_logit_diff = original_logits[0, -1, correct_index] - original_logits[0, -1, incorrect_index]\n",
        "\n",
        "# We make a tensor to store the results for each ablation run. We put it on the model's device to avoid needing to move things between the GPU and CPU, which can be slow.\n",
        "ablation_result = torch.zeros((model.cfg.n_layers, model.cfg.n_heads), device=model.cfg.device)\n",
        "\n",
        "for layer in tqdm.tqdm(range(model.cfg.n_layers)):\n",
        "    for head in range(model.cfg.n_heads):\n",
        "\n",
        "        # Use functools.partial to create a temporary hook function with the head fixed\n",
        "        temp_hook_fn = partial(head_ablation_hook, head_index_to_ablate=head)\n",
        "        # Run the model with the patching hook\n",
        "\n",
        "        ablated_logits = model.run_with_hooks(\n",
        "            tokens, \n",
        "            return_type=\"logits\", \n",
        "            fwd_hooks=[(\n",
        "                utils.get_act_name(\"v\", layer), \n",
        "                temp_hook_fn\n",
        "                )]\n",
        "            )\n",
        "        \n",
        "        ablated_logit_diff = ablated_logits[0, -1, correct_index] - ablated_logits[0, -1, incorrect_index]\n",
        "        ablation_result[layer, head] = ablated_logit_diff\n",
        "\n",
        "model.reset_hooks()"
      ],
      "metadata": {
        "colab": {
          "base_uri": "https://localhost:8080/",
          "height": 49,
          "referenced_widgets": [
            "ef050db117b044b09ba22092c4f8cb5a",
            "30c01165a37f423891e1b447713ad15f",
            "0f15aa0c17e443af85a0f3b4a3160020",
            "a06183e0d1fb421eb2e8e357153f9e91",
            "be6ae130de4944ed9fa095626eb18181",
            "41ea4ffd5f4941a8b6a746557ef0ef21",
            "7570e4fb45154fa489c4178cd07e258a",
            "d994a1e4346b468aa3e6d6c289bb756e",
            "2e0e3f36d7d74362bdbc9adae0520e3f",
            "f60c978b5d984286a582af77affa59dc",
            "7db923d2296a4fc994d48da8bd5b16a0"
          ]
        },
        "id": "3sb_OfRWjLkx",
        "outputId": "f780c745-f13b-488c-955a-56220c9028cd"
      },
      "execution_count": 24,
      "outputs": [
        {
          "output_type": "display_data",
          "data": {
            "text/plain": [
              "  0%|          | 0/12 [00:00<?, ?it/s]"
            ],
            "application/vnd.jupyter.widget-view+json": {
              "version_major": 2,
              "version_minor": 0,
              "model_id": "ef050db117b044b09ba22092c4f8cb5a"
            }
          },
          "metadata": {}
        }
      ]
    },
    {
      "cell_type": "code",
      "source": [
        "%matplotlib inline\n",
        "\n",
        "imshow(ablation_result, midpoint=original_logit_diff.item(), xaxis=\"Head\", yaxis=\"Layer\", title=\"Ablated logit difference for every head\")"
      ],
      "metadata": {
        "colab": {
          "base_uri": "https://localhost:8080/",
          "height": 542
        },
        "id": "wytqCuIOkYE0",
        "outputId": "c25e7b29-f63b-4232-f67a-6db74ead1fc5"
      },
      "execution_count": 25,
      "outputs": [
        {
          "output_type": "display_data",
          "data": {
            "text/html": [
              "<html>\n",
              "<head><meta charset=\"utf-8\" /></head>\n",
              "<body>\n",
              "    <div>            <script src=\"https://cdnjs.cloudflare.com/ajax/libs/mathjax/2.7.5/MathJax.js?config=TeX-AMS-MML_SVG\"></script><script type=\"text/javascript\">if (window.MathJax && window.MathJax.Hub && window.MathJax.Hub.Config) {window.MathJax.Hub.Config({SVG: {font: \"STIX-Web\"}});}</script>                <script type=\"text/javascript\">window.PlotlyConfig = {MathJaxConfig: 'local'};</script>\n",
              "        <script src=\"https://cdn.plot.ly/plotly-2.18.2.min.js\"></script>                <div id=\"1e15672a-fb14-4b5c-a42f-f5329b79d6d8\" class=\"plotly-graph-div\" style=\"height:525px; width:100%;\"></div>            <script type=\"text/javascript\">                                    window.PLOTLYENV=window.PLOTLYENV || {};                                    if (document.getElementById(\"1e15672a-fb14-4b5c-a42f-f5329b79d6d8\")) {                    Plotly.newPlot(                        \"1e15672a-fb14-4b5c-a42f-f5329b79d6d8\",                        [{\"coloraxis\":\"coloraxis\",\"name\":\"0\",\"z\":[[3.7704334259033203,3.9504261016845703,3.8891658782958984,3.8511734008789062,3.580270767211914,3.805788040161133,3.1391067504882812,3.579803466796875,1.8303718566894531,1.92999267578125,2.7482223510742188,3.338329315185547],[3.987283706665039,3.864168167114258,4.150016784667969,3.2316112518310547,3.8321266174316406,3.5493412017822266,3.896150588989258,3.6893577575683594,3.708097457885742,3.6094398498535156,2.9142284393310547,3.807069778442383],[3.120342254638672,3.8980655670166016,4.048086166381836,3.1758289337158203,3.9851016998291016,2.8054275512695312,3.477710723876953,4.048530578613281,3.2867469787597656,2.6964550018310547,3.602476119995117,3.4146728515625],[3.4219322204589844,3.8036880493164062,3.670278549194336,3.680776596069336,3.8122806549072266,4.117218017578125,3.8543338775634766,3.90863037109375,3.9569835662841797,3.7048091888427734,3.8113441467285156,3.7071914672851562],[3.7228641510009766,3.987934112548828,3.864227294921875,2.620136260986328,3.9421558380126953,3.763063430786133,3.956024169921875,3.141214370727539,4.09235954284668,3.8243846893310547,3.9027538299560547,3.906270980834961],[3.5910301208496094,3.4208755493164062,3.3788185119628906,3.765420913696289,3.9630203247070312,3.3368682861328125,3.604328155517578,3.915628433227539,3.969423294067383,3.8530750274658203,3.9975719451904297,4.022060394287109],[2.5445194244384766,3.922412872314453,3.823915481567383,4.151941299438477,4.049274444580078,3.929464340209961,3.9804649353027344,3.9322509765625,3.487894058227539,3.8727455139160156,4.072351455688477,3.5044116973876953],[3.664459228515625,3.7410850524902344,3.9433155059814453,4.707660675048828,4.049007415771484,3.2812042236328125,4.05224609375,3.8945655822753906,3.613431930541992,3.9883804321289062,3.8371353149414062,3.9824180603027344],[3.7380619049072266,3.994020462036133,3.9602718353271484,3.6252975463867188,3.840728759765625,4.109889984130859,4.074686050415039,3.6668453216552734,3.9037246704101562,4.047431945800781,4.226100921630859,3.5848655700683594],[3.8754806518554688,3.905241012573242,3.803682327270508,4.035112380981445,3.7765750885009766,4.035526275634766,3.895853042602539,2.5272598266601562,3.8677825927734375,3.872011184692383,3.7595787048339844,3.937448501586914],[3.862985610961914,3.8555545806884766,3.8002071380615234,3.9345569610595703,3.8808670043945312,3.955341339111328,3.8524856567382812,3.8393497467041016,3.8255157470703125,2.7206249237060547,3.9188804626464844,3.97723388671875],[2.9298934936523438,3.260488510131836,3.9696178436279297,3.947467803955078,3.759307861328125,3.9058494567871094,3.909517288208008,4.123334884643555,3.661844253540039,3.9074020385742188,3.9230899810791016,3.9156055450439453]],\"type\":\"heatmap\",\"xaxis\":\"x\",\"yaxis\":\"y\",\"hovertemplate\":\"Head: %{x}<br>Layer: %{y}<br>color: %{z}<extra></extra>\"}],                        {\"template\":{\"data\":{\"histogram2dcontour\":[{\"type\":\"histogram2dcontour\",\"colorbar\":{\"outlinewidth\":0,\"ticks\":\"\"},\"colorscale\":[[0.0,\"#0d0887\"],[0.1111111111111111,\"#46039f\"],[0.2222222222222222,\"#7201a8\"],[0.3333333333333333,\"#9c179e\"],[0.4444444444444444,\"#bd3786\"],[0.5555555555555556,\"#d8576b\"],[0.6666666666666666,\"#ed7953\"],[0.7777777777777778,\"#fb9f3a\"],[0.8888888888888888,\"#fdca26\"],[1.0,\"#f0f921\"]]}],\"choropleth\":[{\"type\":\"choropleth\",\"colorbar\":{\"outlinewidth\":0,\"ticks\":\"\"}}],\"histogram2d\":[{\"type\":\"histogram2d\",\"colorbar\":{\"outlinewidth\":0,\"ticks\":\"\"},\"colorscale\":[[0.0,\"#0d0887\"],[0.1111111111111111,\"#46039f\"],[0.2222222222222222,\"#7201a8\"],[0.3333333333333333,\"#9c179e\"],[0.4444444444444444,\"#bd3786\"],[0.5555555555555556,\"#d8576b\"],[0.6666666666666666,\"#ed7953\"],[0.7777777777777778,\"#fb9f3a\"],[0.8888888888888888,\"#fdca26\"],[1.0,\"#f0f921\"]]}],\"heatmap\":[{\"type\":\"heatmap\",\"colorbar\":{\"outlinewidth\":0,\"ticks\":\"\"},\"colorscale\":[[0.0,\"#0d0887\"],[0.1111111111111111,\"#46039f\"],[0.2222222222222222,\"#7201a8\"],[0.3333333333333333,\"#9c179e\"],[0.4444444444444444,\"#bd3786\"],[0.5555555555555556,\"#d8576b\"],[0.6666666666666666,\"#ed7953\"],[0.7777777777777778,\"#fb9f3a\"],[0.8888888888888888,\"#fdca26\"],[1.0,\"#f0f921\"]]}],\"heatmapgl\":[{\"type\":\"heatmapgl\",\"colorbar\":{\"outlinewidth\":0,\"ticks\":\"\"},\"colorscale\":[[0.0,\"#0d0887\"],[0.1111111111111111,\"#46039f\"],[0.2222222222222222,\"#7201a8\"],[0.3333333333333333,\"#9c179e\"],[0.4444444444444444,\"#bd3786\"],[0.5555555555555556,\"#d8576b\"],[0.6666666666666666,\"#ed7953\"],[0.7777777777777778,\"#fb9f3a\"],[0.8888888888888888,\"#fdca26\"],[1.0,\"#f0f921\"]]}],\"contourcarpet\":[{\"type\":\"contourcarpet\",\"colorbar\":{\"outlinewidth\":0,\"ticks\":\"\"}}],\"contour\":[{\"type\":\"contour\",\"colorbar\":{\"outlinewidth\":0,\"ticks\":\"\"},\"colorscale\":[[0.0,\"#0d0887\"],[0.1111111111111111,\"#46039f\"],[0.2222222222222222,\"#7201a8\"],[0.3333333333333333,\"#9c179e\"],[0.4444444444444444,\"#bd3786\"],[0.5555555555555556,\"#d8576b\"],[0.6666666666666666,\"#ed7953\"],[0.7777777777777778,\"#fb9f3a\"],[0.8888888888888888,\"#fdca26\"],[1.0,\"#f0f921\"]]}],\"surface\":[{\"type\":\"surface\",\"colorbar\":{\"outlinewidth\":0,\"ticks\":\"\"},\"colorscale\":[[0.0,\"#0d0887\"],[0.1111111111111111,\"#46039f\"],[0.2222222222222222,\"#7201a8\"],[0.3333333333333333,\"#9c179e\"],[0.4444444444444444,\"#bd3786\"],[0.5555555555555556,\"#d8576b\"],[0.6666666666666666,\"#ed7953\"],[0.7777777777777778,\"#fb9f3a\"],[0.8888888888888888,\"#fdca26\"],[1.0,\"#f0f921\"]]}],\"mesh3d\":[{\"type\":\"mesh3d\",\"colorbar\":{\"outlinewidth\":0,\"ticks\":\"\"}}],\"scatter\":[{\"fillpattern\":{\"fillmode\":\"overlay\",\"size\":10,\"solidity\":0.2},\"type\":\"scatter\"}],\"parcoords\":[{\"type\":\"parcoords\",\"line\":{\"colorbar\":{\"outlinewidth\":0,\"ticks\":\"\"}}}],\"scatterpolargl\":[{\"type\":\"scatterpolargl\",\"marker\":{\"colorbar\":{\"outlinewidth\":0,\"ticks\":\"\"}}}],\"bar\":[{\"error_x\":{\"color\":\"#2a3f5f\"},\"error_y\":{\"color\":\"#2a3f5f\"},\"marker\":{\"line\":{\"color\":\"#E5ECF6\",\"width\":0.5},\"pattern\":{\"fillmode\":\"overlay\",\"size\":10,\"solidity\":0.2}},\"type\":\"bar\"}],\"scattergeo\":[{\"type\":\"scattergeo\",\"marker\":{\"colorbar\":{\"outlinewidth\":0,\"ticks\":\"\"}}}],\"scatterpolar\":[{\"type\":\"scatterpolar\",\"marker\":{\"colorbar\":{\"outlinewidth\":0,\"ticks\":\"\"}}}],\"histogram\":[{\"marker\":{\"pattern\":{\"fillmode\":\"overlay\",\"size\":10,\"solidity\":0.2}},\"type\":\"histogram\"}],\"scattergl\":[{\"type\":\"scattergl\",\"marker\":{\"colorbar\":{\"outlinewidth\":0,\"ticks\":\"\"}}}],\"scatter3d\":[{\"type\":\"scatter3d\",\"line\":{\"colorbar\":{\"outlinewidth\":0,\"ticks\":\"\"}},\"marker\":{\"colorbar\":{\"outlinewidth\":0,\"ticks\":\"\"}}}],\"scattermapbox\":[{\"type\":\"scattermapbox\",\"marker\":{\"colorbar\":{\"outlinewidth\":0,\"ticks\":\"\"}}}],\"scatterternary\":[{\"type\":\"scatterternary\",\"marker\":{\"colorbar\":{\"outlinewidth\":0,\"ticks\":\"\"}}}],\"scattercarpet\":[{\"type\":\"scattercarpet\",\"marker\":{\"colorbar\":{\"outlinewidth\":0,\"ticks\":\"\"}}}],\"carpet\":[{\"aaxis\":{\"endlinecolor\":\"#2a3f5f\",\"gridcolor\":\"white\",\"linecolor\":\"white\",\"minorgridcolor\":\"white\",\"startlinecolor\":\"#2a3f5f\"},\"baxis\":{\"endlinecolor\":\"#2a3f5f\",\"gridcolor\":\"white\",\"linecolor\":\"white\",\"minorgridcolor\":\"white\",\"startlinecolor\":\"#2a3f5f\"},\"type\":\"carpet\"}],\"table\":[{\"cells\":{\"fill\":{\"color\":\"#EBF0F8\"},\"line\":{\"color\":\"white\"}},\"header\":{\"fill\":{\"color\":\"#C8D4E3\"},\"line\":{\"color\":\"white\"}},\"type\":\"table\"}],\"barpolar\":[{\"marker\":{\"line\":{\"color\":\"#E5ECF6\",\"width\":0.5},\"pattern\":{\"fillmode\":\"overlay\",\"size\":10,\"solidity\":0.2}},\"type\":\"barpolar\"}],\"pie\":[{\"automargin\":true,\"type\":\"pie\"}]},\"layout\":{\"autotypenumbers\":\"strict\",\"colorway\":[\"#636efa\",\"#EF553B\",\"#00cc96\",\"#ab63fa\",\"#FFA15A\",\"#19d3f3\",\"#FF6692\",\"#B6E880\",\"#FF97FF\",\"#FECB52\"],\"font\":{\"color\":\"#2a3f5f\"},\"hovermode\":\"closest\",\"hoverlabel\":{\"align\":\"left\"},\"paper_bgcolor\":\"white\",\"plot_bgcolor\":\"#E5ECF6\",\"polar\":{\"bgcolor\":\"#E5ECF6\",\"angularaxis\":{\"gridcolor\":\"white\",\"linecolor\":\"white\",\"ticks\":\"\"},\"radialaxis\":{\"gridcolor\":\"white\",\"linecolor\":\"white\",\"ticks\":\"\"}},\"ternary\":{\"bgcolor\":\"#E5ECF6\",\"aaxis\":{\"gridcolor\":\"white\",\"linecolor\":\"white\",\"ticks\":\"\"},\"baxis\":{\"gridcolor\":\"white\",\"linecolor\":\"white\",\"ticks\":\"\"},\"caxis\":{\"gridcolor\":\"white\",\"linecolor\":\"white\",\"ticks\":\"\"}},\"coloraxis\":{\"colorbar\":{\"outlinewidth\":0,\"ticks\":\"\"}},\"colorscale\":{\"sequential\":[[0.0,\"#0d0887\"],[0.1111111111111111,\"#46039f\"],[0.2222222222222222,\"#7201a8\"],[0.3333333333333333,\"#9c179e\"],[0.4444444444444444,\"#bd3786\"],[0.5555555555555556,\"#d8576b\"],[0.6666666666666666,\"#ed7953\"],[0.7777777777777778,\"#fb9f3a\"],[0.8888888888888888,\"#fdca26\"],[1.0,\"#f0f921\"]],\"sequentialminus\":[[0.0,\"#0d0887\"],[0.1111111111111111,\"#46039f\"],[0.2222222222222222,\"#7201a8\"],[0.3333333333333333,\"#9c179e\"],[0.4444444444444444,\"#bd3786\"],[0.5555555555555556,\"#d8576b\"],[0.6666666666666666,\"#ed7953\"],[0.7777777777777778,\"#fb9f3a\"],[0.8888888888888888,\"#fdca26\"],[1.0,\"#f0f921\"]],\"diverging\":[[0,\"#8e0152\"],[0.1,\"#c51b7d\"],[0.2,\"#de77ae\"],[0.3,\"#f1b6da\"],[0.4,\"#fde0ef\"],[0.5,\"#f7f7f7\"],[0.6,\"#e6f5d0\"],[0.7,\"#b8e186\"],[0.8,\"#7fbc41\"],[0.9,\"#4d9221\"],[1,\"#276419\"]]},\"xaxis\":{\"gridcolor\":\"white\",\"linecolor\":\"white\",\"ticks\":\"\",\"title\":{\"standoff\":15},\"zerolinecolor\":\"white\",\"automargin\":true,\"zerolinewidth\":2},\"yaxis\":{\"gridcolor\":\"white\",\"linecolor\":\"white\",\"ticks\":\"\",\"title\":{\"standoff\":15},\"zerolinecolor\":\"white\",\"automargin\":true,\"zerolinewidth\":2},\"scene\":{\"xaxis\":{\"backgroundcolor\":\"#E5ECF6\",\"gridcolor\":\"white\",\"linecolor\":\"white\",\"showbackground\":true,\"ticks\":\"\",\"zerolinecolor\":\"white\",\"gridwidth\":2},\"yaxis\":{\"backgroundcolor\":\"#E5ECF6\",\"gridcolor\":\"white\",\"linecolor\":\"white\",\"showbackground\":true,\"ticks\":\"\",\"zerolinecolor\":\"white\",\"gridwidth\":2},\"zaxis\":{\"backgroundcolor\":\"#E5ECF6\",\"gridcolor\":\"white\",\"linecolor\":\"white\",\"showbackground\":true,\"ticks\":\"\",\"zerolinecolor\":\"white\",\"gridwidth\":2}},\"shapedefaults\":{\"line\":{\"color\":\"#2a3f5f\"}},\"annotationdefaults\":{\"arrowcolor\":\"#2a3f5f\",\"arrowhead\":0,\"arrowwidth\":1},\"geo\":{\"bgcolor\":\"white\",\"landcolor\":\"#E5ECF6\",\"subunitcolor\":\"white\",\"showland\":true,\"showlakes\":true,\"lakecolor\":\"white\"},\"title\":{\"x\":0.05},\"mapbox\":{\"style\":\"light\"}}},\"xaxis\":{\"anchor\":\"y\",\"domain\":[0.0,1.0],\"scaleanchor\":\"y\",\"constrain\":\"domain\",\"title\":{\"text\":\"Head\"}},\"yaxis\":{\"anchor\":\"x\",\"domain\":[0.0,1.0],\"autorange\":\"reversed\",\"constrain\":\"domain\",\"title\":{\"text\":\"Layer\"}},\"coloraxis\":{\"colorscale\":[[0.0,\"rgb(103,0,31)\"],[0.1,\"rgb(178,24,43)\"],[0.2,\"rgb(214,96,77)\"],[0.3,\"rgb(244,165,130)\"],[0.4,\"rgb(253,219,199)\"],[0.5,\"rgb(247,247,247)\"],[0.6,\"rgb(209,229,240)\"],[0.7,\"rgb(146,197,222)\"],[0.8,\"rgb(67,147,195)\"],[0.9,\"rgb(33,102,172)\"],[1.0,\"rgb(5,48,97)\"]],\"cmid\":3.8977222442626953},\"title\":{\"text\":\"Ablated logit difference for every head\"}},                        {\"responsive\": true}                    ).then(function(){\n",
              "                            \n",
              "var gd = document.getElementById('1e15672a-fb14-4b5c-a42f-f5329b79d6d8');\n",
              "var x = new MutationObserver(function (mutations, observer) {{\n",
              "        var display = window.getComputedStyle(gd).display;\n",
              "        if (!display || display === 'none') {{\n",
              "            console.log([gd, 'removed!']);\n",
              "            Plotly.purge(gd);\n",
              "            observer.disconnect();\n",
              "        }}\n",
              "}});\n",
              "\n",
              "// Listen for the removal of the full notebook cells\n",
              "var notebookContainer = gd.closest('#notebook-container');\n",
              "if (notebookContainer) {{\n",
              "    x.observe(notebookContainer, {childList: true});\n",
              "}}\n",
              "\n",
              "// Listen for the clearing of the current output cell\n",
              "var outputEl = gd.closest('.output');\n",
              "if (outputEl) {{\n",
              "    x.observe(outputEl, {childList: true});\n",
              "}}\n",
              "\n",
              "                        })                };                            </script>        </div>\n",
              "</body>\n",
              "</html>"
            ]
          },
          "metadata": {}
        }
      ]
    },
    {
      "cell_type": "markdown",
      "source": [
        "ablating some heads like layer 0 head 8 decreases the logit difference whereas ablating some heads like layer 7 head 3 increases the logit difference"
      ],
      "metadata": {
        "id": "X2SKLCBP479W"
      }
    },
    {
      "cell_type": "markdown",
      "source": [
        "### Activation Patching"
      ],
      "metadata": {
        "id": "d_gi0HEnIqL6"
      }
    },
    {
      "cell_type": "code",
      "source": [
        "clean_prompt = \"Mary is a great friend, isn’t\"\n",
        "corrupted_prompt = \"John is a great friend, isn’t\"\n",
        "\n",
        "clean_tokens = model.to_tokens(clean_prompt)\n",
        "corrupted_tokens = model.to_tokens(corrupted_prompt)\n",
        "\n",
        "def logits_to_logit_diff(logits, correct_answer=\" she\", incorrect_answer=\" he\"):\n",
        "    # model.to_single_token maps a string value of a single token to the token index for that token\n",
        "    # If the string is not a single token, it raises an error.\n",
        "    correct_index = model.to_single_token(correct_answer)\n",
        "    incorrect_index = model.to_single_token(incorrect_answer)\n",
        "    return logits[0, -1, correct_index] - logits[0, -1, incorrect_index]\n",
        "\n",
        "# We run on the clean prompt with the cache so we store activations to patch in later.\n",
        "clean_logits, clean_cache = model.run_with_cache(clean_tokens)\n",
        "clean_logit_diff = logits_to_logit_diff(clean_logits)\n",
        "print(f\"Clean logit difference: {clean_logit_diff.item():.3f}\")\n",
        "\n",
        "# We don't need to cache on the corrupted prompt.\n",
        "corrupted_logits = model(corrupted_tokens)\n",
        "corrupted_logit_diff = logits_to_logit_diff(corrupted_logits)\n",
        "print(f\"Corrupted logit difference: {corrupted_logit_diff.item():.3f}\")"
      ],
      "metadata": {
        "colab": {
          "base_uri": "https://localhost:8080/"
        },
        "id": "P0V5rj2EDjxR",
        "outputId": "dc5ed39b-c201-4521-90f8-5fd8d0fd9c9e"
      },
      "execution_count": 26,
      "outputs": [
        {
          "output_type": "stream",
          "name": "stdout",
          "text": [
            "Clean logit difference: 3.898\n",
            "Corrupted logit difference: -4.854\n"
          ]
        }
      ]
    },
    {
      "cell_type": "code",
      "source": [
        "clean_tokens.shape, corrupted_tokens.shape"
      ],
      "metadata": {
        "colab": {
          "base_uri": "https://localhost:8080/"
        },
        "id": "pe7KM-YcDljC",
        "outputId": "9dbe19d5-948f-4ee6-9ea0-86a46b9eb02b"
      },
      "execution_count": 27,
      "outputs": [
        {
          "output_type": "execute_result",
          "data": {
            "text/plain": [
              "(torch.Size([1, 11]), torch.Size([1, 11]))"
            ]
          },
          "metadata": {},
          "execution_count": 27
        }
      ]
    },
    {
      "cell_type": "code",
      "source": [
        "# We define a residual stream patching hook\n",
        "# We choose to act on the residual stream at the start of the layer, so we call it resid_pre\n",
        "# The type annotations are a guide to the reader and are not necessary\n",
        "def residual_stream_patching_hook(\n",
        "    resid_pre: Float[torch.Tensor, \"batch pos d_model\"],\n",
        "    hook: HookPoint,\n",
        "    position: int\n",
        ") -> Float[torch.Tensor, \"batch pos d_model\"]:\n",
        "    # Each HookPoint has a name attribute giving the name of the hook.\n",
        "    clean_resid_pre = clean_cache[hook.name]\n",
        "    resid_pre[:, position, :] = clean_resid_pre[:, position, :]\n",
        "    return resid_pre\n",
        "\n",
        "# We make a tensor to store the results for each patching run. We put it on the model's device to avoid needing to move things between the GPU and CPU, which can be slow.\n",
        "num_positions = len(clean_tokens[0])\n",
        "patching_result = torch.zeros((model.cfg.n_layers, num_positions), device=model.cfg.device)\n",
        "\n",
        "for layer in tqdm.tqdm(range(model.cfg.n_layers)):\n",
        "    for position in range(num_positions):\n",
        "        # Use functools.partial to create a temporary hook function with the position fixed\n",
        "        temp_hook_fn = partial(residual_stream_patching_hook, position=position)\n",
        "        # Run the model with the patching hook\n",
        "        patched_logits = model.run_with_hooks(corrupted_tokens, fwd_hooks=[\n",
        "            (utils.get_act_name(\"resid_pre\", layer), temp_hook_fn)\n",
        "        ])\n",
        "        # Calculate the logit difference\n",
        "        patched_logit_diff = logits_to_logit_diff(patched_logits).detach()\n",
        "        # Store the result, normalizing by the clean and corrupted logit difference so it's between 0 and 1 (ish)\n",
        "        patching_result[layer, position] = (patched_logit_diff - corrupted_logit_diff)/(clean_logit_diff - corrupted_logit_diff)"
      ],
      "metadata": {
        "colab": {
          "base_uri": "https://localhost:8080/",
          "height": 49,
          "referenced_widgets": [
            "f609c260f0ab4c70a773b507af9bd544",
            "eaf2ddd659ec4c539a98394e1bf095fc",
            "b2df08859bae4153903ab75fc1c65c6f",
            "95e3330723984ec0834c913bd236ff23",
            "315da97392f348f4a695726eee49b6a9",
            "cf0ea82d574744c5875ae66d6cdd6ff7",
            "794db4fcc8de4a1da81c93f56feb2ea4",
            "b76842418c5540c4899232275932a23e",
            "7de69f6bae284ea2b0a88bad1a984cce",
            "f508b4f668c0403b9dc3574201c6a0c1",
            "c6e22e927440401693a2c2609a82444d"
          ]
        },
        "id": "2cgajwqlDrmK",
        "outputId": "7a7603be-0cd6-470c-c8b5-8fa801032e63"
      },
      "execution_count": 28,
      "outputs": [
        {
          "output_type": "display_data",
          "data": {
            "text/plain": [
              "  0%|          | 0/12 [00:00<?, ?it/s]"
            ],
            "application/vnd.jupyter.widget-view+json": {
              "version_major": 2,
              "version_minor": 0,
              "model_id": "f609c260f0ab4c70a773b507af9bd544"
            }
          },
          "metadata": {}
        }
      ]
    },
    {
      "cell_type": "code",
      "source": [
        "%matplotlib inline\n",
        "# Add the index to the end of the label, because plotly doesn't like duplicate labels\n",
        "token_labels = [f\"{token}_{index}\" for index, token in enumerate(model.to_str_tokens(clean_tokens))]\n",
        "imshow(patching_result, x=token_labels, xaxis=\"Position\", yaxis=\"Layer\", title=\"Normalized Logit Difference After Patching Residual Stream\")"
      ],
      "metadata": {
        "colab": {
          "base_uri": "https://localhost:8080/",
          "height": 542
        },
        "id": "Zf4wYFlqDul6",
        "outputId": "74683c87-130a-4bfd-e639-d57c13b6dce2"
      },
      "execution_count": 29,
      "outputs": [
        {
          "output_type": "display_data",
          "data": {
            "text/html": [
              "<html>\n",
              "<head><meta charset=\"utf-8\" /></head>\n",
              "<body>\n",
              "    <div>            <script src=\"https://cdnjs.cloudflare.com/ajax/libs/mathjax/2.7.5/MathJax.js?config=TeX-AMS-MML_SVG\"></script><script type=\"text/javascript\">if (window.MathJax && window.MathJax.Hub && window.MathJax.Hub.Config) {window.MathJax.Hub.Config({SVG: {font: \"STIX-Web\"}});}</script>                <script type=\"text/javascript\">window.PlotlyConfig = {MathJaxConfig: 'local'};</script>\n",
              "        <script src=\"https://cdn.plot.ly/plotly-2.18.2.min.js\"></script>                <div id=\"f943fc31-c55b-43e7-8449-82f0ebd27bcc\" class=\"plotly-graph-div\" style=\"height:525px; width:100%;\"></div>            <script type=\"text/javascript\">                                    window.PLOTLYENV=window.PLOTLYENV || {};                                    if (document.getElementById(\"f943fc31-c55b-43e7-8449-82f0ebd27bcc\")) {                    Plotly.newPlot(                        \"f943fc31-c55b-43e7-8449-82f0ebd27bcc\",                        [{\"coloraxis\":\"coloraxis\",\"name\":\"0\",\"x\":[\"<|endoftext|>_0\",\"Mary_1\",\" is_2\",\" a_3\",\" great_4\",\" friend_5\",\",_6\",\" isn_7\",\"\\ufffd_8\",\"\\ufffd_9\",\"t_10\"],\"z\":[[0.0,1.0,0.0,0.0,0.0,0.0,0.0,0.0,0.0,0.0,0.0],[0.0,0.982703447341919,0.0041641658172011375,0.0007026362582109869,0.0018707907292991877,0.0066240462474524975,0.0005478993407450616,0.0035779091995209455,-0.0014822049997746944,-0.0019433645065873861,-0.0007843634812161326],[0.0,0.9616841077804565,0.020483022555708885,-0.0005071447230875492,0.002799866022542119,0.006950955372303724,0.001350351725704968,0.009650351479649544,0.002175905741751194,-0.0019806320779025555,0.0017733719432726502],[0.0,0.8833719491958618,0.07487020641565323,0.005188262555748224,0.005280668847262859,0.015476086176931858,0.005212889518588781,0.02029799297451973,0.005460250657051802,-0.0025189421139657497,0.001440142747014761],[0.0,0.7845048904418945,0.15549466013908386,0.01057332381606102,0.017069876194000244,0.03538723662495613,0.013223247602581978,0.04680747166275978,0.007409063633531332,-0.0026039385702461004,0.002461842028424144],[0.0,0.47677507996559143,0.44564878940582275,0.12776820361614227,0.056949712336063385,0.12220139056444168,0.029560193419456482,0.2811732590198517,0.008137199096381664,-0.000997290131635964,0.014920122921466827],[0.0,0.48189055919647217,0.4070144593715668,0.11544831842184067,0.05923349782824516,0.11936512589454651,0.039311233907938004,0.17924459278583527,0.00729508139193058,-0.0009829062037169933,0.018280964344739914],[0.0,0.3273896872997284,0.40232202410697937,0.16407601535320282,0.08037230372428894,0.2963261604309082,0.12163212895393372,0.20776499807834625,0.004852635785937309,-0.000264360336586833,0.0505693219602108],[0.0,0.3156397044658661,0.39353927969932556,0.17532691359519958,0.0753328949213028,0.28924575448036194,0.11994462460279465,0.23160341382026672,0.004802728071808815,-0.0005239260499365628,0.0732901468873024],[0.0,0.3107716143131256,0.39673295617103577,0.1850389540195465,0.05864005163311958,0.28437328338623047,0.09162233024835587,0.19102072715759277,0.004059772938489914,0.001644787727855146,0.1547146588563919],[0.0,0.1757146269083023,0.2717687487602234,0.06892962008714676,0.03443680331110954,0.18303914368152618,0.16755302250385284,0.2144733965396881,0.010825916193425655,0.016596512869000435,0.49363836646080017],[0.0,0.09984365105628967,0.05237625911831856,0.020146524533629417,0.015214994549751282,0.022085748612880707,0.04398864507675171,0.0018886617617681623,0.005238170735538006,0.025252841413021088,0.8369070887565613]],\"type\":\"heatmap\",\"xaxis\":\"x\",\"yaxis\":\"y\",\"hovertemplate\":\"Position: %{x}<br>Layer: %{y}<br>color: %{z}<extra></extra>\"}],                        {\"template\":{\"data\":{\"histogram2dcontour\":[{\"type\":\"histogram2dcontour\",\"colorbar\":{\"outlinewidth\":0,\"ticks\":\"\"},\"colorscale\":[[0.0,\"#0d0887\"],[0.1111111111111111,\"#46039f\"],[0.2222222222222222,\"#7201a8\"],[0.3333333333333333,\"#9c179e\"],[0.4444444444444444,\"#bd3786\"],[0.5555555555555556,\"#d8576b\"],[0.6666666666666666,\"#ed7953\"],[0.7777777777777778,\"#fb9f3a\"],[0.8888888888888888,\"#fdca26\"],[1.0,\"#f0f921\"]]}],\"choropleth\":[{\"type\":\"choropleth\",\"colorbar\":{\"outlinewidth\":0,\"ticks\":\"\"}}],\"histogram2d\":[{\"type\":\"histogram2d\",\"colorbar\":{\"outlinewidth\":0,\"ticks\":\"\"},\"colorscale\":[[0.0,\"#0d0887\"],[0.1111111111111111,\"#46039f\"],[0.2222222222222222,\"#7201a8\"],[0.3333333333333333,\"#9c179e\"],[0.4444444444444444,\"#bd3786\"],[0.5555555555555556,\"#d8576b\"],[0.6666666666666666,\"#ed7953\"],[0.7777777777777778,\"#fb9f3a\"],[0.8888888888888888,\"#fdca26\"],[1.0,\"#f0f921\"]]}],\"heatmap\":[{\"type\":\"heatmap\",\"colorbar\":{\"outlinewidth\":0,\"ticks\":\"\"},\"colorscale\":[[0.0,\"#0d0887\"],[0.1111111111111111,\"#46039f\"],[0.2222222222222222,\"#7201a8\"],[0.3333333333333333,\"#9c179e\"],[0.4444444444444444,\"#bd3786\"],[0.5555555555555556,\"#d8576b\"],[0.6666666666666666,\"#ed7953\"],[0.7777777777777778,\"#fb9f3a\"],[0.8888888888888888,\"#fdca26\"],[1.0,\"#f0f921\"]]}],\"heatmapgl\":[{\"type\":\"heatmapgl\",\"colorbar\":{\"outlinewidth\":0,\"ticks\":\"\"},\"colorscale\":[[0.0,\"#0d0887\"],[0.1111111111111111,\"#46039f\"],[0.2222222222222222,\"#7201a8\"],[0.3333333333333333,\"#9c179e\"],[0.4444444444444444,\"#bd3786\"],[0.5555555555555556,\"#d8576b\"],[0.6666666666666666,\"#ed7953\"],[0.7777777777777778,\"#fb9f3a\"],[0.8888888888888888,\"#fdca26\"],[1.0,\"#f0f921\"]]}],\"contourcarpet\":[{\"type\":\"contourcarpet\",\"colorbar\":{\"outlinewidth\":0,\"ticks\":\"\"}}],\"contour\":[{\"type\":\"contour\",\"colorbar\":{\"outlinewidth\":0,\"ticks\":\"\"},\"colorscale\":[[0.0,\"#0d0887\"],[0.1111111111111111,\"#46039f\"],[0.2222222222222222,\"#7201a8\"],[0.3333333333333333,\"#9c179e\"],[0.4444444444444444,\"#bd3786\"],[0.5555555555555556,\"#d8576b\"],[0.6666666666666666,\"#ed7953\"],[0.7777777777777778,\"#fb9f3a\"],[0.8888888888888888,\"#fdca26\"],[1.0,\"#f0f921\"]]}],\"surface\":[{\"type\":\"surface\",\"colorbar\":{\"outlinewidth\":0,\"ticks\":\"\"},\"colorscale\":[[0.0,\"#0d0887\"],[0.1111111111111111,\"#46039f\"],[0.2222222222222222,\"#7201a8\"],[0.3333333333333333,\"#9c179e\"],[0.4444444444444444,\"#bd3786\"],[0.5555555555555556,\"#d8576b\"],[0.6666666666666666,\"#ed7953\"],[0.7777777777777778,\"#fb9f3a\"],[0.8888888888888888,\"#fdca26\"],[1.0,\"#f0f921\"]]}],\"mesh3d\":[{\"type\":\"mesh3d\",\"colorbar\":{\"outlinewidth\":0,\"ticks\":\"\"}}],\"scatter\":[{\"fillpattern\":{\"fillmode\":\"overlay\",\"size\":10,\"solidity\":0.2},\"type\":\"scatter\"}],\"parcoords\":[{\"type\":\"parcoords\",\"line\":{\"colorbar\":{\"outlinewidth\":0,\"ticks\":\"\"}}}],\"scatterpolargl\":[{\"type\":\"scatterpolargl\",\"marker\":{\"colorbar\":{\"outlinewidth\":0,\"ticks\":\"\"}}}],\"bar\":[{\"error_x\":{\"color\":\"#2a3f5f\"},\"error_y\":{\"color\":\"#2a3f5f\"},\"marker\":{\"line\":{\"color\":\"#E5ECF6\",\"width\":0.5},\"pattern\":{\"fillmode\":\"overlay\",\"size\":10,\"solidity\":0.2}},\"type\":\"bar\"}],\"scattergeo\":[{\"type\":\"scattergeo\",\"marker\":{\"colorbar\":{\"outlinewidth\":0,\"ticks\":\"\"}}}],\"scatterpolar\":[{\"type\":\"scatterpolar\",\"marker\":{\"colorbar\":{\"outlinewidth\":0,\"ticks\":\"\"}}}],\"histogram\":[{\"marker\":{\"pattern\":{\"fillmode\":\"overlay\",\"size\":10,\"solidity\":0.2}},\"type\":\"histogram\"}],\"scattergl\":[{\"type\":\"scattergl\",\"marker\":{\"colorbar\":{\"outlinewidth\":0,\"ticks\":\"\"}}}],\"scatter3d\":[{\"type\":\"scatter3d\",\"line\":{\"colorbar\":{\"outlinewidth\":0,\"ticks\":\"\"}},\"marker\":{\"colorbar\":{\"outlinewidth\":0,\"ticks\":\"\"}}}],\"scattermapbox\":[{\"type\":\"scattermapbox\",\"marker\":{\"colorbar\":{\"outlinewidth\":0,\"ticks\":\"\"}}}],\"scatterternary\":[{\"type\":\"scatterternary\",\"marker\":{\"colorbar\":{\"outlinewidth\":0,\"ticks\":\"\"}}}],\"scattercarpet\":[{\"type\":\"scattercarpet\",\"marker\":{\"colorbar\":{\"outlinewidth\":0,\"ticks\":\"\"}}}],\"carpet\":[{\"aaxis\":{\"endlinecolor\":\"#2a3f5f\",\"gridcolor\":\"white\",\"linecolor\":\"white\",\"minorgridcolor\":\"white\",\"startlinecolor\":\"#2a3f5f\"},\"baxis\":{\"endlinecolor\":\"#2a3f5f\",\"gridcolor\":\"white\",\"linecolor\":\"white\",\"minorgridcolor\":\"white\",\"startlinecolor\":\"#2a3f5f\"},\"type\":\"carpet\"}],\"table\":[{\"cells\":{\"fill\":{\"color\":\"#EBF0F8\"},\"line\":{\"color\":\"white\"}},\"header\":{\"fill\":{\"color\":\"#C8D4E3\"},\"line\":{\"color\":\"white\"}},\"type\":\"table\"}],\"barpolar\":[{\"marker\":{\"line\":{\"color\":\"#E5ECF6\",\"width\":0.5},\"pattern\":{\"fillmode\":\"overlay\",\"size\":10,\"solidity\":0.2}},\"type\":\"barpolar\"}],\"pie\":[{\"automargin\":true,\"type\":\"pie\"}]},\"layout\":{\"autotypenumbers\":\"strict\",\"colorway\":[\"#636efa\",\"#EF553B\",\"#00cc96\",\"#ab63fa\",\"#FFA15A\",\"#19d3f3\",\"#FF6692\",\"#B6E880\",\"#FF97FF\",\"#FECB52\"],\"font\":{\"color\":\"#2a3f5f\"},\"hovermode\":\"closest\",\"hoverlabel\":{\"align\":\"left\"},\"paper_bgcolor\":\"white\",\"plot_bgcolor\":\"#E5ECF6\",\"polar\":{\"bgcolor\":\"#E5ECF6\",\"angularaxis\":{\"gridcolor\":\"white\",\"linecolor\":\"white\",\"ticks\":\"\"},\"radialaxis\":{\"gridcolor\":\"white\",\"linecolor\":\"white\",\"ticks\":\"\"}},\"ternary\":{\"bgcolor\":\"#E5ECF6\",\"aaxis\":{\"gridcolor\":\"white\",\"linecolor\":\"white\",\"ticks\":\"\"},\"baxis\":{\"gridcolor\":\"white\",\"linecolor\":\"white\",\"ticks\":\"\"},\"caxis\":{\"gridcolor\":\"white\",\"linecolor\":\"white\",\"ticks\":\"\"}},\"coloraxis\":{\"colorbar\":{\"outlinewidth\":0,\"ticks\":\"\"}},\"colorscale\":{\"sequential\":[[0.0,\"#0d0887\"],[0.1111111111111111,\"#46039f\"],[0.2222222222222222,\"#7201a8\"],[0.3333333333333333,\"#9c179e\"],[0.4444444444444444,\"#bd3786\"],[0.5555555555555556,\"#d8576b\"],[0.6666666666666666,\"#ed7953\"],[0.7777777777777778,\"#fb9f3a\"],[0.8888888888888888,\"#fdca26\"],[1.0,\"#f0f921\"]],\"sequentialminus\":[[0.0,\"#0d0887\"],[0.1111111111111111,\"#46039f\"],[0.2222222222222222,\"#7201a8\"],[0.3333333333333333,\"#9c179e\"],[0.4444444444444444,\"#bd3786\"],[0.5555555555555556,\"#d8576b\"],[0.6666666666666666,\"#ed7953\"],[0.7777777777777778,\"#fb9f3a\"],[0.8888888888888888,\"#fdca26\"],[1.0,\"#f0f921\"]],\"diverging\":[[0,\"#8e0152\"],[0.1,\"#c51b7d\"],[0.2,\"#de77ae\"],[0.3,\"#f1b6da\"],[0.4,\"#fde0ef\"],[0.5,\"#f7f7f7\"],[0.6,\"#e6f5d0\"],[0.7,\"#b8e186\"],[0.8,\"#7fbc41\"],[0.9,\"#4d9221\"],[1,\"#276419\"]]},\"xaxis\":{\"gridcolor\":\"white\",\"linecolor\":\"white\",\"ticks\":\"\",\"title\":{\"standoff\":15},\"zerolinecolor\":\"white\",\"automargin\":true,\"zerolinewidth\":2},\"yaxis\":{\"gridcolor\":\"white\",\"linecolor\":\"white\",\"ticks\":\"\",\"title\":{\"standoff\":15},\"zerolinecolor\":\"white\",\"automargin\":true,\"zerolinewidth\":2},\"scene\":{\"xaxis\":{\"backgroundcolor\":\"#E5ECF6\",\"gridcolor\":\"white\",\"linecolor\":\"white\",\"showbackground\":true,\"ticks\":\"\",\"zerolinecolor\":\"white\",\"gridwidth\":2},\"yaxis\":{\"backgroundcolor\":\"#E5ECF6\",\"gridcolor\":\"white\",\"linecolor\":\"white\",\"showbackground\":true,\"ticks\":\"\",\"zerolinecolor\":\"white\",\"gridwidth\":2},\"zaxis\":{\"backgroundcolor\":\"#E5ECF6\",\"gridcolor\":\"white\",\"linecolor\":\"white\",\"showbackground\":true,\"ticks\":\"\",\"zerolinecolor\":\"white\",\"gridwidth\":2}},\"shapedefaults\":{\"line\":{\"color\":\"#2a3f5f\"}},\"annotationdefaults\":{\"arrowcolor\":\"#2a3f5f\",\"arrowhead\":0,\"arrowwidth\":1},\"geo\":{\"bgcolor\":\"white\",\"landcolor\":\"#E5ECF6\",\"subunitcolor\":\"white\",\"showland\":true,\"showlakes\":true,\"lakecolor\":\"white\"},\"title\":{\"x\":0.05},\"mapbox\":{\"style\":\"light\"}}},\"xaxis\":{\"anchor\":\"y\",\"domain\":[0.0,1.0],\"scaleanchor\":\"y\",\"constrain\":\"domain\",\"title\":{\"text\":\"Position\"}},\"yaxis\":{\"anchor\":\"x\",\"domain\":[0.0,1.0],\"autorange\":\"reversed\",\"constrain\":\"domain\",\"title\":{\"text\":\"Layer\"}},\"coloraxis\":{\"colorscale\":[[0.0,\"rgb(103,0,31)\"],[0.1,\"rgb(178,24,43)\"],[0.2,\"rgb(214,96,77)\"],[0.3,\"rgb(244,165,130)\"],[0.4,\"rgb(253,219,199)\"],[0.5,\"rgb(247,247,247)\"],[0.6,\"rgb(209,229,240)\"],[0.7,\"rgb(146,197,222)\"],[0.8,\"rgb(67,147,195)\"],[0.9,\"rgb(33,102,172)\"],[1.0,\"rgb(5,48,97)\"]],\"cmid\":0.0},\"title\":{\"text\":\"Normalized Logit Difference After Patching Residual Stream\"}},                        {\"responsive\": true}                    ).then(function(){\n",
              "                            \n",
              "var gd = document.getElementById('f943fc31-c55b-43e7-8449-82f0ebd27bcc');\n",
              "var x = new MutationObserver(function (mutations, observer) {{\n",
              "        var display = window.getComputedStyle(gd).display;\n",
              "        if (!display || display === 'none') {{\n",
              "            console.log([gd, 'removed!']);\n",
              "            Plotly.purge(gd);\n",
              "            observer.disconnect();\n",
              "        }}\n",
              "}});\n",
              "\n",
              "// Listen for the removal of the full notebook cells\n",
              "var notebookContainer = gd.closest('#notebook-container');\n",
              "if (notebookContainer) {{\n",
              "    x.observe(notebookContainer, {childList: true});\n",
              "}}\n",
              "\n",
              "// Listen for the clearing of the current output cell\n",
              "var outputEl = gd.closest('.output');\n",
              "if (outputEl) {{\n",
              "    x.observe(outputEl, {childList: true});\n",
              "}}\n",
              "\n",
              "                        })                };                            </script>        </div>\n",
              "</body>\n",
              "</html>"
            ]
          },
          "metadata": {}
        }
      ]
    },
    {
      "cell_type": "markdown",
      "source": [
        "Initially, the subject (Mary) token is all that matters, and all relevant information remains here until heads in layer 4 and 5 move this to the \"is\" token, from where heads in layer 9 and 10 move this to the final token where it's used to predict the pronoun.\n",
        "\n",
        "This result is consistent for larger model sizes as well."
      ],
      "metadata": {
        "id": "R2yK2It4dZH3"
      }
    },
    {
      "cell_type": "markdown",
      "source": [
        "### LayerNorm folding bias"
      ],
      "metadata": {
        "id": "TespbQXAskoR"
      }
    },
    {
      "cell_type": "code",
      "source": [
        "he_bias = model.unembed.b_U[model.to_single_token(' he')]\n",
        "she_bias = model.unembed.b_U[model.to_single_token(' she')]\n",
        "\n",
        "print(f\"he bias: {he_bias.item():.4f}\")\n",
        "print(f\"she bias: {she_bias.item():.4f}\")\n",
        "print(f\"Prob ratio bias: {torch.exp(he_bias - she_bias).item():.4f}x\")"
      ],
      "metadata": {
        "colab": {
          "base_uri": "https://localhost:8080/"
        },
        "id": "qKxwX5cesEUN",
        "outputId": "34e3b2e6-00b6-49a5-b0d8-caaefe1da4a9"
      },
      "execution_count": 30,
      "outputs": [
        {
          "output_type": "stream",
          "name": "stdout",
          "text": [
            "he bias: 4.5582\n",
            "she bias: 3.6625\n",
            "Prob ratio bias: 2.4490x\n"
          ]
        }
      ]
    },
    {
      "cell_type": "markdown",
      "source": [
        "The bias created across the unembed due to LayerNorm folding favours \" he\" over \" she\" by about 0.9! All other things being the same, this makes the \" he\" token 2.4x times more likely than the \" she\" token."
      ],
      "metadata": {
        "id": "4Vht_8dasP0Z"
      }
    },
    {
      "cell_type": "markdown",
      "source": [
        "### Analysing circuit formation during training"
      ],
      "metadata": {
        "id": "RPWQzBt4yPO0"
      }
    }
  ]
}